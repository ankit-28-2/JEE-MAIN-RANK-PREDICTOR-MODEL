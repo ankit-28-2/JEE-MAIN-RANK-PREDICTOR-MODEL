{
  "nbformat": 4,
  "nbformat_minor": 0,
  "metadata": {
    "colab": {
      "name": "NLP Task instaminutes intern.ipynb",
      "provenance": [],
      "authorship_tag": "ABX9TyMqqSJD8SsKC3mEQDz0ZcZ1",
      "include_colab_link": true
    },
    "kernelspec": {
      "name": "python3",
      "display_name": "Python 3"
    },
    "language_info": {
      "name": "python"
    },
    "widgets": {
      "application/vnd.jupyter.widget-state+json": {
        "d4efeb75e9f7479b82eb67aa1ca843be": {
          "model_module": "@jupyter-widgets/controls",
          "model_name": "HBoxModel",
          "model_module_version": "1.5.0",
          "state": {
            "_dom_classes": [],
            "_model_module": "@jupyter-widgets/controls",
            "_model_module_version": "1.5.0",
            "_model_name": "HBoxModel",
            "_view_count": null,
            "_view_module": "@jupyter-widgets/controls",
            "_view_module_version": "1.5.0",
            "_view_name": "HBoxView",
            "box_style": "",
            "children": [
              "IPY_MODEL_627724b4b79448e89d43e01fe9006f4d",
              "IPY_MODEL_eb32769b5f7b4182a9558481d46f8505",
              "IPY_MODEL_1d96d81fa02a499fae6dcd57cd61f758"
            ],
            "layout": "IPY_MODEL_f2807c40ca2e471788b5d7f1775b9370"
          }
        },
        "627724b4b79448e89d43e01fe9006f4d": {
          "model_module": "@jupyter-widgets/controls",
          "model_name": "HTMLModel",
          "model_module_version": "1.5.0",
          "state": {
            "_dom_classes": [],
            "_model_module": "@jupyter-widgets/controls",
            "_model_module_version": "1.5.0",
            "_model_name": "HTMLModel",
            "_view_count": null,
            "_view_module": "@jupyter-widgets/controls",
            "_view_module_version": "1.5.0",
            "_view_name": "HTMLView",
            "description": "",
            "description_tooltip": null,
            "layout": "IPY_MODEL_459f2a1fc8b9499aa11ccaeeda9baa29",
            "placeholder": "​",
            "style": "IPY_MODEL_d09a6b3eba1045c0b327dd883ab474d3",
            "value": "Downloading: 100%"
          }
        },
        "eb32769b5f7b4182a9558481d46f8505": {
          "model_module": "@jupyter-widgets/controls",
          "model_name": "FloatProgressModel",
          "model_module_version": "1.5.0",
          "state": {
            "_dom_classes": [],
            "_model_module": "@jupyter-widgets/controls",
            "_model_module_version": "1.5.0",
            "_model_name": "FloatProgressModel",
            "_view_count": null,
            "_view_module": "@jupyter-widgets/controls",
            "_view_module_version": "1.5.0",
            "_view_name": "ProgressView",
            "bar_style": "success",
            "description": "",
            "description_tooltip": null,
            "layout": "IPY_MODEL_2f19ce469c524f85adfa4dae35093415",
            "max": 391,
            "min": 0,
            "orientation": "horizontal",
            "style": "IPY_MODEL_5f7385cf04644803aaa3dab157eb8772",
            "value": 391
          }
        },
        "1d96d81fa02a499fae6dcd57cd61f758": {
          "model_module": "@jupyter-widgets/controls",
          "model_name": "HTMLModel",
          "model_module_version": "1.5.0",
          "state": {
            "_dom_classes": [],
            "_model_module": "@jupyter-widgets/controls",
            "_model_module_version": "1.5.0",
            "_model_name": "HTMLModel",
            "_view_count": null,
            "_view_module": "@jupyter-widgets/controls",
            "_view_module_version": "1.5.0",
            "_view_name": "HTMLView",
            "description": "",
            "description_tooltip": null,
            "layout": "IPY_MODEL_a7f29066e95045ab99acfaf43eed1020",
            "placeholder": "​",
            "style": "IPY_MODEL_53d2032b37554600aac8afbcdec1d095",
            "value": " 391/391 [00:00&lt;00:00, 9.58kB/s]"
          }
        },
        "f2807c40ca2e471788b5d7f1775b9370": {
          "model_module": "@jupyter-widgets/base",
          "model_name": "LayoutModel",
          "model_module_version": "1.2.0",
          "state": {
            "_model_module": "@jupyter-widgets/base",
            "_model_module_version": "1.2.0",
            "_model_name": "LayoutModel",
            "_view_count": null,
            "_view_module": "@jupyter-widgets/base",
            "_view_module_version": "1.2.0",
            "_view_name": "LayoutView",
            "align_content": null,
            "align_items": null,
            "align_self": null,
            "border": null,
            "bottom": null,
            "display": null,
            "flex": null,
            "flex_flow": null,
            "grid_area": null,
            "grid_auto_columns": null,
            "grid_auto_flow": null,
            "grid_auto_rows": null,
            "grid_column": null,
            "grid_gap": null,
            "grid_row": null,
            "grid_template_areas": null,
            "grid_template_columns": null,
            "grid_template_rows": null,
            "height": null,
            "justify_content": null,
            "justify_items": null,
            "left": null,
            "margin": null,
            "max_height": null,
            "max_width": null,
            "min_height": null,
            "min_width": null,
            "object_fit": null,
            "object_position": null,
            "order": null,
            "overflow": null,
            "overflow_x": null,
            "overflow_y": null,
            "padding": null,
            "right": null,
            "top": null,
            "visibility": null,
            "width": null
          }
        },
        "459f2a1fc8b9499aa11ccaeeda9baa29": {
          "model_module": "@jupyter-widgets/base",
          "model_name": "LayoutModel",
          "model_module_version": "1.2.0",
          "state": {
            "_model_module": "@jupyter-widgets/base",
            "_model_module_version": "1.2.0",
            "_model_name": "LayoutModel",
            "_view_count": null,
            "_view_module": "@jupyter-widgets/base",
            "_view_module_version": "1.2.0",
            "_view_name": "LayoutView",
            "align_content": null,
            "align_items": null,
            "align_self": null,
            "border": null,
            "bottom": null,
            "display": null,
            "flex": null,
            "flex_flow": null,
            "grid_area": null,
            "grid_auto_columns": null,
            "grid_auto_flow": null,
            "grid_auto_rows": null,
            "grid_column": null,
            "grid_gap": null,
            "grid_row": null,
            "grid_template_areas": null,
            "grid_template_columns": null,
            "grid_template_rows": null,
            "height": null,
            "justify_content": null,
            "justify_items": null,
            "left": null,
            "margin": null,
            "max_height": null,
            "max_width": null,
            "min_height": null,
            "min_width": null,
            "object_fit": null,
            "object_position": null,
            "order": null,
            "overflow": null,
            "overflow_x": null,
            "overflow_y": null,
            "padding": null,
            "right": null,
            "top": null,
            "visibility": null,
            "width": null
          }
        },
        "d09a6b3eba1045c0b327dd883ab474d3": {
          "model_module": "@jupyter-widgets/controls",
          "model_name": "DescriptionStyleModel",
          "model_module_version": "1.5.0",
          "state": {
            "_model_module": "@jupyter-widgets/controls",
            "_model_module_version": "1.5.0",
            "_model_name": "DescriptionStyleModel",
            "_view_count": null,
            "_view_module": "@jupyter-widgets/base",
            "_view_module_version": "1.2.0",
            "_view_name": "StyleView",
            "description_width": ""
          }
        },
        "2f19ce469c524f85adfa4dae35093415": {
          "model_module": "@jupyter-widgets/base",
          "model_name": "LayoutModel",
          "model_module_version": "1.2.0",
          "state": {
            "_model_module": "@jupyter-widgets/base",
            "_model_module_version": "1.2.0",
            "_model_name": "LayoutModel",
            "_view_count": null,
            "_view_module": "@jupyter-widgets/base",
            "_view_module_version": "1.2.0",
            "_view_name": "LayoutView",
            "align_content": null,
            "align_items": null,
            "align_self": null,
            "border": null,
            "bottom": null,
            "display": null,
            "flex": null,
            "flex_flow": null,
            "grid_area": null,
            "grid_auto_columns": null,
            "grid_auto_flow": null,
            "grid_auto_rows": null,
            "grid_column": null,
            "grid_gap": null,
            "grid_row": null,
            "grid_template_areas": null,
            "grid_template_columns": null,
            "grid_template_rows": null,
            "height": null,
            "justify_content": null,
            "justify_items": null,
            "left": null,
            "margin": null,
            "max_height": null,
            "max_width": null,
            "min_height": null,
            "min_width": null,
            "object_fit": null,
            "object_position": null,
            "order": null,
            "overflow": null,
            "overflow_x": null,
            "overflow_y": null,
            "padding": null,
            "right": null,
            "top": null,
            "visibility": null,
            "width": null
          }
        },
        "5f7385cf04644803aaa3dab157eb8772": {
          "model_module": "@jupyter-widgets/controls",
          "model_name": "ProgressStyleModel",
          "model_module_version": "1.5.0",
          "state": {
            "_model_module": "@jupyter-widgets/controls",
            "_model_module_version": "1.5.0",
            "_model_name": "ProgressStyleModel",
            "_view_count": null,
            "_view_module": "@jupyter-widgets/base",
            "_view_module_version": "1.2.0",
            "_view_name": "StyleView",
            "bar_color": null,
            "description_width": ""
          }
        },
        "a7f29066e95045ab99acfaf43eed1020": {
          "model_module": "@jupyter-widgets/base",
          "model_name": "LayoutModel",
          "model_module_version": "1.2.0",
          "state": {
            "_model_module": "@jupyter-widgets/base",
            "_model_module_version": "1.2.0",
            "_model_name": "LayoutModel",
            "_view_count": null,
            "_view_module": "@jupyter-widgets/base",
            "_view_module_version": "1.2.0",
            "_view_name": "LayoutView",
            "align_content": null,
            "align_items": null,
            "align_self": null,
            "border": null,
            "bottom": null,
            "display": null,
            "flex": null,
            "flex_flow": null,
            "grid_area": null,
            "grid_auto_columns": null,
            "grid_auto_flow": null,
            "grid_auto_rows": null,
            "grid_column": null,
            "grid_gap": null,
            "grid_row": null,
            "grid_template_areas": null,
            "grid_template_columns": null,
            "grid_template_rows": null,
            "height": null,
            "justify_content": null,
            "justify_items": null,
            "left": null,
            "margin": null,
            "max_height": null,
            "max_width": null,
            "min_height": null,
            "min_width": null,
            "object_fit": null,
            "object_position": null,
            "order": null,
            "overflow": null,
            "overflow_x": null,
            "overflow_y": null,
            "padding": null,
            "right": null,
            "top": null,
            "visibility": null,
            "width": null
          }
        },
        "53d2032b37554600aac8afbcdec1d095": {
          "model_module": "@jupyter-widgets/controls",
          "model_name": "DescriptionStyleModel",
          "model_module_version": "1.5.0",
          "state": {
            "_model_module": "@jupyter-widgets/controls",
            "_model_module_version": "1.5.0",
            "_model_name": "DescriptionStyleModel",
            "_view_count": null,
            "_view_module": "@jupyter-widgets/base",
            "_view_module_version": "1.2.0",
            "_view_name": "StyleView",
            "description_width": ""
          }
        },
        "0282b4e960854ac2bf31b8e5c544cfec": {
          "model_module": "@jupyter-widgets/controls",
          "model_name": "HBoxModel",
          "model_module_version": "1.5.0",
          "state": {
            "_dom_classes": [],
            "_model_module": "@jupyter-widgets/controls",
            "_model_module_version": "1.5.0",
            "_model_name": "HBoxModel",
            "_view_count": null,
            "_view_module": "@jupyter-widgets/controls",
            "_view_module_version": "1.5.0",
            "_view_name": "HBoxView",
            "box_style": "",
            "children": [
              "IPY_MODEL_f369aa5dcc224391aaddccb82bc6cf21",
              "IPY_MODEL_8ad4a88a954641ada8b914b2869c69c2",
              "IPY_MODEL_1254738b398a49a1a1227fd1062bb947"
            ],
            "layout": "IPY_MODEL_5882583d430649b0a03dab074d2cc39f"
          }
        },
        "f369aa5dcc224391aaddccb82bc6cf21": {
          "model_module": "@jupyter-widgets/controls",
          "model_name": "HTMLModel",
          "model_module_version": "1.5.0",
          "state": {
            "_dom_classes": [],
            "_model_module": "@jupyter-widgets/controls",
            "_model_module_version": "1.5.0",
            "_model_name": "HTMLModel",
            "_view_count": null,
            "_view_module": "@jupyter-widgets/controls",
            "_view_module_version": "1.5.0",
            "_view_name": "HTMLView",
            "description": "",
            "description_tooltip": null,
            "layout": "IPY_MODEL_7a53f37091224fcf8a5e10ca485ea59e",
            "placeholder": "​",
            "style": "IPY_MODEL_64b4be186b5b47929f30bb09da43328c",
            "value": "Downloading: 100%"
          }
        },
        "8ad4a88a954641ada8b914b2869c69c2": {
          "model_module": "@jupyter-widgets/controls",
          "model_name": "FloatProgressModel",
          "model_module_version": "1.5.0",
          "state": {
            "_dom_classes": [],
            "_model_module": "@jupyter-widgets/controls",
            "_model_module_version": "1.5.0",
            "_model_name": "FloatProgressModel",
            "_view_count": null,
            "_view_module": "@jupyter-widgets/controls",
            "_view_module_version": "1.5.0",
            "_view_name": "ProgressView",
            "bar_style": "success",
            "description": "",
            "description_tooltip": null,
            "layout": "IPY_MODEL_cf789f00a6bf4f21a9166633be4dd947",
            "max": 190,
            "min": 0,
            "orientation": "horizontal",
            "style": "IPY_MODEL_e09c8d45ae4a48f793c909c3de86773c",
            "value": 190
          }
        },
        "1254738b398a49a1a1227fd1062bb947": {
          "model_module": "@jupyter-widgets/controls",
          "model_name": "HTMLModel",
          "model_module_version": "1.5.0",
          "state": {
            "_dom_classes": [],
            "_model_module": "@jupyter-widgets/controls",
            "_model_module_version": "1.5.0",
            "_model_name": "HTMLModel",
            "_view_count": null,
            "_view_module": "@jupyter-widgets/controls",
            "_view_module_version": "1.5.0",
            "_view_name": "HTMLView",
            "description": "",
            "description_tooltip": null,
            "layout": "IPY_MODEL_74b39027b8cf4af180ad06828eb9f9f7",
            "placeholder": "​",
            "style": "IPY_MODEL_68ce0ee32bc040e684819e6807293af5",
            "value": " 190/190 [00:00&lt;00:00, 3.71kB/s]"
          }
        },
        "5882583d430649b0a03dab074d2cc39f": {
          "model_module": "@jupyter-widgets/base",
          "model_name": "LayoutModel",
          "model_module_version": "1.2.0",
          "state": {
            "_model_module": "@jupyter-widgets/base",
            "_model_module_version": "1.2.0",
            "_model_name": "LayoutModel",
            "_view_count": null,
            "_view_module": "@jupyter-widgets/base",
            "_view_module_version": "1.2.0",
            "_view_name": "LayoutView",
            "align_content": null,
            "align_items": null,
            "align_self": null,
            "border": null,
            "bottom": null,
            "display": null,
            "flex": null,
            "flex_flow": null,
            "grid_area": null,
            "grid_auto_columns": null,
            "grid_auto_flow": null,
            "grid_auto_rows": null,
            "grid_column": null,
            "grid_gap": null,
            "grid_row": null,
            "grid_template_areas": null,
            "grid_template_columns": null,
            "grid_template_rows": null,
            "height": null,
            "justify_content": null,
            "justify_items": null,
            "left": null,
            "margin": null,
            "max_height": null,
            "max_width": null,
            "min_height": null,
            "min_width": null,
            "object_fit": null,
            "object_position": null,
            "order": null,
            "overflow": null,
            "overflow_x": null,
            "overflow_y": null,
            "padding": null,
            "right": null,
            "top": null,
            "visibility": null,
            "width": null
          }
        },
        "7a53f37091224fcf8a5e10ca485ea59e": {
          "model_module": "@jupyter-widgets/base",
          "model_name": "LayoutModel",
          "model_module_version": "1.2.0",
          "state": {
            "_model_module": "@jupyter-widgets/base",
            "_model_module_version": "1.2.0",
            "_model_name": "LayoutModel",
            "_view_count": null,
            "_view_module": "@jupyter-widgets/base",
            "_view_module_version": "1.2.0",
            "_view_name": "LayoutView",
            "align_content": null,
            "align_items": null,
            "align_self": null,
            "border": null,
            "bottom": null,
            "display": null,
            "flex": null,
            "flex_flow": null,
            "grid_area": null,
            "grid_auto_columns": null,
            "grid_auto_flow": null,
            "grid_auto_rows": null,
            "grid_column": null,
            "grid_gap": null,
            "grid_row": null,
            "grid_template_areas": null,
            "grid_template_columns": null,
            "grid_template_rows": null,
            "height": null,
            "justify_content": null,
            "justify_items": null,
            "left": null,
            "margin": null,
            "max_height": null,
            "max_width": null,
            "min_height": null,
            "min_width": null,
            "object_fit": null,
            "object_position": null,
            "order": null,
            "overflow": null,
            "overflow_x": null,
            "overflow_y": null,
            "padding": null,
            "right": null,
            "top": null,
            "visibility": null,
            "width": null
          }
        },
        "64b4be186b5b47929f30bb09da43328c": {
          "model_module": "@jupyter-widgets/controls",
          "model_name": "DescriptionStyleModel",
          "model_module_version": "1.5.0",
          "state": {
            "_model_module": "@jupyter-widgets/controls",
            "_model_module_version": "1.5.0",
            "_model_name": "DescriptionStyleModel",
            "_view_count": null,
            "_view_module": "@jupyter-widgets/base",
            "_view_module_version": "1.2.0",
            "_view_name": "StyleView",
            "description_width": ""
          }
        },
        "cf789f00a6bf4f21a9166633be4dd947": {
          "model_module": "@jupyter-widgets/base",
          "model_name": "LayoutModel",
          "model_module_version": "1.2.0",
          "state": {
            "_model_module": "@jupyter-widgets/base",
            "_model_module_version": "1.2.0",
            "_model_name": "LayoutModel",
            "_view_count": null,
            "_view_module": "@jupyter-widgets/base",
            "_view_module_version": "1.2.0",
            "_view_name": "LayoutView",
            "align_content": null,
            "align_items": null,
            "align_self": null,
            "border": null,
            "bottom": null,
            "display": null,
            "flex": null,
            "flex_flow": null,
            "grid_area": null,
            "grid_auto_columns": null,
            "grid_auto_flow": null,
            "grid_auto_rows": null,
            "grid_column": null,
            "grid_gap": null,
            "grid_row": null,
            "grid_template_areas": null,
            "grid_template_columns": null,
            "grid_template_rows": null,
            "height": null,
            "justify_content": null,
            "justify_items": null,
            "left": null,
            "margin": null,
            "max_height": null,
            "max_width": null,
            "min_height": null,
            "min_width": null,
            "object_fit": null,
            "object_position": null,
            "order": null,
            "overflow": null,
            "overflow_x": null,
            "overflow_y": null,
            "padding": null,
            "right": null,
            "top": null,
            "visibility": null,
            "width": null
          }
        },
        "e09c8d45ae4a48f793c909c3de86773c": {
          "model_module": "@jupyter-widgets/controls",
          "model_name": "ProgressStyleModel",
          "model_module_version": "1.5.0",
          "state": {
            "_model_module": "@jupyter-widgets/controls",
            "_model_module_version": "1.5.0",
            "_model_name": "ProgressStyleModel",
            "_view_count": null,
            "_view_module": "@jupyter-widgets/base",
            "_view_module_version": "1.2.0",
            "_view_name": "StyleView",
            "bar_color": null,
            "description_width": ""
          }
        },
        "74b39027b8cf4af180ad06828eb9f9f7": {
          "model_module": "@jupyter-widgets/base",
          "model_name": "LayoutModel",
          "model_module_version": "1.2.0",
          "state": {
            "_model_module": "@jupyter-widgets/base",
            "_model_module_version": "1.2.0",
            "_model_name": "LayoutModel",
            "_view_count": null,
            "_view_module": "@jupyter-widgets/base",
            "_view_module_version": "1.2.0",
            "_view_name": "LayoutView",
            "align_content": null,
            "align_items": null,
            "align_self": null,
            "border": null,
            "bottom": null,
            "display": null,
            "flex": null,
            "flex_flow": null,
            "grid_area": null,
            "grid_auto_columns": null,
            "grid_auto_flow": null,
            "grid_auto_rows": null,
            "grid_column": null,
            "grid_gap": null,
            "grid_row": null,
            "grid_template_areas": null,
            "grid_template_columns": null,
            "grid_template_rows": null,
            "height": null,
            "justify_content": null,
            "justify_items": null,
            "left": null,
            "margin": null,
            "max_height": null,
            "max_width": null,
            "min_height": null,
            "min_width": null,
            "object_fit": null,
            "object_position": null,
            "order": null,
            "overflow": null,
            "overflow_x": null,
            "overflow_y": null,
            "padding": null,
            "right": null,
            "top": null,
            "visibility": null,
            "width": null
          }
        },
        "68ce0ee32bc040e684819e6807293af5": {
          "model_module": "@jupyter-widgets/controls",
          "model_name": "DescriptionStyleModel",
          "model_module_version": "1.5.0",
          "state": {
            "_model_module": "@jupyter-widgets/controls",
            "_model_module_version": "1.5.0",
            "_model_name": "DescriptionStyleModel",
            "_view_count": null,
            "_view_module": "@jupyter-widgets/base",
            "_view_module_version": "1.2.0",
            "_view_name": "StyleView",
            "description_width": ""
          }
        },
        "857209a2c458449e9696ba63fa633f31": {
          "model_module": "@jupyter-widgets/controls",
          "model_name": "HBoxModel",
          "model_module_version": "1.5.0",
          "state": {
            "_dom_classes": [],
            "_model_module": "@jupyter-widgets/controls",
            "_model_module_version": "1.5.0",
            "_model_name": "HBoxModel",
            "_view_count": null,
            "_view_module": "@jupyter-widgets/controls",
            "_view_module_version": "1.5.0",
            "_view_name": "HBoxView",
            "box_style": "",
            "children": [
              "IPY_MODEL_d78aa9342f9945b4807d334956271214",
              "IPY_MODEL_3958f4f371b74535a95af7d04ecffd26",
              "IPY_MODEL_bb6f3739b103423d86a6ed673120fe13"
            ],
            "layout": "IPY_MODEL_ec2fcd31edac45a5a4cdc41855996cc7"
          }
        },
        "d78aa9342f9945b4807d334956271214": {
          "model_module": "@jupyter-widgets/controls",
          "model_name": "HTMLModel",
          "model_module_version": "1.5.0",
          "state": {
            "_dom_classes": [],
            "_model_module": "@jupyter-widgets/controls",
            "_model_module_version": "1.5.0",
            "_model_name": "HTMLModel",
            "_view_count": null,
            "_view_module": "@jupyter-widgets/controls",
            "_view_module_version": "1.5.0",
            "_view_name": "HTMLView",
            "description": "",
            "description_tooltip": null,
            "layout": "IPY_MODEL_6f3f9ff3ba92444797a86cc439721492",
            "placeholder": "​",
            "style": "IPY_MODEL_e11895bb7b984be380015298ba2e9afd",
            "value": "Downloading: 100%"
          }
        },
        "3958f4f371b74535a95af7d04ecffd26": {
          "model_module": "@jupyter-widgets/controls",
          "model_name": "FloatProgressModel",
          "model_module_version": "1.5.0",
          "state": {
            "_dom_classes": [],
            "_model_module": "@jupyter-widgets/controls",
            "_model_module_version": "1.5.0",
            "_model_name": "FloatProgressModel",
            "_view_count": null,
            "_view_module": "@jupyter-widgets/controls",
            "_view_module_version": "1.5.0",
            "_view_name": "ProgressView",
            "bar_style": "success",
            "description": "",
            "description_tooltip": null,
            "layout": "IPY_MODEL_c5c47e5e40694885b9310b5e5f9ef18b",
            "max": 3951,
            "min": 0,
            "orientation": "horizontal",
            "style": "IPY_MODEL_112c2bd7a44841cab0b6595a13d3d42a",
            "value": 3951
          }
        },
        "bb6f3739b103423d86a6ed673120fe13": {
          "model_module": "@jupyter-widgets/controls",
          "model_name": "HTMLModel",
          "model_module_version": "1.5.0",
          "state": {
            "_dom_classes": [],
            "_model_module": "@jupyter-widgets/controls",
            "_model_module_version": "1.5.0",
            "_model_name": "HTMLModel",
            "_view_count": null,
            "_view_module": "@jupyter-widgets/controls",
            "_view_module_version": "1.5.0",
            "_view_name": "HTMLView",
            "description": "",
            "description_tooltip": null,
            "layout": "IPY_MODEL_dffb3d0b203b44b2b345566543a0f066",
            "placeholder": "​",
            "style": "IPY_MODEL_a5cc2150f31e44038f2de1af7dd373ac",
            "value": " 3.95k/3.95k [00:00&lt;00:00, 113kB/s]"
          }
        },
        "ec2fcd31edac45a5a4cdc41855996cc7": {
          "model_module": "@jupyter-widgets/base",
          "model_name": "LayoutModel",
          "model_module_version": "1.2.0",
          "state": {
            "_model_module": "@jupyter-widgets/base",
            "_model_module_version": "1.2.0",
            "_model_name": "LayoutModel",
            "_view_count": null,
            "_view_module": "@jupyter-widgets/base",
            "_view_module_version": "1.2.0",
            "_view_name": "LayoutView",
            "align_content": null,
            "align_items": null,
            "align_self": null,
            "border": null,
            "bottom": null,
            "display": null,
            "flex": null,
            "flex_flow": null,
            "grid_area": null,
            "grid_auto_columns": null,
            "grid_auto_flow": null,
            "grid_auto_rows": null,
            "grid_column": null,
            "grid_gap": null,
            "grid_row": null,
            "grid_template_areas": null,
            "grid_template_columns": null,
            "grid_template_rows": null,
            "height": null,
            "justify_content": null,
            "justify_items": null,
            "left": null,
            "margin": null,
            "max_height": null,
            "max_width": null,
            "min_height": null,
            "min_width": null,
            "object_fit": null,
            "object_position": null,
            "order": null,
            "overflow": null,
            "overflow_x": null,
            "overflow_y": null,
            "padding": null,
            "right": null,
            "top": null,
            "visibility": null,
            "width": null
          }
        },
        "6f3f9ff3ba92444797a86cc439721492": {
          "model_module": "@jupyter-widgets/base",
          "model_name": "LayoutModel",
          "model_module_version": "1.2.0",
          "state": {
            "_model_module": "@jupyter-widgets/base",
            "_model_module_version": "1.2.0",
            "_model_name": "LayoutModel",
            "_view_count": null,
            "_view_module": "@jupyter-widgets/base",
            "_view_module_version": "1.2.0",
            "_view_name": "LayoutView",
            "align_content": null,
            "align_items": null,
            "align_self": null,
            "border": null,
            "bottom": null,
            "display": null,
            "flex": null,
            "flex_flow": null,
            "grid_area": null,
            "grid_auto_columns": null,
            "grid_auto_flow": null,
            "grid_auto_rows": null,
            "grid_column": null,
            "grid_gap": null,
            "grid_row": null,
            "grid_template_areas": null,
            "grid_template_columns": null,
            "grid_template_rows": null,
            "height": null,
            "justify_content": null,
            "justify_items": null,
            "left": null,
            "margin": null,
            "max_height": null,
            "max_width": null,
            "min_height": null,
            "min_width": null,
            "object_fit": null,
            "object_position": null,
            "order": null,
            "overflow": null,
            "overflow_x": null,
            "overflow_y": null,
            "padding": null,
            "right": null,
            "top": null,
            "visibility": null,
            "width": null
          }
        },
        "e11895bb7b984be380015298ba2e9afd": {
          "model_module": "@jupyter-widgets/controls",
          "model_name": "DescriptionStyleModel",
          "model_module_version": "1.5.0",
          "state": {
            "_model_module": "@jupyter-widgets/controls",
            "_model_module_version": "1.5.0",
            "_model_name": "DescriptionStyleModel",
            "_view_count": null,
            "_view_module": "@jupyter-widgets/base",
            "_view_module_version": "1.2.0",
            "_view_name": "StyleView",
            "description_width": ""
          }
        },
        "c5c47e5e40694885b9310b5e5f9ef18b": {
          "model_module": "@jupyter-widgets/base",
          "model_name": "LayoutModel",
          "model_module_version": "1.2.0",
          "state": {
            "_model_module": "@jupyter-widgets/base",
            "_model_module_version": "1.2.0",
            "_model_name": "LayoutModel",
            "_view_count": null,
            "_view_module": "@jupyter-widgets/base",
            "_view_module_version": "1.2.0",
            "_view_name": "LayoutView",
            "align_content": null,
            "align_items": null,
            "align_self": null,
            "border": null,
            "bottom": null,
            "display": null,
            "flex": null,
            "flex_flow": null,
            "grid_area": null,
            "grid_auto_columns": null,
            "grid_auto_flow": null,
            "grid_auto_rows": null,
            "grid_column": null,
            "grid_gap": null,
            "grid_row": null,
            "grid_template_areas": null,
            "grid_template_columns": null,
            "grid_template_rows": null,
            "height": null,
            "justify_content": null,
            "justify_items": null,
            "left": null,
            "margin": null,
            "max_height": null,
            "max_width": null,
            "min_height": null,
            "min_width": null,
            "object_fit": null,
            "object_position": null,
            "order": null,
            "overflow": null,
            "overflow_x": null,
            "overflow_y": null,
            "padding": null,
            "right": null,
            "top": null,
            "visibility": null,
            "width": null
          }
        },
        "112c2bd7a44841cab0b6595a13d3d42a": {
          "model_module": "@jupyter-widgets/controls",
          "model_name": "ProgressStyleModel",
          "model_module_version": "1.5.0",
          "state": {
            "_model_module": "@jupyter-widgets/controls",
            "_model_module_version": "1.5.0",
            "_model_name": "ProgressStyleModel",
            "_view_count": null,
            "_view_module": "@jupyter-widgets/base",
            "_view_module_version": "1.2.0",
            "_view_name": "StyleView",
            "bar_color": null,
            "description_width": ""
          }
        },
        "dffb3d0b203b44b2b345566543a0f066": {
          "model_module": "@jupyter-widgets/base",
          "model_name": "LayoutModel",
          "model_module_version": "1.2.0",
          "state": {
            "_model_module": "@jupyter-widgets/base",
            "_model_module_version": "1.2.0",
            "_model_name": "LayoutModel",
            "_view_count": null,
            "_view_module": "@jupyter-widgets/base",
            "_view_module_version": "1.2.0",
            "_view_name": "LayoutView",
            "align_content": null,
            "align_items": null,
            "align_self": null,
            "border": null,
            "bottom": null,
            "display": null,
            "flex": null,
            "flex_flow": null,
            "grid_area": null,
            "grid_auto_columns": null,
            "grid_auto_flow": null,
            "grid_auto_rows": null,
            "grid_column": null,
            "grid_gap": null,
            "grid_row": null,
            "grid_template_areas": null,
            "grid_template_columns": null,
            "grid_template_rows": null,
            "height": null,
            "justify_content": null,
            "justify_items": null,
            "left": null,
            "margin": null,
            "max_height": null,
            "max_width": null,
            "min_height": null,
            "min_width": null,
            "object_fit": null,
            "object_position": null,
            "order": null,
            "overflow": null,
            "overflow_x": null,
            "overflow_y": null,
            "padding": null,
            "right": null,
            "top": null,
            "visibility": null,
            "width": null
          }
        },
        "a5cc2150f31e44038f2de1af7dd373ac": {
          "model_module": "@jupyter-widgets/controls",
          "model_name": "DescriptionStyleModel",
          "model_module_version": "1.5.0",
          "state": {
            "_model_module": "@jupyter-widgets/controls",
            "_model_module_version": "1.5.0",
            "_model_name": "DescriptionStyleModel",
            "_view_count": null,
            "_view_module": "@jupyter-widgets/base",
            "_view_module_version": "1.2.0",
            "_view_name": "StyleView",
            "description_width": ""
          }
        },
        "d7ad674e5377403e923da130b51c89e3": {
          "model_module": "@jupyter-widgets/controls",
          "model_name": "HBoxModel",
          "model_module_version": "1.5.0",
          "state": {
            "_dom_classes": [],
            "_model_module": "@jupyter-widgets/controls",
            "_model_module_version": "1.5.0",
            "_model_name": "HBoxModel",
            "_view_count": null,
            "_view_module": "@jupyter-widgets/controls",
            "_view_module_version": "1.5.0",
            "_view_name": "HBoxView",
            "box_style": "",
            "children": [
              "IPY_MODEL_c6fd0fac05694473bf24c5a109f98407",
              "IPY_MODEL_5d3ee0a87f144786ab36ab66739f4b98",
              "IPY_MODEL_fded428837b84440b56b23604f26599a"
            ],
            "layout": "IPY_MODEL_8c901d0b85814ba6a4e70977fbf86863"
          }
        },
        "c6fd0fac05694473bf24c5a109f98407": {
          "model_module": "@jupyter-widgets/controls",
          "model_name": "HTMLModel",
          "model_module_version": "1.5.0",
          "state": {
            "_dom_classes": [],
            "_model_module": "@jupyter-widgets/controls",
            "_model_module_version": "1.5.0",
            "_model_name": "HTMLModel",
            "_view_count": null,
            "_view_module": "@jupyter-widgets/controls",
            "_view_module_version": "1.5.0",
            "_view_name": "HTMLView",
            "description": "",
            "description_tooltip": null,
            "layout": "IPY_MODEL_c8a8002990b344379bf921ace094fe5e",
            "placeholder": "​",
            "style": "IPY_MODEL_beac6953f1ec42cd9c5ee8f462ca478c",
            "value": "Downloading: 100%"
          }
        },
        "5d3ee0a87f144786ab36ab66739f4b98": {
          "model_module": "@jupyter-widgets/controls",
          "model_name": "FloatProgressModel",
          "model_module_version": "1.5.0",
          "state": {
            "_dom_classes": [],
            "_model_module": "@jupyter-widgets/controls",
            "_model_module_version": "1.5.0",
            "_model_name": "FloatProgressModel",
            "_view_count": null,
            "_view_module": "@jupyter-widgets/controls",
            "_view_module_version": "1.5.0",
            "_view_name": "ProgressView",
            "bar_style": "success",
            "description": "",
            "description_tooltip": null,
            "layout": "IPY_MODEL_b1cdb6add13d42498796b7f27c9a5cc4",
            "max": 2,
            "min": 0,
            "orientation": "horizontal",
            "style": "IPY_MODEL_6fbbdb1c30a649c289fd47df072e1d7c",
            "value": 2
          }
        },
        "fded428837b84440b56b23604f26599a": {
          "model_module": "@jupyter-widgets/controls",
          "model_name": "HTMLModel",
          "model_module_version": "1.5.0",
          "state": {
            "_dom_classes": [],
            "_model_module": "@jupyter-widgets/controls",
            "_model_module_version": "1.5.0",
            "_model_name": "HTMLModel",
            "_view_count": null,
            "_view_module": "@jupyter-widgets/controls",
            "_view_module_version": "1.5.0",
            "_view_name": "HTMLView",
            "description": "",
            "description_tooltip": null,
            "layout": "IPY_MODEL_2bb973e954cf48ecb0de035537d78fa3",
            "placeholder": "​",
            "style": "IPY_MODEL_067394b9d49141a4939fc3c59b9e0d0c",
            "value": " 2.00/2.00 [00:00&lt;00:00, 47.6B/s]"
          }
        },
        "8c901d0b85814ba6a4e70977fbf86863": {
          "model_module": "@jupyter-widgets/base",
          "model_name": "LayoutModel",
          "model_module_version": "1.2.0",
          "state": {
            "_model_module": "@jupyter-widgets/base",
            "_model_module_version": "1.2.0",
            "_model_name": "LayoutModel",
            "_view_count": null,
            "_view_module": "@jupyter-widgets/base",
            "_view_module_version": "1.2.0",
            "_view_name": "LayoutView",
            "align_content": null,
            "align_items": null,
            "align_self": null,
            "border": null,
            "bottom": null,
            "display": null,
            "flex": null,
            "flex_flow": null,
            "grid_area": null,
            "grid_auto_columns": null,
            "grid_auto_flow": null,
            "grid_auto_rows": null,
            "grid_column": null,
            "grid_gap": null,
            "grid_row": null,
            "grid_template_areas": null,
            "grid_template_columns": null,
            "grid_template_rows": null,
            "height": null,
            "justify_content": null,
            "justify_items": null,
            "left": null,
            "margin": null,
            "max_height": null,
            "max_width": null,
            "min_height": null,
            "min_width": null,
            "object_fit": null,
            "object_position": null,
            "order": null,
            "overflow": null,
            "overflow_x": null,
            "overflow_y": null,
            "padding": null,
            "right": null,
            "top": null,
            "visibility": null,
            "width": null
          }
        },
        "c8a8002990b344379bf921ace094fe5e": {
          "model_module": "@jupyter-widgets/base",
          "model_name": "LayoutModel",
          "model_module_version": "1.2.0",
          "state": {
            "_model_module": "@jupyter-widgets/base",
            "_model_module_version": "1.2.0",
            "_model_name": "LayoutModel",
            "_view_count": null,
            "_view_module": "@jupyter-widgets/base",
            "_view_module_version": "1.2.0",
            "_view_name": "LayoutView",
            "align_content": null,
            "align_items": null,
            "align_self": null,
            "border": null,
            "bottom": null,
            "display": null,
            "flex": null,
            "flex_flow": null,
            "grid_area": null,
            "grid_auto_columns": null,
            "grid_auto_flow": null,
            "grid_auto_rows": null,
            "grid_column": null,
            "grid_gap": null,
            "grid_row": null,
            "grid_template_areas": null,
            "grid_template_columns": null,
            "grid_template_rows": null,
            "height": null,
            "justify_content": null,
            "justify_items": null,
            "left": null,
            "margin": null,
            "max_height": null,
            "max_width": null,
            "min_height": null,
            "min_width": null,
            "object_fit": null,
            "object_position": null,
            "order": null,
            "overflow": null,
            "overflow_x": null,
            "overflow_y": null,
            "padding": null,
            "right": null,
            "top": null,
            "visibility": null,
            "width": null
          }
        },
        "beac6953f1ec42cd9c5ee8f462ca478c": {
          "model_module": "@jupyter-widgets/controls",
          "model_name": "DescriptionStyleModel",
          "model_module_version": "1.5.0",
          "state": {
            "_model_module": "@jupyter-widgets/controls",
            "_model_module_version": "1.5.0",
            "_model_name": "DescriptionStyleModel",
            "_view_count": null,
            "_view_module": "@jupyter-widgets/base",
            "_view_module_version": "1.2.0",
            "_view_name": "StyleView",
            "description_width": ""
          }
        },
        "b1cdb6add13d42498796b7f27c9a5cc4": {
          "model_module": "@jupyter-widgets/base",
          "model_name": "LayoutModel",
          "model_module_version": "1.2.0",
          "state": {
            "_model_module": "@jupyter-widgets/base",
            "_model_module_version": "1.2.0",
            "_model_name": "LayoutModel",
            "_view_count": null,
            "_view_module": "@jupyter-widgets/base",
            "_view_module_version": "1.2.0",
            "_view_name": "LayoutView",
            "align_content": null,
            "align_items": null,
            "align_self": null,
            "border": null,
            "bottom": null,
            "display": null,
            "flex": null,
            "flex_flow": null,
            "grid_area": null,
            "grid_auto_columns": null,
            "grid_auto_flow": null,
            "grid_auto_rows": null,
            "grid_column": null,
            "grid_gap": null,
            "grid_row": null,
            "grid_template_areas": null,
            "grid_template_columns": null,
            "grid_template_rows": null,
            "height": null,
            "justify_content": null,
            "justify_items": null,
            "left": null,
            "margin": null,
            "max_height": null,
            "max_width": null,
            "min_height": null,
            "min_width": null,
            "object_fit": null,
            "object_position": null,
            "order": null,
            "overflow": null,
            "overflow_x": null,
            "overflow_y": null,
            "padding": null,
            "right": null,
            "top": null,
            "visibility": null,
            "width": null
          }
        },
        "6fbbdb1c30a649c289fd47df072e1d7c": {
          "model_module": "@jupyter-widgets/controls",
          "model_name": "ProgressStyleModel",
          "model_module_version": "1.5.0",
          "state": {
            "_model_module": "@jupyter-widgets/controls",
            "_model_module_version": "1.5.0",
            "_model_name": "ProgressStyleModel",
            "_view_count": null,
            "_view_module": "@jupyter-widgets/base",
            "_view_module_version": "1.2.0",
            "_view_name": "StyleView",
            "bar_color": null,
            "description_width": ""
          }
        },
        "2bb973e954cf48ecb0de035537d78fa3": {
          "model_module": "@jupyter-widgets/base",
          "model_name": "LayoutModel",
          "model_module_version": "1.2.0",
          "state": {
            "_model_module": "@jupyter-widgets/base",
            "_model_module_version": "1.2.0",
            "_model_name": "LayoutModel",
            "_view_count": null,
            "_view_module": "@jupyter-widgets/base",
            "_view_module_version": "1.2.0",
            "_view_name": "LayoutView",
            "align_content": null,
            "align_items": null,
            "align_self": null,
            "border": null,
            "bottom": null,
            "display": null,
            "flex": null,
            "flex_flow": null,
            "grid_area": null,
            "grid_auto_columns": null,
            "grid_auto_flow": null,
            "grid_auto_rows": null,
            "grid_column": null,
            "grid_gap": null,
            "grid_row": null,
            "grid_template_areas": null,
            "grid_template_columns": null,
            "grid_template_rows": null,
            "height": null,
            "justify_content": null,
            "justify_items": null,
            "left": null,
            "margin": null,
            "max_height": null,
            "max_width": null,
            "min_height": null,
            "min_width": null,
            "object_fit": null,
            "object_position": null,
            "order": null,
            "overflow": null,
            "overflow_x": null,
            "overflow_y": null,
            "padding": null,
            "right": null,
            "top": null,
            "visibility": null,
            "width": null
          }
        },
        "067394b9d49141a4939fc3c59b9e0d0c": {
          "model_module": "@jupyter-widgets/controls",
          "model_name": "DescriptionStyleModel",
          "model_module_version": "1.5.0",
          "state": {
            "_model_module": "@jupyter-widgets/controls",
            "_model_module_version": "1.5.0",
            "_model_name": "DescriptionStyleModel",
            "_view_count": null,
            "_view_module": "@jupyter-widgets/base",
            "_view_module_version": "1.2.0",
            "_view_name": "StyleView",
            "description_width": ""
          }
        },
        "6cdfd89fa63244eaa1f7b155b03e6c69": {
          "model_module": "@jupyter-widgets/controls",
          "model_name": "HBoxModel",
          "model_module_version": "1.5.0",
          "state": {
            "_dom_classes": [],
            "_model_module": "@jupyter-widgets/controls",
            "_model_module_version": "1.5.0",
            "_model_name": "HBoxModel",
            "_view_count": null,
            "_view_module": "@jupyter-widgets/controls",
            "_view_module_version": "1.5.0",
            "_view_name": "HBoxView",
            "box_style": "",
            "children": [
              "IPY_MODEL_868306f9e7f04e0e8c2c910670fa52b9",
              "IPY_MODEL_d0ac77bcc5f84e10acaffc3aa81547c9",
              "IPY_MODEL_409133f252be4d71978632b8814a4f27"
            ],
            "layout": "IPY_MODEL_0249fe62e5764a32a7ecd4627284a247"
          }
        },
        "868306f9e7f04e0e8c2c910670fa52b9": {
          "model_module": "@jupyter-widgets/controls",
          "model_name": "HTMLModel",
          "model_module_version": "1.5.0",
          "state": {
            "_dom_classes": [],
            "_model_module": "@jupyter-widgets/controls",
            "_model_module_version": "1.5.0",
            "_model_name": "HTMLModel",
            "_view_count": null,
            "_view_module": "@jupyter-widgets/controls",
            "_view_module_version": "1.5.0",
            "_view_name": "HTMLView",
            "description": "",
            "description_tooltip": null,
            "layout": "IPY_MODEL_22acf2e0403b40559b16ba6f89c22a1f",
            "placeholder": "​",
            "style": "IPY_MODEL_7eacdf70770d4bdb944f6d96da5e5e26",
            "value": "Downloading: 100%"
          }
        },
        "d0ac77bcc5f84e10acaffc3aa81547c9": {
          "model_module": "@jupyter-widgets/controls",
          "model_name": "FloatProgressModel",
          "model_module_version": "1.5.0",
          "state": {
            "_dom_classes": [],
            "_model_module": "@jupyter-widgets/controls",
            "_model_module_version": "1.5.0",
            "_model_name": "FloatProgressModel",
            "_view_count": null,
            "_view_module": "@jupyter-widgets/controls",
            "_view_module_version": "1.5.0",
            "_view_name": "ProgressView",
            "bar_style": "success",
            "description": "",
            "description_tooltip": null,
            "layout": "IPY_MODEL_ae6f7268418e417b82ca066a331ec347",
            "max": 625,
            "min": 0,
            "orientation": "horizontal",
            "style": "IPY_MODEL_6509e85627734dbeb059798a9379e759",
            "value": 625
          }
        },
        "409133f252be4d71978632b8814a4f27": {
          "model_module": "@jupyter-widgets/controls",
          "model_name": "HTMLModel",
          "model_module_version": "1.5.0",
          "state": {
            "_dom_classes": [],
            "_model_module": "@jupyter-widgets/controls",
            "_model_module_version": "1.5.0",
            "_model_name": "HTMLModel",
            "_view_count": null,
            "_view_module": "@jupyter-widgets/controls",
            "_view_module_version": "1.5.0",
            "_view_name": "HTMLView",
            "description": "",
            "description_tooltip": null,
            "layout": "IPY_MODEL_49bb02972935422aa6601b119b62fa3e",
            "placeholder": "​",
            "style": "IPY_MODEL_69a03a73111a41ab911898e56d3906f4",
            "value": " 625/625 [00:00&lt;00:00, 19.1kB/s]"
          }
        },
        "0249fe62e5764a32a7ecd4627284a247": {
          "model_module": "@jupyter-widgets/base",
          "model_name": "LayoutModel",
          "model_module_version": "1.2.0",
          "state": {
            "_model_module": "@jupyter-widgets/base",
            "_model_module_version": "1.2.0",
            "_model_name": "LayoutModel",
            "_view_count": null,
            "_view_module": "@jupyter-widgets/base",
            "_view_module_version": "1.2.0",
            "_view_name": "LayoutView",
            "align_content": null,
            "align_items": null,
            "align_self": null,
            "border": null,
            "bottom": null,
            "display": null,
            "flex": null,
            "flex_flow": null,
            "grid_area": null,
            "grid_auto_columns": null,
            "grid_auto_flow": null,
            "grid_auto_rows": null,
            "grid_column": null,
            "grid_gap": null,
            "grid_row": null,
            "grid_template_areas": null,
            "grid_template_columns": null,
            "grid_template_rows": null,
            "height": null,
            "justify_content": null,
            "justify_items": null,
            "left": null,
            "margin": null,
            "max_height": null,
            "max_width": null,
            "min_height": null,
            "min_width": null,
            "object_fit": null,
            "object_position": null,
            "order": null,
            "overflow": null,
            "overflow_x": null,
            "overflow_y": null,
            "padding": null,
            "right": null,
            "top": null,
            "visibility": null,
            "width": null
          }
        },
        "22acf2e0403b40559b16ba6f89c22a1f": {
          "model_module": "@jupyter-widgets/base",
          "model_name": "LayoutModel",
          "model_module_version": "1.2.0",
          "state": {
            "_model_module": "@jupyter-widgets/base",
            "_model_module_version": "1.2.0",
            "_model_name": "LayoutModel",
            "_view_count": null,
            "_view_module": "@jupyter-widgets/base",
            "_view_module_version": "1.2.0",
            "_view_name": "LayoutView",
            "align_content": null,
            "align_items": null,
            "align_self": null,
            "border": null,
            "bottom": null,
            "display": null,
            "flex": null,
            "flex_flow": null,
            "grid_area": null,
            "grid_auto_columns": null,
            "grid_auto_flow": null,
            "grid_auto_rows": null,
            "grid_column": null,
            "grid_gap": null,
            "grid_row": null,
            "grid_template_areas": null,
            "grid_template_columns": null,
            "grid_template_rows": null,
            "height": null,
            "justify_content": null,
            "justify_items": null,
            "left": null,
            "margin": null,
            "max_height": null,
            "max_width": null,
            "min_height": null,
            "min_width": null,
            "object_fit": null,
            "object_position": null,
            "order": null,
            "overflow": null,
            "overflow_x": null,
            "overflow_y": null,
            "padding": null,
            "right": null,
            "top": null,
            "visibility": null,
            "width": null
          }
        },
        "7eacdf70770d4bdb944f6d96da5e5e26": {
          "model_module": "@jupyter-widgets/controls",
          "model_name": "DescriptionStyleModel",
          "model_module_version": "1.5.0",
          "state": {
            "_model_module": "@jupyter-widgets/controls",
            "_model_module_version": "1.5.0",
            "_model_name": "DescriptionStyleModel",
            "_view_count": null,
            "_view_module": "@jupyter-widgets/base",
            "_view_module_version": "1.2.0",
            "_view_name": "StyleView",
            "description_width": ""
          }
        },
        "ae6f7268418e417b82ca066a331ec347": {
          "model_module": "@jupyter-widgets/base",
          "model_name": "LayoutModel",
          "model_module_version": "1.2.0",
          "state": {
            "_model_module": "@jupyter-widgets/base",
            "_model_module_version": "1.2.0",
            "_model_name": "LayoutModel",
            "_view_count": null,
            "_view_module": "@jupyter-widgets/base",
            "_view_module_version": "1.2.0",
            "_view_name": "LayoutView",
            "align_content": null,
            "align_items": null,
            "align_self": null,
            "border": null,
            "bottom": null,
            "display": null,
            "flex": null,
            "flex_flow": null,
            "grid_area": null,
            "grid_auto_columns": null,
            "grid_auto_flow": null,
            "grid_auto_rows": null,
            "grid_column": null,
            "grid_gap": null,
            "grid_row": null,
            "grid_template_areas": null,
            "grid_template_columns": null,
            "grid_template_rows": null,
            "height": null,
            "justify_content": null,
            "justify_items": null,
            "left": null,
            "margin": null,
            "max_height": null,
            "max_width": null,
            "min_height": null,
            "min_width": null,
            "object_fit": null,
            "object_position": null,
            "order": null,
            "overflow": null,
            "overflow_x": null,
            "overflow_y": null,
            "padding": null,
            "right": null,
            "top": null,
            "visibility": null,
            "width": null
          }
        },
        "6509e85627734dbeb059798a9379e759": {
          "model_module": "@jupyter-widgets/controls",
          "model_name": "ProgressStyleModel",
          "model_module_version": "1.5.0",
          "state": {
            "_model_module": "@jupyter-widgets/controls",
            "_model_module_version": "1.5.0",
            "_model_name": "ProgressStyleModel",
            "_view_count": null,
            "_view_module": "@jupyter-widgets/base",
            "_view_module_version": "1.2.0",
            "_view_name": "StyleView",
            "bar_color": null,
            "description_width": ""
          }
        },
        "49bb02972935422aa6601b119b62fa3e": {
          "model_module": "@jupyter-widgets/base",
          "model_name": "LayoutModel",
          "model_module_version": "1.2.0",
          "state": {
            "_model_module": "@jupyter-widgets/base",
            "_model_module_version": "1.2.0",
            "_model_name": "LayoutModel",
            "_view_count": null,
            "_view_module": "@jupyter-widgets/base",
            "_view_module_version": "1.2.0",
            "_view_name": "LayoutView",
            "align_content": null,
            "align_items": null,
            "align_self": null,
            "border": null,
            "bottom": null,
            "display": null,
            "flex": null,
            "flex_flow": null,
            "grid_area": null,
            "grid_auto_columns": null,
            "grid_auto_flow": null,
            "grid_auto_rows": null,
            "grid_column": null,
            "grid_gap": null,
            "grid_row": null,
            "grid_template_areas": null,
            "grid_template_columns": null,
            "grid_template_rows": null,
            "height": null,
            "justify_content": null,
            "justify_items": null,
            "left": null,
            "margin": null,
            "max_height": null,
            "max_width": null,
            "min_height": null,
            "min_width": null,
            "object_fit": null,
            "object_position": null,
            "order": null,
            "overflow": null,
            "overflow_x": null,
            "overflow_y": null,
            "padding": null,
            "right": null,
            "top": null,
            "visibility": null,
            "width": null
          }
        },
        "69a03a73111a41ab911898e56d3906f4": {
          "model_module": "@jupyter-widgets/controls",
          "model_name": "DescriptionStyleModel",
          "model_module_version": "1.5.0",
          "state": {
            "_model_module": "@jupyter-widgets/controls",
            "_model_module_version": "1.5.0",
            "_model_name": "DescriptionStyleModel",
            "_view_count": null,
            "_view_module": "@jupyter-widgets/base",
            "_view_module_version": "1.2.0",
            "_view_name": "StyleView",
            "description_width": ""
          }
        },
        "edf0b6324a6948c892156ac1df70f516": {
          "model_module": "@jupyter-widgets/controls",
          "model_name": "HBoxModel",
          "model_module_version": "1.5.0",
          "state": {
            "_dom_classes": [],
            "_model_module": "@jupyter-widgets/controls",
            "_model_module_version": "1.5.0",
            "_model_name": "HBoxModel",
            "_view_count": null,
            "_view_module": "@jupyter-widgets/controls",
            "_view_module_version": "1.5.0",
            "_view_name": "HBoxView",
            "box_style": "",
            "children": [
              "IPY_MODEL_a7234e00e8f547f3bde333ca6e0f0b4b",
              "IPY_MODEL_87d7e3a9748b4c8a9fd8328934004267",
              "IPY_MODEL_0fd59bd2c08643dc8e6267e3e214c28c"
            ],
            "layout": "IPY_MODEL_f55f49224c064504849040d03c2bc261"
          }
        },
        "a7234e00e8f547f3bde333ca6e0f0b4b": {
          "model_module": "@jupyter-widgets/controls",
          "model_name": "HTMLModel",
          "model_module_version": "1.5.0",
          "state": {
            "_dom_classes": [],
            "_model_module": "@jupyter-widgets/controls",
            "_model_module_version": "1.5.0",
            "_model_name": "HTMLModel",
            "_view_count": null,
            "_view_module": "@jupyter-widgets/controls",
            "_view_module_version": "1.5.0",
            "_view_name": "HTMLView",
            "description": "",
            "description_tooltip": null,
            "layout": "IPY_MODEL_f099021bdd48490c904189f77e08988a",
            "placeholder": "​",
            "style": "IPY_MODEL_f6654576168144c89b924c3da9470dc7",
            "value": "Downloading: 100%"
          }
        },
        "87d7e3a9748b4c8a9fd8328934004267": {
          "model_module": "@jupyter-widgets/controls",
          "model_name": "FloatProgressModel",
          "model_module_version": "1.5.0",
          "state": {
            "_dom_classes": [],
            "_model_module": "@jupyter-widgets/controls",
            "_model_module_version": "1.5.0",
            "_model_name": "FloatProgressModel",
            "_view_count": null,
            "_view_module": "@jupyter-widgets/controls",
            "_view_module_version": "1.5.0",
            "_view_name": "ProgressView",
            "bar_style": "success",
            "description": "",
            "description_tooltip": null,
            "layout": "IPY_MODEL_276826d589bf4930819284865cf57d0b",
            "max": 122,
            "min": 0,
            "orientation": "horizontal",
            "style": "IPY_MODEL_7cd82645abad4b6d8752661f4f8e1245",
            "value": 122
          }
        },
        "0fd59bd2c08643dc8e6267e3e214c28c": {
          "model_module": "@jupyter-widgets/controls",
          "model_name": "HTMLModel",
          "model_module_version": "1.5.0",
          "state": {
            "_dom_classes": [],
            "_model_module": "@jupyter-widgets/controls",
            "_model_module_version": "1.5.0",
            "_model_name": "HTMLModel",
            "_view_count": null,
            "_view_module": "@jupyter-widgets/controls",
            "_view_module_version": "1.5.0",
            "_view_name": "HTMLView",
            "description": "",
            "description_tooltip": null,
            "layout": "IPY_MODEL_176cb0e863034d968ca11cfe17c4a704",
            "placeholder": "​",
            "style": "IPY_MODEL_d4caaf45c64248a6b65a42d7b46d09e3",
            "value": " 122/122 [00:00&lt;00:00, 2.06kB/s]"
          }
        },
        "f55f49224c064504849040d03c2bc261": {
          "model_module": "@jupyter-widgets/base",
          "model_name": "LayoutModel",
          "model_module_version": "1.2.0",
          "state": {
            "_model_module": "@jupyter-widgets/base",
            "_model_module_version": "1.2.0",
            "_model_name": "LayoutModel",
            "_view_count": null,
            "_view_module": "@jupyter-widgets/base",
            "_view_module_version": "1.2.0",
            "_view_name": "LayoutView",
            "align_content": null,
            "align_items": null,
            "align_self": null,
            "border": null,
            "bottom": null,
            "display": null,
            "flex": null,
            "flex_flow": null,
            "grid_area": null,
            "grid_auto_columns": null,
            "grid_auto_flow": null,
            "grid_auto_rows": null,
            "grid_column": null,
            "grid_gap": null,
            "grid_row": null,
            "grid_template_areas": null,
            "grid_template_columns": null,
            "grid_template_rows": null,
            "height": null,
            "justify_content": null,
            "justify_items": null,
            "left": null,
            "margin": null,
            "max_height": null,
            "max_width": null,
            "min_height": null,
            "min_width": null,
            "object_fit": null,
            "object_position": null,
            "order": null,
            "overflow": null,
            "overflow_x": null,
            "overflow_y": null,
            "padding": null,
            "right": null,
            "top": null,
            "visibility": null,
            "width": null
          }
        },
        "f099021bdd48490c904189f77e08988a": {
          "model_module": "@jupyter-widgets/base",
          "model_name": "LayoutModel",
          "model_module_version": "1.2.0",
          "state": {
            "_model_module": "@jupyter-widgets/base",
            "_model_module_version": "1.2.0",
            "_model_name": "LayoutModel",
            "_view_count": null,
            "_view_module": "@jupyter-widgets/base",
            "_view_module_version": "1.2.0",
            "_view_name": "LayoutView",
            "align_content": null,
            "align_items": null,
            "align_self": null,
            "border": null,
            "bottom": null,
            "display": null,
            "flex": null,
            "flex_flow": null,
            "grid_area": null,
            "grid_auto_columns": null,
            "grid_auto_flow": null,
            "grid_auto_rows": null,
            "grid_column": null,
            "grid_gap": null,
            "grid_row": null,
            "grid_template_areas": null,
            "grid_template_columns": null,
            "grid_template_rows": null,
            "height": null,
            "justify_content": null,
            "justify_items": null,
            "left": null,
            "margin": null,
            "max_height": null,
            "max_width": null,
            "min_height": null,
            "min_width": null,
            "object_fit": null,
            "object_position": null,
            "order": null,
            "overflow": null,
            "overflow_x": null,
            "overflow_y": null,
            "padding": null,
            "right": null,
            "top": null,
            "visibility": null,
            "width": null
          }
        },
        "f6654576168144c89b924c3da9470dc7": {
          "model_module": "@jupyter-widgets/controls",
          "model_name": "DescriptionStyleModel",
          "model_module_version": "1.5.0",
          "state": {
            "_model_module": "@jupyter-widgets/controls",
            "_model_module_version": "1.5.0",
            "_model_name": "DescriptionStyleModel",
            "_view_count": null,
            "_view_module": "@jupyter-widgets/base",
            "_view_module_version": "1.2.0",
            "_view_name": "StyleView",
            "description_width": ""
          }
        },
        "276826d589bf4930819284865cf57d0b": {
          "model_module": "@jupyter-widgets/base",
          "model_name": "LayoutModel",
          "model_module_version": "1.2.0",
          "state": {
            "_model_module": "@jupyter-widgets/base",
            "_model_module_version": "1.2.0",
            "_model_name": "LayoutModel",
            "_view_count": null,
            "_view_module": "@jupyter-widgets/base",
            "_view_module_version": "1.2.0",
            "_view_name": "LayoutView",
            "align_content": null,
            "align_items": null,
            "align_self": null,
            "border": null,
            "bottom": null,
            "display": null,
            "flex": null,
            "flex_flow": null,
            "grid_area": null,
            "grid_auto_columns": null,
            "grid_auto_flow": null,
            "grid_auto_rows": null,
            "grid_column": null,
            "grid_gap": null,
            "grid_row": null,
            "grid_template_areas": null,
            "grid_template_columns": null,
            "grid_template_rows": null,
            "height": null,
            "justify_content": null,
            "justify_items": null,
            "left": null,
            "margin": null,
            "max_height": null,
            "max_width": null,
            "min_height": null,
            "min_width": null,
            "object_fit": null,
            "object_position": null,
            "order": null,
            "overflow": null,
            "overflow_x": null,
            "overflow_y": null,
            "padding": null,
            "right": null,
            "top": null,
            "visibility": null,
            "width": null
          }
        },
        "7cd82645abad4b6d8752661f4f8e1245": {
          "model_module": "@jupyter-widgets/controls",
          "model_name": "ProgressStyleModel",
          "model_module_version": "1.5.0",
          "state": {
            "_model_module": "@jupyter-widgets/controls",
            "_model_module_version": "1.5.0",
            "_model_name": "ProgressStyleModel",
            "_view_count": null,
            "_view_module": "@jupyter-widgets/base",
            "_view_module_version": "1.2.0",
            "_view_name": "StyleView",
            "bar_color": null,
            "description_width": ""
          }
        },
        "176cb0e863034d968ca11cfe17c4a704": {
          "model_module": "@jupyter-widgets/base",
          "model_name": "LayoutModel",
          "model_module_version": "1.2.0",
          "state": {
            "_model_module": "@jupyter-widgets/base",
            "_model_module_version": "1.2.0",
            "_model_name": "LayoutModel",
            "_view_count": null,
            "_view_module": "@jupyter-widgets/base",
            "_view_module_version": "1.2.0",
            "_view_name": "LayoutView",
            "align_content": null,
            "align_items": null,
            "align_self": null,
            "border": null,
            "bottom": null,
            "display": null,
            "flex": null,
            "flex_flow": null,
            "grid_area": null,
            "grid_auto_columns": null,
            "grid_auto_flow": null,
            "grid_auto_rows": null,
            "grid_column": null,
            "grid_gap": null,
            "grid_row": null,
            "grid_template_areas": null,
            "grid_template_columns": null,
            "grid_template_rows": null,
            "height": null,
            "justify_content": null,
            "justify_items": null,
            "left": null,
            "margin": null,
            "max_height": null,
            "max_width": null,
            "min_height": null,
            "min_width": null,
            "object_fit": null,
            "object_position": null,
            "order": null,
            "overflow": null,
            "overflow_x": null,
            "overflow_y": null,
            "padding": null,
            "right": null,
            "top": null,
            "visibility": null,
            "width": null
          }
        },
        "d4caaf45c64248a6b65a42d7b46d09e3": {
          "model_module": "@jupyter-widgets/controls",
          "model_name": "DescriptionStyleModel",
          "model_module_version": "1.5.0",
          "state": {
            "_model_module": "@jupyter-widgets/controls",
            "_model_module_version": "1.5.0",
            "_model_name": "DescriptionStyleModel",
            "_view_count": null,
            "_view_module": "@jupyter-widgets/base",
            "_view_module_version": "1.2.0",
            "_view_name": "StyleView",
            "description_width": ""
          }
        },
        "1afcb6f56c424eb2828e703ab71b2a9e": {
          "model_module": "@jupyter-widgets/controls",
          "model_name": "HBoxModel",
          "model_module_version": "1.5.0",
          "state": {
            "_dom_classes": [],
            "_model_module": "@jupyter-widgets/controls",
            "_model_module_version": "1.5.0",
            "_model_name": "HBoxModel",
            "_view_count": null,
            "_view_module": "@jupyter-widgets/controls",
            "_view_module_version": "1.5.0",
            "_view_name": "HBoxView",
            "box_style": "",
            "children": [
              "IPY_MODEL_bee2e2f73ec34ef58653553e9ac58ff0",
              "IPY_MODEL_7798afa5855e45ab9eeaa62ebc1e6908",
              "IPY_MODEL_d4d4ab41138043ff922c3d989989b9bf"
            ],
            "layout": "IPY_MODEL_54d55d978a0941279c8255c931df7e25"
          }
        },
        "bee2e2f73ec34ef58653553e9ac58ff0": {
          "model_module": "@jupyter-widgets/controls",
          "model_name": "HTMLModel",
          "model_module_version": "1.5.0",
          "state": {
            "_dom_classes": [],
            "_model_module": "@jupyter-widgets/controls",
            "_model_module_version": "1.5.0",
            "_model_name": "HTMLModel",
            "_view_count": null,
            "_view_module": "@jupyter-widgets/controls",
            "_view_module_version": "1.5.0",
            "_view_name": "HTMLView",
            "description": "",
            "description_tooltip": null,
            "layout": "IPY_MODEL_fdb2ca77c26544628f8ce7e3b102e891",
            "placeholder": "​",
            "style": "IPY_MODEL_5385275e328b45a4aa500ae90c58430f",
            "value": "Downloading: 100%"
          }
        },
        "7798afa5855e45ab9eeaa62ebc1e6908": {
          "model_module": "@jupyter-widgets/controls",
          "model_name": "FloatProgressModel",
          "model_module_version": "1.5.0",
          "state": {
            "_dom_classes": [],
            "_model_module": "@jupyter-widgets/controls",
            "_model_module_version": "1.5.0",
            "_model_name": "FloatProgressModel",
            "_view_count": null,
            "_view_module": "@jupyter-widgets/controls",
            "_view_module_version": "1.5.0",
            "_view_name": "ProgressView",
            "bar_style": "success",
            "description": "",
            "description_tooltip": null,
            "layout": "IPY_MODEL_ce5f49b1fe704eca96d13b7f92916066",
            "max": 229,
            "min": 0,
            "orientation": "horizontal",
            "style": "IPY_MODEL_7b2306ac3e244fbabcfdc80daf9fbac4",
            "value": 229
          }
        },
        "d4d4ab41138043ff922c3d989989b9bf": {
          "model_module": "@jupyter-widgets/controls",
          "model_name": "HTMLModel",
          "model_module_version": "1.5.0",
          "state": {
            "_dom_classes": [],
            "_model_module": "@jupyter-widgets/controls",
            "_model_module_version": "1.5.0",
            "_model_name": "HTMLModel",
            "_view_count": null,
            "_view_module": "@jupyter-widgets/controls",
            "_view_module_version": "1.5.0",
            "_view_name": "HTMLView",
            "description": "",
            "description_tooltip": null,
            "layout": "IPY_MODEL_afa1c63f76c443e7a213e6eee8e13935",
            "placeholder": "​",
            "style": "IPY_MODEL_b65094e1400b45a598a84c2f61dd8c11",
            "value": " 229/229 [00:00&lt;00:00, 3.93kB/s]"
          }
        },
        "54d55d978a0941279c8255c931df7e25": {
          "model_module": "@jupyter-widgets/base",
          "model_name": "LayoutModel",
          "model_module_version": "1.2.0",
          "state": {
            "_model_module": "@jupyter-widgets/base",
            "_model_module_version": "1.2.0",
            "_model_name": "LayoutModel",
            "_view_count": null,
            "_view_module": "@jupyter-widgets/base",
            "_view_module_version": "1.2.0",
            "_view_name": "LayoutView",
            "align_content": null,
            "align_items": null,
            "align_self": null,
            "border": null,
            "bottom": null,
            "display": null,
            "flex": null,
            "flex_flow": null,
            "grid_area": null,
            "grid_auto_columns": null,
            "grid_auto_flow": null,
            "grid_auto_rows": null,
            "grid_column": null,
            "grid_gap": null,
            "grid_row": null,
            "grid_template_areas": null,
            "grid_template_columns": null,
            "grid_template_rows": null,
            "height": null,
            "justify_content": null,
            "justify_items": null,
            "left": null,
            "margin": null,
            "max_height": null,
            "max_width": null,
            "min_height": null,
            "min_width": null,
            "object_fit": null,
            "object_position": null,
            "order": null,
            "overflow": null,
            "overflow_x": null,
            "overflow_y": null,
            "padding": null,
            "right": null,
            "top": null,
            "visibility": null,
            "width": null
          }
        },
        "fdb2ca77c26544628f8ce7e3b102e891": {
          "model_module": "@jupyter-widgets/base",
          "model_name": "LayoutModel",
          "model_module_version": "1.2.0",
          "state": {
            "_model_module": "@jupyter-widgets/base",
            "_model_module_version": "1.2.0",
            "_model_name": "LayoutModel",
            "_view_count": null,
            "_view_module": "@jupyter-widgets/base",
            "_view_module_version": "1.2.0",
            "_view_name": "LayoutView",
            "align_content": null,
            "align_items": null,
            "align_self": null,
            "border": null,
            "bottom": null,
            "display": null,
            "flex": null,
            "flex_flow": null,
            "grid_area": null,
            "grid_auto_columns": null,
            "grid_auto_flow": null,
            "grid_auto_rows": null,
            "grid_column": null,
            "grid_gap": null,
            "grid_row": null,
            "grid_template_areas": null,
            "grid_template_columns": null,
            "grid_template_rows": null,
            "height": null,
            "justify_content": null,
            "justify_items": null,
            "left": null,
            "margin": null,
            "max_height": null,
            "max_width": null,
            "min_height": null,
            "min_width": null,
            "object_fit": null,
            "object_position": null,
            "order": null,
            "overflow": null,
            "overflow_x": null,
            "overflow_y": null,
            "padding": null,
            "right": null,
            "top": null,
            "visibility": null,
            "width": null
          }
        },
        "5385275e328b45a4aa500ae90c58430f": {
          "model_module": "@jupyter-widgets/controls",
          "model_name": "DescriptionStyleModel",
          "model_module_version": "1.5.0",
          "state": {
            "_model_module": "@jupyter-widgets/controls",
            "_model_module_version": "1.5.0",
            "_model_name": "DescriptionStyleModel",
            "_view_count": null,
            "_view_module": "@jupyter-widgets/base",
            "_view_module_version": "1.2.0",
            "_view_name": "StyleView",
            "description_width": ""
          }
        },
        "ce5f49b1fe704eca96d13b7f92916066": {
          "model_module": "@jupyter-widgets/base",
          "model_name": "LayoutModel",
          "model_module_version": "1.2.0",
          "state": {
            "_model_module": "@jupyter-widgets/base",
            "_model_module_version": "1.2.0",
            "_model_name": "LayoutModel",
            "_view_count": null,
            "_view_module": "@jupyter-widgets/base",
            "_view_module_version": "1.2.0",
            "_view_name": "LayoutView",
            "align_content": null,
            "align_items": null,
            "align_self": null,
            "border": null,
            "bottom": null,
            "display": null,
            "flex": null,
            "flex_flow": null,
            "grid_area": null,
            "grid_auto_columns": null,
            "grid_auto_flow": null,
            "grid_auto_rows": null,
            "grid_column": null,
            "grid_gap": null,
            "grid_row": null,
            "grid_template_areas": null,
            "grid_template_columns": null,
            "grid_template_rows": null,
            "height": null,
            "justify_content": null,
            "justify_items": null,
            "left": null,
            "margin": null,
            "max_height": null,
            "max_width": null,
            "min_height": null,
            "min_width": null,
            "object_fit": null,
            "object_position": null,
            "order": null,
            "overflow": null,
            "overflow_x": null,
            "overflow_y": null,
            "padding": null,
            "right": null,
            "top": null,
            "visibility": null,
            "width": null
          }
        },
        "7b2306ac3e244fbabcfdc80daf9fbac4": {
          "model_module": "@jupyter-widgets/controls",
          "model_name": "ProgressStyleModel",
          "model_module_version": "1.5.0",
          "state": {
            "_model_module": "@jupyter-widgets/controls",
            "_model_module_version": "1.5.0",
            "_model_name": "ProgressStyleModel",
            "_view_count": null,
            "_view_module": "@jupyter-widgets/base",
            "_view_module_version": "1.2.0",
            "_view_name": "StyleView",
            "bar_color": null,
            "description_width": ""
          }
        },
        "afa1c63f76c443e7a213e6eee8e13935": {
          "model_module": "@jupyter-widgets/base",
          "model_name": "LayoutModel",
          "model_module_version": "1.2.0",
          "state": {
            "_model_module": "@jupyter-widgets/base",
            "_model_module_version": "1.2.0",
            "_model_name": "LayoutModel",
            "_view_count": null,
            "_view_module": "@jupyter-widgets/base",
            "_view_module_version": "1.2.0",
            "_view_name": "LayoutView",
            "align_content": null,
            "align_items": null,
            "align_self": null,
            "border": null,
            "bottom": null,
            "display": null,
            "flex": null,
            "flex_flow": null,
            "grid_area": null,
            "grid_auto_columns": null,
            "grid_auto_flow": null,
            "grid_auto_rows": null,
            "grid_column": null,
            "grid_gap": null,
            "grid_row": null,
            "grid_template_areas": null,
            "grid_template_columns": null,
            "grid_template_rows": null,
            "height": null,
            "justify_content": null,
            "justify_items": null,
            "left": null,
            "margin": null,
            "max_height": null,
            "max_width": null,
            "min_height": null,
            "min_width": null,
            "object_fit": null,
            "object_position": null,
            "order": null,
            "overflow": null,
            "overflow_x": null,
            "overflow_y": null,
            "padding": null,
            "right": null,
            "top": null,
            "visibility": null,
            "width": null
          }
        },
        "b65094e1400b45a598a84c2f61dd8c11": {
          "model_module": "@jupyter-widgets/controls",
          "model_name": "DescriptionStyleModel",
          "model_module_version": "1.5.0",
          "state": {
            "_model_module": "@jupyter-widgets/controls",
            "_model_module_version": "1.5.0",
            "_model_name": "DescriptionStyleModel",
            "_view_count": null,
            "_view_module": "@jupyter-widgets/base",
            "_view_module_version": "1.2.0",
            "_view_name": "StyleView",
            "description_width": ""
          }
        },
        "a13591a2fbb44d4f8314025462ae1e8d": {
          "model_module": "@jupyter-widgets/controls",
          "model_name": "HBoxModel",
          "model_module_version": "1.5.0",
          "state": {
            "_dom_classes": [],
            "_model_module": "@jupyter-widgets/controls",
            "_model_module_version": "1.5.0",
            "_model_name": "HBoxModel",
            "_view_count": null,
            "_view_module": "@jupyter-widgets/controls",
            "_view_module_version": "1.5.0",
            "_view_name": "HBoxView",
            "box_style": "",
            "children": [
              "IPY_MODEL_68db45b6d6484849be85c31ff980a360",
              "IPY_MODEL_e11b3bdd41a643d8a2d9f866a6dde2f8",
              "IPY_MODEL_388296ed38c846ac9dadb063154091cc"
            ],
            "layout": "IPY_MODEL_6b3ddef02fe4412cb6389d007db36ed7"
          }
        },
        "68db45b6d6484849be85c31ff980a360": {
          "model_module": "@jupyter-widgets/controls",
          "model_name": "HTMLModel",
          "model_module_version": "1.5.0",
          "state": {
            "_dom_classes": [],
            "_model_module": "@jupyter-widgets/controls",
            "_model_module_version": "1.5.0",
            "_model_name": "HTMLModel",
            "_view_count": null,
            "_view_module": "@jupyter-widgets/controls",
            "_view_module_version": "1.5.0",
            "_view_name": "HTMLView",
            "description": "",
            "description_tooltip": null,
            "layout": "IPY_MODEL_99f4d0a2b3a54cf68f74a3df3b054a52",
            "placeholder": "​",
            "style": "IPY_MODEL_2fc7bf0c4fda429db929e9ff341c7c05",
            "value": "Downloading: 100%"
          }
        },
        "e11b3bdd41a643d8a2d9f866a6dde2f8": {
          "model_module": "@jupyter-widgets/controls",
          "model_name": "FloatProgressModel",
          "model_module_version": "1.5.0",
          "state": {
            "_dom_classes": [],
            "_model_module": "@jupyter-widgets/controls",
            "_model_module_version": "1.5.0",
            "_model_name": "FloatProgressModel",
            "_view_count": null,
            "_view_module": "@jupyter-widgets/controls",
            "_view_module_version": "1.5.0",
            "_view_name": "ProgressView",
            "bar_style": "success",
            "description": "",
            "description_tooltip": null,
            "layout": "IPY_MODEL_fd8385aba68541a7a5945d9c03d5a381",
            "max": 438007537,
            "min": 0,
            "orientation": "horizontal",
            "style": "IPY_MODEL_cc9bfff484ac4828b533e8b9d6bc07a4",
            "value": 438007537
          }
        },
        "388296ed38c846ac9dadb063154091cc": {
          "model_module": "@jupyter-widgets/controls",
          "model_name": "HTMLModel",
          "model_module_version": "1.5.0",
          "state": {
            "_dom_classes": [],
            "_model_module": "@jupyter-widgets/controls",
            "_model_module_version": "1.5.0",
            "_model_name": "HTMLModel",
            "_view_count": null,
            "_view_module": "@jupyter-widgets/controls",
            "_view_module_version": "1.5.0",
            "_view_name": "HTMLView",
            "description": "",
            "description_tooltip": null,
            "layout": "IPY_MODEL_c2f04eb781094385b2f782f6618b09a9",
            "placeholder": "​",
            "style": "IPY_MODEL_371a68d894ff40919fd6c4788cfdc2b3",
            "value": " 438M/438M [00:10&lt;00:00, 42.9MB/s]"
          }
        },
        "6b3ddef02fe4412cb6389d007db36ed7": {
          "model_module": "@jupyter-widgets/base",
          "model_name": "LayoutModel",
          "model_module_version": "1.2.0",
          "state": {
            "_model_module": "@jupyter-widgets/base",
            "_model_module_version": "1.2.0",
            "_model_name": "LayoutModel",
            "_view_count": null,
            "_view_module": "@jupyter-widgets/base",
            "_view_module_version": "1.2.0",
            "_view_name": "LayoutView",
            "align_content": null,
            "align_items": null,
            "align_self": null,
            "border": null,
            "bottom": null,
            "display": null,
            "flex": null,
            "flex_flow": null,
            "grid_area": null,
            "grid_auto_columns": null,
            "grid_auto_flow": null,
            "grid_auto_rows": null,
            "grid_column": null,
            "grid_gap": null,
            "grid_row": null,
            "grid_template_areas": null,
            "grid_template_columns": null,
            "grid_template_rows": null,
            "height": null,
            "justify_content": null,
            "justify_items": null,
            "left": null,
            "margin": null,
            "max_height": null,
            "max_width": null,
            "min_height": null,
            "min_width": null,
            "object_fit": null,
            "object_position": null,
            "order": null,
            "overflow": null,
            "overflow_x": null,
            "overflow_y": null,
            "padding": null,
            "right": null,
            "top": null,
            "visibility": null,
            "width": null
          }
        },
        "99f4d0a2b3a54cf68f74a3df3b054a52": {
          "model_module": "@jupyter-widgets/base",
          "model_name": "LayoutModel",
          "model_module_version": "1.2.0",
          "state": {
            "_model_module": "@jupyter-widgets/base",
            "_model_module_version": "1.2.0",
            "_model_name": "LayoutModel",
            "_view_count": null,
            "_view_module": "@jupyter-widgets/base",
            "_view_module_version": "1.2.0",
            "_view_name": "LayoutView",
            "align_content": null,
            "align_items": null,
            "align_self": null,
            "border": null,
            "bottom": null,
            "display": null,
            "flex": null,
            "flex_flow": null,
            "grid_area": null,
            "grid_auto_columns": null,
            "grid_auto_flow": null,
            "grid_auto_rows": null,
            "grid_column": null,
            "grid_gap": null,
            "grid_row": null,
            "grid_template_areas": null,
            "grid_template_columns": null,
            "grid_template_rows": null,
            "height": null,
            "justify_content": null,
            "justify_items": null,
            "left": null,
            "margin": null,
            "max_height": null,
            "max_width": null,
            "min_height": null,
            "min_width": null,
            "object_fit": null,
            "object_position": null,
            "order": null,
            "overflow": null,
            "overflow_x": null,
            "overflow_y": null,
            "padding": null,
            "right": null,
            "top": null,
            "visibility": null,
            "width": null
          }
        },
        "2fc7bf0c4fda429db929e9ff341c7c05": {
          "model_module": "@jupyter-widgets/controls",
          "model_name": "DescriptionStyleModel",
          "model_module_version": "1.5.0",
          "state": {
            "_model_module": "@jupyter-widgets/controls",
            "_model_module_version": "1.5.0",
            "_model_name": "DescriptionStyleModel",
            "_view_count": null,
            "_view_module": "@jupyter-widgets/base",
            "_view_module_version": "1.2.0",
            "_view_name": "StyleView",
            "description_width": ""
          }
        },
        "fd8385aba68541a7a5945d9c03d5a381": {
          "model_module": "@jupyter-widgets/base",
          "model_name": "LayoutModel",
          "model_module_version": "1.2.0",
          "state": {
            "_model_module": "@jupyter-widgets/base",
            "_model_module_version": "1.2.0",
            "_model_name": "LayoutModel",
            "_view_count": null,
            "_view_module": "@jupyter-widgets/base",
            "_view_module_version": "1.2.0",
            "_view_name": "LayoutView",
            "align_content": null,
            "align_items": null,
            "align_self": null,
            "border": null,
            "bottom": null,
            "display": null,
            "flex": null,
            "flex_flow": null,
            "grid_area": null,
            "grid_auto_columns": null,
            "grid_auto_flow": null,
            "grid_auto_rows": null,
            "grid_column": null,
            "grid_gap": null,
            "grid_row": null,
            "grid_template_areas": null,
            "grid_template_columns": null,
            "grid_template_rows": null,
            "height": null,
            "justify_content": null,
            "justify_items": null,
            "left": null,
            "margin": null,
            "max_height": null,
            "max_width": null,
            "min_height": null,
            "min_width": null,
            "object_fit": null,
            "object_position": null,
            "order": null,
            "overflow": null,
            "overflow_x": null,
            "overflow_y": null,
            "padding": null,
            "right": null,
            "top": null,
            "visibility": null,
            "width": null
          }
        },
        "cc9bfff484ac4828b533e8b9d6bc07a4": {
          "model_module": "@jupyter-widgets/controls",
          "model_name": "ProgressStyleModel",
          "model_module_version": "1.5.0",
          "state": {
            "_model_module": "@jupyter-widgets/controls",
            "_model_module_version": "1.5.0",
            "_model_name": "ProgressStyleModel",
            "_view_count": null,
            "_view_module": "@jupyter-widgets/base",
            "_view_module_version": "1.2.0",
            "_view_name": "StyleView",
            "bar_color": null,
            "description_width": ""
          }
        },
        "c2f04eb781094385b2f782f6618b09a9": {
          "model_module": "@jupyter-widgets/base",
          "model_name": "LayoutModel",
          "model_module_version": "1.2.0",
          "state": {
            "_model_module": "@jupyter-widgets/base",
            "_model_module_version": "1.2.0",
            "_model_name": "LayoutModel",
            "_view_count": null,
            "_view_module": "@jupyter-widgets/base",
            "_view_module_version": "1.2.0",
            "_view_name": "LayoutView",
            "align_content": null,
            "align_items": null,
            "align_self": null,
            "border": null,
            "bottom": null,
            "display": null,
            "flex": null,
            "flex_flow": null,
            "grid_area": null,
            "grid_auto_columns": null,
            "grid_auto_flow": null,
            "grid_auto_rows": null,
            "grid_column": null,
            "grid_gap": null,
            "grid_row": null,
            "grid_template_areas": null,
            "grid_template_columns": null,
            "grid_template_rows": null,
            "height": null,
            "justify_content": null,
            "justify_items": null,
            "left": null,
            "margin": null,
            "max_height": null,
            "max_width": null,
            "min_height": null,
            "min_width": null,
            "object_fit": null,
            "object_position": null,
            "order": null,
            "overflow": null,
            "overflow_x": null,
            "overflow_y": null,
            "padding": null,
            "right": null,
            "top": null,
            "visibility": null,
            "width": null
          }
        },
        "371a68d894ff40919fd6c4788cfdc2b3": {
          "model_module": "@jupyter-widgets/controls",
          "model_name": "DescriptionStyleModel",
          "model_module_version": "1.5.0",
          "state": {
            "_model_module": "@jupyter-widgets/controls",
            "_model_module_version": "1.5.0",
            "_model_name": "DescriptionStyleModel",
            "_view_count": null,
            "_view_module": "@jupyter-widgets/base",
            "_view_module_version": "1.2.0",
            "_view_name": "StyleView",
            "description_width": ""
          }
        },
        "a9c31c71d7174be5a3b2d439a6d8f55f": {
          "model_module": "@jupyter-widgets/controls",
          "model_name": "HBoxModel",
          "model_module_version": "1.5.0",
          "state": {
            "_dom_classes": [],
            "_model_module": "@jupyter-widgets/controls",
            "_model_module_version": "1.5.0",
            "_model_name": "HBoxModel",
            "_view_count": null,
            "_view_module": "@jupyter-widgets/controls",
            "_view_module_version": "1.5.0",
            "_view_name": "HBoxView",
            "box_style": "",
            "children": [
              "IPY_MODEL_cc858587c6464b5b9deb9326ed9fa94a",
              "IPY_MODEL_a026c278d1fe4fba8c9480644936adce",
              "IPY_MODEL_e5717574073742fa86892c26be7d8669"
            ],
            "layout": "IPY_MODEL_9d3579abd1cc4b9d9b3985c7eef42714"
          }
        },
        "cc858587c6464b5b9deb9326ed9fa94a": {
          "model_module": "@jupyter-widgets/controls",
          "model_name": "HTMLModel",
          "model_module_version": "1.5.0",
          "state": {
            "_dom_classes": [],
            "_model_module": "@jupyter-widgets/controls",
            "_model_module_version": "1.5.0",
            "_model_name": "HTMLModel",
            "_view_count": null,
            "_view_module": "@jupyter-widgets/controls",
            "_view_module_version": "1.5.0",
            "_view_name": "HTMLView",
            "description": "",
            "description_tooltip": null,
            "layout": "IPY_MODEL_04bee222469c48d9aba395a767a8cd89",
            "placeholder": "​",
            "style": "IPY_MODEL_1b003eda8ead4547b3295b0012ec3e29",
            "value": "Downloading: 100%"
          }
        },
        "a026c278d1fe4fba8c9480644936adce": {
          "model_module": "@jupyter-widgets/controls",
          "model_name": "FloatProgressModel",
          "model_module_version": "1.5.0",
          "state": {
            "_dom_classes": [],
            "_model_module": "@jupyter-widgets/controls",
            "_model_module_version": "1.5.0",
            "_model_name": "FloatProgressModel",
            "_view_count": null,
            "_view_module": "@jupyter-widgets/controls",
            "_view_module_version": "1.5.0",
            "_view_name": "ProgressView",
            "bar_style": "success",
            "description": "",
            "description_tooltip": null,
            "layout": "IPY_MODEL_7682e20929df4fcf8138c2c685ea0260",
            "max": 53,
            "min": 0,
            "orientation": "horizontal",
            "style": "IPY_MODEL_b651f0922b0f4377ba153ff6a34debdf",
            "value": 53
          }
        },
        "e5717574073742fa86892c26be7d8669": {
          "model_module": "@jupyter-widgets/controls",
          "model_name": "HTMLModel",
          "model_module_version": "1.5.0",
          "state": {
            "_dom_classes": [],
            "_model_module": "@jupyter-widgets/controls",
            "_model_module_version": "1.5.0",
            "_model_name": "HTMLModel",
            "_view_count": null,
            "_view_module": "@jupyter-widgets/controls",
            "_view_module_version": "1.5.0",
            "_view_name": "HTMLView",
            "description": "",
            "description_tooltip": null,
            "layout": "IPY_MODEL_41e5be97aa86405e90dbfa342e9a00df",
            "placeholder": "​",
            "style": "IPY_MODEL_e136571f8c854f1eb2c2cb927086f1ea",
            "value": " 53.0/53.0 [00:00&lt;00:00, 1.39kB/s]"
          }
        },
        "9d3579abd1cc4b9d9b3985c7eef42714": {
          "model_module": "@jupyter-widgets/base",
          "model_name": "LayoutModel",
          "model_module_version": "1.2.0",
          "state": {
            "_model_module": "@jupyter-widgets/base",
            "_model_module_version": "1.2.0",
            "_model_name": "LayoutModel",
            "_view_count": null,
            "_view_module": "@jupyter-widgets/base",
            "_view_module_version": "1.2.0",
            "_view_name": "LayoutView",
            "align_content": null,
            "align_items": null,
            "align_self": null,
            "border": null,
            "bottom": null,
            "display": null,
            "flex": null,
            "flex_flow": null,
            "grid_area": null,
            "grid_auto_columns": null,
            "grid_auto_flow": null,
            "grid_auto_rows": null,
            "grid_column": null,
            "grid_gap": null,
            "grid_row": null,
            "grid_template_areas": null,
            "grid_template_columns": null,
            "grid_template_rows": null,
            "height": null,
            "justify_content": null,
            "justify_items": null,
            "left": null,
            "margin": null,
            "max_height": null,
            "max_width": null,
            "min_height": null,
            "min_width": null,
            "object_fit": null,
            "object_position": null,
            "order": null,
            "overflow": null,
            "overflow_x": null,
            "overflow_y": null,
            "padding": null,
            "right": null,
            "top": null,
            "visibility": null,
            "width": null
          }
        },
        "04bee222469c48d9aba395a767a8cd89": {
          "model_module": "@jupyter-widgets/base",
          "model_name": "LayoutModel",
          "model_module_version": "1.2.0",
          "state": {
            "_model_module": "@jupyter-widgets/base",
            "_model_module_version": "1.2.0",
            "_model_name": "LayoutModel",
            "_view_count": null,
            "_view_module": "@jupyter-widgets/base",
            "_view_module_version": "1.2.0",
            "_view_name": "LayoutView",
            "align_content": null,
            "align_items": null,
            "align_self": null,
            "border": null,
            "bottom": null,
            "display": null,
            "flex": null,
            "flex_flow": null,
            "grid_area": null,
            "grid_auto_columns": null,
            "grid_auto_flow": null,
            "grid_auto_rows": null,
            "grid_column": null,
            "grid_gap": null,
            "grid_row": null,
            "grid_template_areas": null,
            "grid_template_columns": null,
            "grid_template_rows": null,
            "height": null,
            "justify_content": null,
            "justify_items": null,
            "left": null,
            "margin": null,
            "max_height": null,
            "max_width": null,
            "min_height": null,
            "min_width": null,
            "object_fit": null,
            "object_position": null,
            "order": null,
            "overflow": null,
            "overflow_x": null,
            "overflow_y": null,
            "padding": null,
            "right": null,
            "top": null,
            "visibility": null,
            "width": null
          }
        },
        "1b003eda8ead4547b3295b0012ec3e29": {
          "model_module": "@jupyter-widgets/controls",
          "model_name": "DescriptionStyleModel",
          "model_module_version": "1.5.0",
          "state": {
            "_model_module": "@jupyter-widgets/controls",
            "_model_module_version": "1.5.0",
            "_model_name": "DescriptionStyleModel",
            "_view_count": null,
            "_view_module": "@jupyter-widgets/base",
            "_view_module_version": "1.2.0",
            "_view_name": "StyleView",
            "description_width": ""
          }
        },
        "7682e20929df4fcf8138c2c685ea0260": {
          "model_module": "@jupyter-widgets/base",
          "model_name": "LayoutModel",
          "model_module_version": "1.2.0",
          "state": {
            "_model_module": "@jupyter-widgets/base",
            "_model_module_version": "1.2.0",
            "_model_name": "LayoutModel",
            "_view_count": null,
            "_view_module": "@jupyter-widgets/base",
            "_view_module_version": "1.2.0",
            "_view_name": "LayoutView",
            "align_content": null,
            "align_items": null,
            "align_self": null,
            "border": null,
            "bottom": null,
            "display": null,
            "flex": null,
            "flex_flow": null,
            "grid_area": null,
            "grid_auto_columns": null,
            "grid_auto_flow": null,
            "grid_auto_rows": null,
            "grid_column": null,
            "grid_gap": null,
            "grid_row": null,
            "grid_template_areas": null,
            "grid_template_columns": null,
            "grid_template_rows": null,
            "height": null,
            "justify_content": null,
            "justify_items": null,
            "left": null,
            "margin": null,
            "max_height": null,
            "max_width": null,
            "min_height": null,
            "min_width": null,
            "object_fit": null,
            "object_position": null,
            "order": null,
            "overflow": null,
            "overflow_x": null,
            "overflow_y": null,
            "padding": null,
            "right": null,
            "top": null,
            "visibility": null,
            "width": null
          }
        },
        "b651f0922b0f4377ba153ff6a34debdf": {
          "model_module": "@jupyter-widgets/controls",
          "model_name": "ProgressStyleModel",
          "model_module_version": "1.5.0",
          "state": {
            "_model_module": "@jupyter-widgets/controls",
            "_model_module_version": "1.5.0",
            "_model_name": "ProgressStyleModel",
            "_view_count": null,
            "_view_module": "@jupyter-widgets/base",
            "_view_module_version": "1.2.0",
            "_view_name": "StyleView",
            "bar_color": null,
            "description_width": ""
          }
        },
        "41e5be97aa86405e90dbfa342e9a00df": {
          "model_module": "@jupyter-widgets/base",
          "model_name": "LayoutModel",
          "model_module_version": "1.2.0",
          "state": {
            "_model_module": "@jupyter-widgets/base",
            "_model_module_version": "1.2.0",
            "_model_name": "LayoutModel",
            "_view_count": null,
            "_view_module": "@jupyter-widgets/base",
            "_view_module_version": "1.2.0",
            "_view_name": "LayoutView",
            "align_content": null,
            "align_items": null,
            "align_self": null,
            "border": null,
            "bottom": null,
            "display": null,
            "flex": null,
            "flex_flow": null,
            "grid_area": null,
            "grid_auto_columns": null,
            "grid_auto_flow": null,
            "grid_auto_rows": null,
            "grid_column": null,
            "grid_gap": null,
            "grid_row": null,
            "grid_template_areas": null,
            "grid_template_columns": null,
            "grid_template_rows": null,
            "height": null,
            "justify_content": null,
            "justify_items": null,
            "left": null,
            "margin": null,
            "max_height": null,
            "max_width": null,
            "min_height": null,
            "min_width": null,
            "object_fit": null,
            "object_position": null,
            "order": null,
            "overflow": null,
            "overflow_x": null,
            "overflow_y": null,
            "padding": null,
            "right": null,
            "top": null,
            "visibility": null,
            "width": null
          }
        },
        "e136571f8c854f1eb2c2cb927086f1ea": {
          "model_module": "@jupyter-widgets/controls",
          "model_name": "DescriptionStyleModel",
          "model_module_version": "1.5.0",
          "state": {
            "_model_module": "@jupyter-widgets/controls",
            "_model_module_version": "1.5.0",
            "_model_name": "DescriptionStyleModel",
            "_view_count": null,
            "_view_module": "@jupyter-widgets/base",
            "_view_module_version": "1.2.0",
            "_view_name": "StyleView",
            "description_width": ""
          }
        },
        "32615a5fb2ce493482edbc59bfb9e9d4": {
          "model_module": "@jupyter-widgets/controls",
          "model_name": "HBoxModel",
          "model_module_version": "1.5.0",
          "state": {
            "_dom_classes": [],
            "_model_module": "@jupyter-widgets/controls",
            "_model_module_version": "1.5.0",
            "_model_name": "HBoxModel",
            "_view_count": null,
            "_view_module": "@jupyter-widgets/controls",
            "_view_module_version": "1.5.0",
            "_view_name": "HBoxView",
            "box_style": "",
            "children": [
              "IPY_MODEL_5b3a1e328a6d4103999c4e60e56faf9b",
              "IPY_MODEL_0f5271bf718a4a11b2b44924b141ac9a",
              "IPY_MODEL_680fef4421c244359793ba3ca1933c56"
            ],
            "layout": "IPY_MODEL_4d5ec23c689b436790da0dead4beeacd"
          }
        },
        "5b3a1e328a6d4103999c4e60e56faf9b": {
          "model_module": "@jupyter-widgets/controls",
          "model_name": "HTMLModel",
          "model_module_version": "1.5.0",
          "state": {
            "_dom_classes": [],
            "_model_module": "@jupyter-widgets/controls",
            "_model_module_version": "1.5.0",
            "_model_name": "HTMLModel",
            "_view_count": null,
            "_view_module": "@jupyter-widgets/controls",
            "_view_module_version": "1.5.0",
            "_view_name": "HTMLView",
            "description": "",
            "description_tooltip": null,
            "layout": "IPY_MODEL_f1a239cc6beb4b849e2b87a86e25c3fd",
            "placeholder": "​",
            "style": "IPY_MODEL_66498e4dc34d422290b1e9741d27515d",
            "value": "Downloading: 100%"
          }
        },
        "0f5271bf718a4a11b2b44924b141ac9a": {
          "model_module": "@jupyter-widgets/controls",
          "model_name": "FloatProgressModel",
          "model_module_version": "1.5.0",
          "state": {
            "_dom_classes": [],
            "_model_module": "@jupyter-widgets/controls",
            "_model_module_version": "1.5.0",
            "_model_name": "FloatProgressModel",
            "_view_count": null,
            "_view_module": "@jupyter-widgets/controls",
            "_view_module_version": "1.5.0",
            "_view_name": "ProgressView",
            "bar_style": "success",
            "description": "",
            "description_tooltip": null,
            "layout": "IPY_MODEL_4f07d5fc6aa946358f3ecee68c4b2e45",
            "max": 112,
            "min": 0,
            "orientation": "horizontal",
            "style": "IPY_MODEL_d4f3d9ea2ec94a07a63ba80ffce9dd7f",
            "value": 112
          }
        },
        "680fef4421c244359793ba3ca1933c56": {
          "model_module": "@jupyter-widgets/controls",
          "model_name": "HTMLModel",
          "model_module_version": "1.5.0",
          "state": {
            "_dom_classes": [],
            "_model_module": "@jupyter-widgets/controls",
            "_model_module_version": "1.5.0",
            "_model_name": "HTMLModel",
            "_view_count": null,
            "_view_module": "@jupyter-widgets/controls",
            "_view_module_version": "1.5.0",
            "_view_name": "HTMLView",
            "description": "",
            "description_tooltip": null,
            "layout": "IPY_MODEL_5d6c4226cf1a4974baa0c99b8f44a0c0",
            "placeholder": "​",
            "style": "IPY_MODEL_98e403e4abe84035b4b37315b5bb8a30",
            "value": " 112/112 [00:00&lt;00:00, 3.03kB/s]"
          }
        },
        "4d5ec23c689b436790da0dead4beeacd": {
          "model_module": "@jupyter-widgets/base",
          "model_name": "LayoutModel",
          "model_module_version": "1.2.0",
          "state": {
            "_model_module": "@jupyter-widgets/base",
            "_model_module_version": "1.2.0",
            "_model_name": "LayoutModel",
            "_view_count": null,
            "_view_module": "@jupyter-widgets/base",
            "_view_module_version": "1.2.0",
            "_view_name": "LayoutView",
            "align_content": null,
            "align_items": null,
            "align_self": null,
            "border": null,
            "bottom": null,
            "display": null,
            "flex": null,
            "flex_flow": null,
            "grid_area": null,
            "grid_auto_columns": null,
            "grid_auto_flow": null,
            "grid_auto_rows": null,
            "grid_column": null,
            "grid_gap": null,
            "grid_row": null,
            "grid_template_areas": null,
            "grid_template_columns": null,
            "grid_template_rows": null,
            "height": null,
            "justify_content": null,
            "justify_items": null,
            "left": null,
            "margin": null,
            "max_height": null,
            "max_width": null,
            "min_height": null,
            "min_width": null,
            "object_fit": null,
            "object_position": null,
            "order": null,
            "overflow": null,
            "overflow_x": null,
            "overflow_y": null,
            "padding": null,
            "right": null,
            "top": null,
            "visibility": null,
            "width": null
          }
        },
        "f1a239cc6beb4b849e2b87a86e25c3fd": {
          "model_module": "@jupyter-widgets/base",
          "model_name": "LayoutModel",
          "model_module_version": "1.2.0",
          "state": {
            "_model_module": "@jupyter-widgets/base",
            "_model_module_version": "1.2.0",
            "_model_name": "LayoutModel",
            "_view_count": null,
            "_view_module": "@jupyter-widgets/base",
            "_view_module_version": "1.2.0",
            "_view_name": "LayoutView",
            "align_content": null,
            "align_items": null,
            "align_self": null,
            "border": null,
            "bottom": null,
            "display": null,
            "flex": null,
            "flex_flow": null,
            "grid_area": null,
            "grid_auto_columns": null,
            "grid_auto_flow": null,
            "grid_auto_rows": null,
            "grid_column": null,
            "grid_gap": null,
            "grid_row": null,
            "grid_template_areas": null,
            "grid_template_columns": null,
            "grid_template_rows": null,
            "height": null,
            "justify_content": null,
            "justify_items": null,
            "left": null,
            "margin": null,
            "max_height": null,
            "max_width": null,
            "min_height": null,
            "min_width": null,
            "object_fit": null,
            "object_position": null,
            "order": null,
            "overflow": null,
            "overflow_x": null,
            "overflow_y": null,
            "padding": null,
            "right": null,
            "top": null,
            "visibility": null,
            "width": null
          }
        },
        "66498e4dc34d422290b1e9741d27515d": {
          "model_module": "@jupyter-widgets/controls",
          "model_name": "DescriptionStyleModel",
          "model_module_version": "1.5.0",
          "state": {
            "_model_module": "@jupyter-widgets/controls",
            "_model_module_version": "1.5.0",
            "_model_name": "DescriptionStyleModel",
            "_view_count": null,
            "_view_module": "@jupyter-widgets/base",
            "_view_module_version": "1.2.0",
            "_view_name": "StyleView",
            "description_width": ""
          }
        },
        "4f07d5fc6aa946358f3ecee68c4b2e45": {
          "model_module": "@jupyter-widgets/base",
          "model_name": "LayoutModel",
          "model_module_version": "1.2.0",
          "state": {
            "_model_module": "@jupyter-widgets/base",
            "_model_module_version": "1.2.0",
            "_model_name": "LayoutModel",
            "_view_count": null,
            "_view_module": "@jupyter-widgets/base",
            "_view_module_version": "1.2.0",
            "_view_name": "LayoutView",
            "align_content": null,
            "align_items": null,
            "align_self": null,
            "border": null,
            "bottom": null,
            "display": null,
            "flex": null,
            "flex_flow": null,
            "grid_area": null,
            "grid_auto_columns": null,
            "grid_auto_flow": null,
            "grid_auto_rows": null,
            "grid_column": null,
            "grid_gap": null,
            "grid_row": null,
            "grid_template_areas": null,
            "grid_template_columns": null,
            "grid_template_rows": null,
            "height": null,
            "justify_content": null,
            "justify_items": null,
            "left": null,
            "margin": null,
            "max_height": null,
            "max_width": null,
            "min_height": null,
            "min_width": null,
            "object_fit": null,
            "object_position": null,
            "order": null,
            "overflow": null,
            "overflow_x": null,
            "overflow_y": null,
            "padding": null,
            "right": null,
            "top": null,
            "visibility": null,
            "width": null
          }
        },
        "d4f3d9ea2ec94a07a63ba80ffce9dd7f": {
          "model_module": "@jupyter-widgets/controls",
          "model_name": "ProgressStyleModel",
          "model_module_version": "1.5.0",
          "state": {
            "_model_module": "@jupyter-widgets/controls",
            "_model_module_version": "1.5.0",
            "_model_name": "ProgressStyleModel",
            "_view_count": null,
            "_view_module": "@jupyter-widgets/base",
            "_view_module_version": "1.2.0",
            "_view_name": "StyleView",
            "bar_color": null,
            "description_width": ""
          }
        },
        "5d6c4226cf1a4974baa0c99b8f44a0c0": {
          "model_module": "@jupyter-widgets/base",
          "model_name": "LayoutModel",
          "model_module_version": "1.2.0",
          "state": {
            "_model_module": "@jupyter-widgets/base",
            "_model_module_version": "1.2.0",
            "_model_name": "LayoutModel",
            "_view_count": null,
            "_view_module": "@jupyter-widgets/base",
            "_view_module_version": "1.2.0",
            "_view_name": "LayoutView",
            "align_content": null,
            "align_items": null,
            "align_self": null,
            "border": null,
            "bottom": null,
            "display": null,
            "flex": null,
            "flex_flow": null,
            "grid_area": null,
            "grid_auto_columns": null,
            "grid_auto_flow": null,
            "grid_auto_rows": null,
            "grid_column": null,
            "grid_gap": null,
            "grid_row": null,
            "grid_template_areas": null,
            "grid_template_columns": null,
            "grid_template_rows": null,
            "height": null,
            "justify_content": null,
            "justify_items": null,
            "left": null,
            "margin": null,
            "max_height": null,
            "max_width": null,
            "min_height": null,
            "min_width": null,
            "object_fit": null,
            "object_position": null,
            "order": null,
            "overflow": null,
            "overflow_x": null,
            "overflow_y": null,
            "padding": null,
            "right": null,
            "top": null,
            "visibility": null,
            "width": null
          }
        },
        "98e403e4abe84035b4b37315b5bb8a30": {
          "model_module": "@jupyter-widgets/controls",
          "model_name": "DescriptionStyleModel",
          "model_module_version": "1.5.0",
          "state": {
            "_model_module": "@jupyter-widgets/controls",
            "_model_module_version": "1.5.0",
            "_model_name": "DescriptionStyleModel",
            "_view_count": null,
            "_view_module": "@jupyter-widgets/base",
            "_view_module_version": "1.2.0",
            "_view_name": "StyleView",
            "description_width": ""
          }
        },
        "b31ad55fd4504ecc9090091469d23f3e": {
          "model_module": "@jupyter-widgets/controls",
          "model_name": "HBoxModel",
          "model_module_version": "1.5.0",
          "state": {
            "_dom_classes": [],
            "_model_module": "@jupyter-widgets/controls",
            "_model_module_version": "1.5.0",
            "_model_name": "HBoxModel",
            "_view_count": null,
            "_view_module": "@jupyter-widgets/controls",
            "_view_module_version": "1.5.0",
            "_view_name": "HBoxView",
            "box_style": "",
            "children": [
              "IPY_MODEL_f7b092bb8d9c443f8d5115c905a03e2e",
              "IPY_MODEL_76bc6fe39bd34765a52df1d081462cb8",
              "IPY_MODEL_1425c3bed0714c24ba274af23c12b772"
            ],
            "layout": "IPY_MODEL_ff02f323b80a41b997847c9d1e1e431a"
          }
        },
        "f7b092bb8d9c443f8d5115c905a03e2e": {
          "model_module": "@jupyter-widgets/controls",
          "model_name": "HTMLModel",
          "model_module_version": "1.5.0",
          "state": {
            "_dom_classes": [],
            "_model_module": "@jupyter-widgets/controls",
            "_model_module_version": "1.5.0",
            "_model_name": "HTMLModel",
            "_view_count": null,
            "_view_module": "@jupyter-widgets/controls",
            "_view_module_version": "1.5.0",
            "_view_name": "HTMLView",
            "description": "",
            "description_tooltip": null,
            "layout": "IPY_MODEL_0912650397ac42fe85a760056c19183f",
            "placeholder": "​",
            "style": "IPY_MODEL_e82fccb47222464384e2c657ed7e5efb",
            "value": "Downloading: 100%"
          }
        },
        "76bc6fe39bd34765a52df1d081462cb8": {
          "model_module": "@jupyter-widgets/controls",
          "model_name": "FloatProgressModel",
          "model_module_version": "1.5.0",
          "state": {
            "_dom_classes": [],
            "_model_module": "@jupyter-widgets/controls",
            "_model_module_version": "1.5.0",
            "_model_name": "FloatProgressModel",
            "_view_count": null,
            "_view_module": "@jupyter-widgets/controls",
            "_view_module_version": "1.5.0",
            "_view_name": "ProgressView",
            "bar_style": "success",
            "description": "",
            "description_tooltip": null,
            "layout": "IPY_MODEL_e34348dc19fd450dad6efcdc6bf7eead",
            "max": 466081,
            "min": 0,
            "orientation": "horizontal",
            "style": "IPY_MODEL_5e2dd99c95dc48d6a155b50a76300574",
            "value": 466081
          }
        },
        "1425c3bed0714c24ba274af23c12b772": {
          "model_module": "@jupyter-widgets/controls",
          "model_name": "HTMLModel",
          "model_module_version": "1.5.0",
          "state": {
            "_dom_classes": [],
            "_model_module": "@jupyter-widgets/controls",
            "_model_module_version": "1.5.0",
            "_model_name": "HTMLModel",
            "_view_count": null,
            "_view_module": "@jupyter-widgets/controls",
            "_view_module_version": "1.5.0",
            "_view_name": "HTMLView",
            "description": "",
            "description_tooltip": null,
            "layout": "IPY_MODEL_7295ef2a9f57457d98d065f9a5a98d0e",
            "placeholder": "​",
            "style": "IPY_MODEL_43ac78bd8d494a318e26baa5c1563b01",
            "value": " 466k/466k [00:00&lt;00:00, 679kB/s]"
          }
        },
        "ff02f323b80a41b997847c9d1e1e431a": {
          "model_module": "@jupyter-widgets/base",
          "model_name": "LayoutModel",
          "model_module_version": "1.2.0",
          "state": {
            "_model_module": "@jupyter-widgets/base",
            "_model_module_version": "1.2.0",
            "_model_name": "LayoutModel",
            "_view_count": null,
            "_view_module": "@jupyter-widgets/base",
            "_view_module_version": "1.2.0",
            "_view_name": "LayoutView",
            "align_content": null,
            "align_items": null,
            "align_self": null,
            "border": null,
            "bottom": null,
            "display": null,
            "flex": null,
            "flex_flow": null,
            "grid_area": null,
            "grid_auto_columns": null,
            "grid_auto_flow": null,
            "grid_auto_rows": null,
            "grid_column": null,
            "grid_gap": null,
            "grid_row": null,
            "grid_template_areas": null,
            "grid_template_columns": null,
            "grid_template_rows": null,
            "height": null,
            "justify_content": null,
            "justify_items": null,
            "left": null,
            "margin": null,
            "max_height": null,
            "max_width": null,
            "min_height": null,
            "min_width": null,
            "object_fit": null,
            "object_position": null,
            "order": null,
            "overflow": null,
            "overflow_x": null,
            "overflow_y": null,
            "padding": null,
            "right": null,
            "top": null,
            "visibility": null,
            "width": null
          }
        },
        "0912650397ac42fe85a760056c19183f": {
          "model_module": "@jupyter-widgets/base",
          "model_name": "LayoutModel",
          "model_module_version": "1.2.0",
          "state": {
            "_model_module": "@jupyter-widgets/base",
            "_model_module_version": "1.2.0",
            "_model_name": "LayoutModel",
            "_view_count": null,
            "_view_module": "@jupyter-widgets/base",
            "_view_module_version": "1.2.0",
            "_view_name": "LayoutView",
            "align_content": null,
            "align_items": null,
            "align_self": null,
            "border": null,
            "bottom": null,
            "display": null,
            "flex": null,
            "flex_flow": null,
            "grid_area": null,
            "grid_auto_columns": null,
            "grid_auto_flow": null,
            "grid_auto_rows": null,
            "grid_column": null,
            "grid_gap": null,
            "grid_row": null,
            "grid_template_areas": null,
            "grid_template_columns": null,
            "grid_template_rows": null,
            "height": null,
            "justify_content": null,
            "justify_items": null,
            "left": null,
            "margin": null,
            "max_height": null,
            "max_width": null,
            "min_height": null,
            "min_width": null,
            "object_fit": null,
            "object_position": null,
            "order": null,
            "overflow": null,
            "overflow_x": null,
            "overflow_y": null,
            "padding": null,
            "right": null,
            "top": null,
            "visibility": null,
            "width": null
          }
        },
        "e82fccb47222464384e2c657ed7e5efb": {
          "model_module": "@jupyter-widgets/controls",
          "model_name": "DescriptionStyleModel",
          "model_module_version": "1.5.0",
          "state": {
            "_model_module": "@jupyter-widgets/controls",
            "_model_module_version": "1.5.0",
            "_model_name": "DescriptionStyleModel",
            "_view_count": null,
            "_view_module": "@jupyter-widgets/base",
            "_view_module_version": "1.2.0",
            "_view_name": "StyleView",
            "description_width": ""
          }
        },
        "e34348dc19fd450dad6efcdc6bf7eead": {
          "model_module": "@jupyter-widgets/base",
          "model_name": "LayoutModel",
          "model_module_version": "1.2.0",
          "state": {
            "_model_module": "@jupyter-widgets/base",
            "_model_module_version": "1.2.0",
            "_model_name": "LayoutModel",
            "_view_count": null,
            "_view_module": "@jupyter-widgets/base",
            "_view_module_version": "1.2.0",
            "_view_name": "LayoutView",
            "align_content": null,
            "align_items": null,
            "align_self": null,
            "border": null,
            "bottom": null,
            "display": null,
            "flex": null,
            "flex_flow": null,
            "grid_area": null,
            "grid_auto_columns": null,
            "grid_auto_flow": null,
            "grid_auto_rows": null,
            "grid_column": null,
            "grid_gap": null,
            "grid_row": null,
            "grid_template_areas": null,
            "grid_template_columns": null,
            "grid_template_rows": null,
            "height": null,
            "justify_content": null,
            "justify_items": null,
            "left": null,
            "margin": null,
            "max_height": null,
            "max_width": null,
            "min_height": null,
            "min_width": null,
            "object_fit": null,
            "object_position": null,
            "order": null,
            "overflow": null,
            "overflow_x": null,
            "overflow_y": null,
            "padding": null,
            "right": null,
            "top": null,
            "visibility": null,
            "width": null
          }
        },
        "5e2dd99c95dc48d6a155b50a76300574": {
          "model_module": "@jupyter-widgets/controls",
          "model_name": "ProgressStyleModel",
          "model_module_version": "1.5.0",
          "state": {
            "_model_module": "@jupyter-widgets/controls",
            "_model_module_version": "1.5.0",
            "_model_name": "ProgressStyleModel",
            "_view_count": null,
            "_view_module": "@jupyter-widgets/base",
            "_view_module_version": "1.2.0",
            "_view_name": "StyleView",
            "bar_color": null,
            "description_width": ""
          }
        },
        "7295ef2a9f57457d98d065f9a5a98d0e": {
          "model_module": "@jupyter-widgets/base",
          "model_name": "LayoutModel",
          "model_module_version": "1.2.0",
          "state": {
            "_model_module": "@jupyter-widgets/base",
            "_model_module_version": "1.2.0",
            "_model_name": "LayoutModel",
            "_view_count": null,
            "_view_module": "@jupyter-widgets/base",
            "_view_module_version": "1.2.0",
            "_view_name": "LayoutView",
            "align_content": null,
            "align_items": null,
            "align_self": null,
            "border": null,
            "bottom": null,
            "display": null,
            "flex": null,
            "flex_flow": null,
            "grid_area": null,
            "grid_auto_columns": null,
            "grid_auto_flow": null,
            "grid_auto_rows": null,
            "grid_column": null,
            "grid_gap": null,
            "grid_row": null,
            "grid_template_areas": null,
            "grid_template_columns": null,
            "grid_template_rows": null,
            "height": null,
            "justify_content": null,
            "justify_items": null,
            "left": null,
            "margin": null,
            "max_height": null,
            "max_width": null,
            "min_height": null,
            "min_width": null,
            "object_fit": null,
            "object_position": null,
            "order": null,
            "overflow": null,
            "overflow_x": null,
            "overflow_y": null,
            "padding": null,
            "right": null,
            "top": null,
            "visibility": null,
            "width": null
          }
        },
        "43ac78bd8d494a318e26baa5c1563b01": {
          "model_module": "@jupyter-widgets/controls",
          "model_name": "DescriptionStyleModel",
          "model_module_version": "1.5.0",
          "state": {
            "_model_module": "@jupyter-widgets/controls",
            "_model_module_version": "1.5.0",
            "_model_name": "DescriptionStyleModel",
            "_view_count": null,
            "_view_module": "@jupyter-widgets/base",
            "_view_module_version": "1.2.0",
            "_view_name": "StyleView",
            "description_width": ""
          }
        },
        "158f44e990a245f4a06fb3b7b50c0d1d": {
          "model_module": "@jupyter-widgets/controls",
          "model_name": "HBoxModel",
          "model_module_version": "1.5.0",
          "state": {
            "_dom_classes": [],
            "_model_module": "@jupyter-widgets/controls",
            "_model_module_version": "1.5.0",
            "_model_name": "HBoxModel",
            "_view_count": null,
            "_view_module": "@jupyter-widgets/controls",
            "_view_module_version": "1.5.0",
            "_view_name": "HBoxView",
            "box_style": "",
            "children": [
              "IPY_MODEL_e24828642aa44e8792c09d9d3f3de4f1",
              "IPY_MODEL_7853812bcaf143ffa2b5eea00a911af4",
              "IPY_MODEL_214dcfa380e545d187bb738f5bab7ba5"
            ],
            "layout": "IPY_MODEL_7a8f8b2ee8e7494bbb753469a44ab732"
          }
        },
        "e24828642aa44e8792c09d9d3f3de4f1": {
          "model_module": "@jupyter-widgets/controls",
          "model_name": "HTMLModel",
          "model_module_version": "1.5.0",
          "state": {
            "_dom_classes": [],
            "_model_module": "@jupyter-widgets/controls",
            "_model_module_version": "1.5.0",
            "_model_name": "HTMLModel",
            "_view_count": null,
            "_view_module": "@jupyter-widgets/controls",
            "_view_module_version": "1.5.0",
            "_view_name": "HTMLView",
            "description": "",
            "description_tooltip": null,
            "layout": "IPY_MODEL_a46b1d13e96640e5b6fe8caef938a3c6",
            "placeholder": "​",
            "style": "IPY_MODEL_0cabb59fd5d2486e88777371ede19c66",
            "value": "Downloading: 100%"
          }
        },
        "7853812bcaf143ffa2b5eea00a911af4": {
          "model_module": "@jupyter-widgets/controls",
          "model_name": "FloatProgressModel",
          "model_module_version": "1.5.0",
          "state": {
            "_dom_classes": [],
            "_model_module": "@jupyter-widgets/controls",
            "_model_module_version": "1.5.0",
            "_model_name": "FloatProgressModel",
            "_view_count": null,
            "_view_module": "@jupyter-widgets/controls",
            "_view_module_version": "1.5.0",
            "_view_name": "ProgressView",
            "bar_style": "success",
            "description": "",
            "description_tooltip": null,
            "layout": "IPY_MODEL_87ff89d6b5514377919562bf87b9563a",
            "max": 399,
            "min": 0,
            "orientation": "horizontal",
            "style": "IPY_MODEL_63b1f471b2684d3b9e2eae740c80c5ae",
            "value": 399
          }
        },
        "214dcfa380e545d187bb738f5bab7ba5": {
          "model_module": "@jupyter-widgets/controls",
          "model_name": "HTMLModel",
          "model_module_version": "1.5.0",
          "state": {
            "_dom_classes": [],
            "_model_module": "@jupyter-widgets/controls",
            "_model_module_version": "1.5.0",
            "_model_name": "HTMLModel",
            "_view_count": null,
            "_view_module": "@jupyter-widgets/controls",
            "_view_module_version": "1.5.0",
            "_view_name": "HTMLView",
            "description": "",
            "description_tooltip": null,
            "layout": "IPY_MODEL_2fa0fcd2a2e3466c8fdedb029f261738",
            "placeholder": "​",
            "style": "IPY_MODEL_a1fd773ca27d4521b8a0fadaec49e78c",
            "value": " 399/399 [00:00&lt;00:00, 10.9kB/s]"
          }
        },
        "7a8f8b2ee8e7494bbb753469a44ab732": {
          "model_module": "@jupyter-widgets/base",
          "model_name": "LayoutModel",
          "model_module_version": "1.2.0",
          "state": {
            "_model_module": "@jupyter-widgets/base",
            "_model_module_version": "1.2.0",
            "_model_name": "LayoutModel",
            "_view_count": null,
            "_view_module": "@jupyter-widgets/base",
            "_view_module_version": "1.2.0",
            "_view_name": "LayoutView",
            "align_content": null,
            "align_items": null,
            "align_self": null,
            "border": null,
            "bottom": null,
            "display": null,
            "flex": null,
            "flex_flow": null,
            "grid_area": null,
            "grid_auto_columns": null,
            "grid_auto_flow": null,
            "grid_auto_rows": null,
            "grid_column": null,
            "grid_gap": null,
            "grid_row": null,
            "grid_template_areas": null,
            "grid_template_columns": null,
            "grid_template_rows": null,
            "height": null,
            "justify_content": null,
            "justify_items": null,
            "left": null,
            "margin": null,
            "max_height": null,
            "max_width": null,
            "min_height": null,
            "min_width": null,
            "object_fit": null,
            "object_position": null,
            "order": null,
            "overflow": null,
            "overflow_x": null,
            "overflow_y": null,
            "padding": null,
            "right": null,
            "top": null,
            "visibility": null,
            "width": null
          }
        },
        "a46b1d13e96640e5b6fe8caef938a3c6": {
          "model_module": "@jupyter-widgets/base",
          "model_name": "LayoutModel",
          "model_module_version": "1.2.0",
          "state": {
            "_model_module": "@jupyter-widgets/base",
            "_model_module_version": "1.2.0",
            "_model_name": "LayoutModel",
            "_view_count": null,
            "_view_module": "@jupyter-widgets/base",
            "_view_module_version": "1.2.0",
            "_view_name": "LayoutView",
            "align_content": null,
            "align_items": null,
            "align_self": null,
            "border": null,
            "bottom": null,
            "display": null,
            "flex": null,
            "flex_flow": null,
            "grid_area": null,
            "grid_auto_columns": null,
            "grid_auto_flow": null,
            "grid_auto_rows": null,
            "grid_column": null,
            "grid_gap": null,
            "grid_row": null,
            "grid_template_areas": null,
            "grid_template_columns": null,
            "grid_template_rows": null,
            "height": null,
            "justify_content": null,
            "justify_items": null,
            "left": null,
            "margin": null,
            "max_height": null,
            "max_width": null,
            "min_height": null,
            "min_width": null,
            "object_fit": null,
            "object_position": null,
            "order": null,
            "overflow": null,
            "overflow_x": null,
            "overflow_y": null,
            "padding": null,
            "right": null,
            "top": null,
            "visibility": null,
            "width": null
          }
        },
        "0cabb59fd5d2486e88777371ede19c66": {
          "model_module": "@jupyter-widgets/controls",
          "model_name": "DescriptionStyleModel",
          "model_module_version": "1.5.0",
          "state": {
            "_model_module": "@jupyter-widgets/controls",
            "_model_module_version": "1.5.0",
            "_model_name": "DescriptionStyleModel",
            "_view_count": null,
            "_view_module": "@jupyter-widgets/base",
            "_view_module_version": "1.2.0",
            "_view_name": "StyleView",
            "description_width": ""
          }
        },
        "87ff89d6b5514377919562bf87b9563a": {
          "model_module": "@jupyter-widgets/base",
          "model_name": "LayoutModel",
          "model_module_version": "1.2.0",
          "state": {
            "_model_module": "@jupyter-widgets/base",
            "_model_module_version": "1.2.0",
            "_model_name": "LayoutModel",
            "_view_count": null,
            "_view_module": "@jupyter-widgets/base",
            "_view_module_version": "1.2.0",
            "_view_name": "LayoutView",
            "align_content": null,
            "align_items": null,
            "align_self": null,
            "border": null,
            "bottom": null,
            "display": null,
            "flex": null,
            "flex_flow": null,
            "grid_area": null,
            "grid_auto_columns": null,
            "grid_auto_flow": null,
            "grid_auto_rows": null,
            "grid_column": null,
            "grid_gap": null,
            "grid_row": null,
            "grid_template_areas": null,
            "grid_template_columns": null,
            "grid_template_rows": null,
            "height": null,
            "justify_content": null,
            "justify_items": null,
            "left": null,
            "margin": null,
            "max_height": null,
            "max_width": null,
            "min_height": null,
            "min_width": null,
            "object_fit": null,
            "object_position": null,
            "order": null,
            "overflow": null,
            "overflow_x": null,
            "overflow_y": null,
            "padding": null,
            "right": null,
            "top": null,
            "visibility": null,
            "width": null
          }
        },
        "63b1f471b2684d3b9e2eae740c80c5ae": {
          "model_module": "@jupyter-widgets/controls",
          "model_name": "ProgressStyleModel",
          "model_module_version": "1.5.0",
          "state": {
            "_model_module": "@jupyter-widgets/controls",
            "_model_module_version": "1.5.0",
            "_model_name": "ProgressStyleModel",
            "_view_count": null,
            "_view_module": "@jupyter-widgets/base",
            "_view_module_version": "1.2.0",
            "_view_name": "StyleView",
            "bar_color": null,
            "description_width": ""
          }
        },
        "2fa0fcd2a2e3466c8fdedb029f261738": {
          "model_module": "@jupyter-widgets/base",
          "model_name": "LayoutModel",
          "model_module_version": "1.2.0",
          "state": {
            "_model_module": "@jupyter-widgets/base",
            "_model_module_version": "1.2.0",
            "_model_name": "LayoutModel",
            "_view_count": null,
            "_view_module": "@jupyter-widgets/base",
            "_view_module_version": "1.2.0",
            "_view_name": "LayoutView",
            "align_content": null,
            "align_items": null,
            "align_self": null,
            "border": null,
            "bottom": null,
            "display": null,
            "flex": null,
            "flex_flow": null,
            "grid_area": null,
            "grid_auto_columns": null,
            "grid_auto_flow": null,
            "grid_auto_rows": null,
            "grid_column": null,
            "grid_gap": null,
            "grid_row": null,
            "grid_template_areas": null,
            "grid_template_columns": null,
            "grid_template_rows": null,
            "height": null,
            "justify_content": null,
            "justify_items": null,
            "left": null,
            "margin": null,
            "max_height": null,
            "max_width": null,
            "min_height": null,
            "min_width": null,
            "object_fit": null,
            "object_position": null,
            "order": null,
            "overflow": null,
            "overflow_x": null,
            "overflow_y": null,
            "padding": null,
            "right": null,
            "top": null,
            "visibility": null,
            "width": null
          }
        },
        "a1fd773ca27d4521b8a0fadaec49e78c": {
          "model_module": "@jupyter-widgets/controls",
          "model_name": "DescriptionStyleModel",
          "model_module_version": "1.5.0",
          "state": {
            "_model_module": "@jupyter-widgets/controls",
            "_model_module_version": "1.5.0",
            "_model_name": "DescriptionStyleModel",
            "_view_count": null,
            "_view_module": "@jupyter-widgets/base",
            "_view_module_version": "1.2.0",
            "_view_name": "StyleView",
            "description_width": ""
          }
        },
        "f77f85ac0da74724b83db9ae14dd310e": {
          "model_module": "@jupyter-widgets/controls",
          "model_name": "HBoxModel",
          "model_module_version": "1.5.0",
          "state": {
            "_dom_classes": [],
            "_model_module": "@jupyter-widgets/controls",
            "_model_module_version": "1.5.0",
            "_model_name": "HBoxModel",
            "_view_count": null,
            "_view_module": "@jupyter-widgets/controls",
            "_view_module_version": "1.5.0",
            "_view_name": "HBoxView",
            "box_style": "",
            "children": [
              "IPY_MODEL_50683459c4c4477990bd9467bc0fe18f",
              "IPY_MODEL_0b4bc4b693ca44929c86104b252fe7d0",
              "IPY_MODEL_84be8bcdd95f4fe2bc31c0a231b1c195"
            ],
            "layout": "IPY_MODEL_cfef633cc9eb467aa8636696c1ada976"
          }
        },
        "50683459c4c4477990bd9467bc0fe18f": {
          "model_module": "@jupyter-widgets/controls",
          "model_name": "HTMLModel",
          "model_module_version": "1.5.0",
          "state": {
            "_dom_classes": [],
            "_model_module": "@jupyter-widgets/controls",
            "_model_module_version": "1.5.0",
            "_model_name": "HTMLModel",
            "_view_count": null,
            "_view_module": "@jupyter-widgets/controls",
            "_view_module_version": "1.5.0",
            "_view_name": "HTMLView",
            "description": "",
            "description_tooltip": null,
            "layout": "IPY_MODEL_74c019f812a74e248a72d5ad9bc5397c",
            "placeholder": "​",
            "style": "IPY_MODEL_c526ab7aa80c4ba986c81ce14b2782f5",
            "value": "Downloading: 100%"
          }
        },
        "0b4bc4b693ca44929c86104b252fe7d0": {
          "model_module": "@jupyter-widgets/controls",
          "model_name": "FloatProgressModel",
          "model_module_version": "1.5.0",
          "state": {
            "_dom_classes": [],
            "_model_module": "@jupyter-widgets/controls",
            "_model_module_version": "1.5.0",
            "_model_name": "FloatProgressModel",
            "_view_count": null,
            "_view_module": "@jupyter-widgets/controls",
            "_view_module_version": "1.5.0",
            "_view_name": "ProgressView",
            "bar_style": "success",
            "description": "",
            "description_tooltip": null,
            "layout": "IPY_MODEL_e75a74b1b496428582d32bcbcd7c9617",
            "max": 231508,
            "min": 0,
            "orientation": "horizontal",
            "style": "IPY_MODEL_07f9cc36638b4fb2aa40719b2ee97ded",
            "value": 231508
          }
        },
        "84be8bcdd95f4fe2bc31c0a231b1c195": {
          "model_module": "@jupyter-widgets/controls",
          "model_name": "HTMLModel",
          "model_module_version": "1.5.0",
          "state": {
            "_dom_classes": [],
            "_model_module": "@jupyter-widgets/controls",
            "_model_module_version": "1.5.0",
            "_model_name": "HTMLModel",
            "_view_count": null,
            "_view_module": "@jupyter-widgets/controls",
            "_view_module_version": "1.5.0",
            "_view_name": "HTMLView",
            "description": "",
            "description_tooltip": null,
            "layout": "IPY_MODEL_f3a3b44de18a4e5799f6da6bfd08c5be",
            "placeholder": "​",
            "style": "IPY_MODEL_09ff11a45ada4ba38aca739f3e580e6d",
            "value": " 232k/232k [00:00&lt;00:00, 591kB/s]"
          }
        },
        "cfef633cc9eb467aa8636696c1ada976": {
          "model_module": "@jupyter-widgets/base",
          "model_name": "LayoutModel",
          "model_module_version": "1.2.0",
          "state": {
            "_model_module": "@jupyter-widgets/base",
            "_model_module_version": "1.2.0",
            "_model_name": "LayoutModel",
            "_view_count": null,
            "_view_module": "@jupyter-widgets/base",
            "_view_module_version": "1.2.0",
            "_view_name": "LayoutView",
            "align_content": null,
            "align_items": null,
            "align_self": null,
            "border": null,
            "bottom": null,
            "display": null,
            "flex": null,
            "flex_flow": null,
            "grid_area": null,
            "grid_auto_columns": null,
            "grid_auto_flow": null,
            "grid_auto_rows": null,
            "grid_column": null,
            "grid_gap": null,
            "grid_row": null,
            "grid_template_areas": null,
            "grid_template_columns": null,
            "grid_template_rows": null,
            "height": null,
            "justify_content": null,
            "justify_items": null,
            "left": null,
            "margin": null,
            "max_height": null,
            "max_width": null,
            "min_height": null,
            "min_width": null,
            "object_fit": null,
            "object_position": null,
            "order": null,
            "overflow": null,
            "overflow_x": null,
            "overflow_y": null,
            "padding": null,
            "right": null,
            "top": null,
            "visibility": null,
            "width": null
          }
        },
        "74c019f812a74e248a72d5ad9bc5397c": {
          "model_module": "@jupyter-widgets/base",
          "model_name": "LayoutModel",
          "model_module_version": "1.2.0",
          "state": {
            "_model_module": "@jupyter-widgets/base",
            "_model_module_version": "1.2.0",
            "_model_name": "LayoutModel",
            "_view_count": null,
            "_view_module": "@jupyter-widgets/base",
            "_view_module_version": "1.2.0",
            "_view_name": "LayoutView",
            "align_content": null,
            "align_items": null,
            "align_self": null,
            "border": null,
            "bottom": null,
            "display": null,
            "flex": null,
            "flex_flow": null,
            "grid_area": null,
            "grid_auto_columns": null,
            "grid_auto_flow": null,
            "grid_auto_rows": null,
            "grid_column": null,
            "grid_gap": null,
            "grid_row": null,
            "grid_template_areas": null,
            "grid_template_columns": null,
            "grid_template_rows": null,
            "height": null,
            "justify_content": null,
            "justify_items": null,
            "left": null,
            "margin": null,
            "max_height": null,
            "max_width": null,
            "min_height": null,
            "min_width": null,
            "object_fit": null,
            "object_position": null,
            "order": null,
            "overflow": null,
            "overflow_x": null,
            "overflow_y": null,
            "padding": null,
            "right": null,
            "top": null,
            "visibility": null,
            "width": null
          }
        },
        "c526ab7aa80c4ba986c81ce14b2782f5": {
          "model_module": "@jupyter-widgets/controls",
          "model_name": "DescriptionStyleModel",
          "model_module_version": "1.5.0",
          "state": {
            "_model_module": "@jupyter-widgets/controls",
            "_model_module_version": "1.5.0",
            "_model_name": "DescriptionStyleModel",
            "_view_count": null,
            "_view_module": "@jupyter-widgets/base",
            "_view_module_version": "1.2.0",
            "_view_name": "StyleView",
            "description_width": ""
          }
        },
        "e75a74b1b496428582d32bcbcd7c9617": {
          "model_module": "@jupyter-widgets/base",
          "model_name": "LayoutModel",
          "model_module_version": "1.2.0",
          "state": {
            "_model_module": "@jupyter-widgets/base",
            "_model_module_version": "1.2.0",
            "_model_name": "LayoutModel",
            "_view_count": null,
            "_view_module": "@jupyter-widgets/base",
            "_view_module_version": "1.2.0",
            "_view_name": "LayoutView",
            "align_content": null,
            "align_items": null,
            "align_self": null,
            "border": null,
            "bottom": null,
            "display": null,
            "flex": null,
            "flex_flow": null,
            "grid_area": null,
            "grid_auto_columns": null,
            "grid_auto_flow": null,
            "grid_auto_rows": null,
            "grid_column": null,
            "grid_gap": null,
            "grid_row": null,
            "grid_template_areas": null,
            "grid_template_columns": null,
            "grid_template_rows": null,
            "height": null,
            "justify_content": null,
            "justify_items": null,
            "left": null,
            "margin": null,
            "max_height": null,
            "max_width": null,
            "min_height": null,
            "min_width": null,
            "object_fit": null,
            "object_position": null,
            "order": null,
            "overflow": null,
            "overflow_x": null,
            "overflow_y": null,
            "padding": null,
            "right": null,
            "top": null,
            "visibility": null,
            "width": null
          }
        },
        "07f9cc36638b4fb2aa40719b2ee97ded": {
          "model_module": "@jupyter-widgets/controls",
          "model_name": "ProgressStyleModel",
          "model_module_version": "1.5.0",
          "state": {
            "_model_module": "@jupyter-widgets/controls",
            "_model_module_version": "1.5.0",
            "_model_name": "ProgressStyleModel",
            "_view_count": null,
            "_view_module": "@jupyter-widgets/base",
            "_view_module_version": "1.2.0",
            "_view_name": "StyleView",
            "bar_color": null,
            "description_width": ""
          }
        },
        "f3a3b44de18a4e5799f6da6bfd08c5be": {
          "model_module": "@jupyter-widgets/base",
          "model_name": "LayoutModel",
          "model_module_version": "1.2.0",
          "state": {
            "_model_module": "@jupyter-widgets/base",
            "_model_module_version": "1.2.0",
            "_model_name": "LayoutModel",
            "_view_count": null,
            "_view_module": "@jupyter-widgets/base",
            "_view_module_version": "1.2.0",
            "_view_name": "LayoutView",
            "align_content": null,
            "align_items": null,
            "align_self": null,
            "border": null,
            "bottom": null,
            "display": null,
            "flex": null,
            "flex_flow": null,
            "grid_area": null,
            "grid_auto_columns": null,
            "grid_auto_flow": null,
            "grid_auto_rows": null,
            "grid_column": null,
            "grid_gap": null,
            "grid_row": null,
            "grid_template_areas": null,
            "grid_template_columns": null,
            "grid_template_rows": null,
            "height": null,
            "justify_content": null,
            "justify_items": null,
            "left": null,
            "margin": null,
            "max_height": null,
            "max_width": null,
            "min_height": null,
            "min_width": null,
            "object_fit": null,
            "object_position": null,
            "order": null,
            "overflow": null,
            "overflow_x": null,
            "overflow_y": null,
            "padding": null,
            "right": null,
            "top": null,
            "visibility": null,
            "width": null
          }
        },
        "09ff11a45ada4ba38aca739f3e580e6d": {
          "model_module": "@jupyter-widgets/controls",
          "model_name": "DescriptionStyleModel",
          "model_module_version": "1.5.0",
          "state": {
            "_model_module": "@jupyter-widgets/controls",
            "_model_module_version": "1.5.0",
            "_model_name": "DescriptionStyleModel",
            "_view_count": null,
            "_view_module": "@jupyter-widgets/base",
            "_view_module_version": "1.2.0",
            "_view_name": "StyleView",
            "description_width": ""
          }
        },
        "8bf6370eb41d4518ae735fc1b112ab39": {
          "model_module": "@jupyter-widgets/controls",
          "model_name": "HBoxModel",
          "model_module_version": "1.5.0",
          "state": {
            "_dom_classes": [],
            "_model_module": "@jupyter-widgets/controls",
            "_model_module_version": "1.5.0",
            "_model_name": "HBoxModel",
            "_view_count": null,
            "_view_module": "@jupyter-widgets/controls",
            "_view_module_version": "1.5.0",
            "_view_name": "HBoxView",
            "box_style": "",
            "children": [
              "IPY_MODEL_0d670cdd632b4d069317468292559440",
              "IPY_MODEL_2d0b58410ba64af48b5550634b6d8247",
              "IPY_MODEL_46a0d75a61b147f690066a0eaf7dbe50"
            ],
            "layout": "IPY_MODEL_0e5f54ae76bb4072ae349772029e9286"
          }
        },
        "0d670cdd632b4d069317468292559440": {
          "model_module": "@jupyter-widgets/controls",
          "model_name": "HTMLModel",
          "model_module_version": "1.5.0",
          "state": {
            "_dom_classes": [],
            "_model_module": "@jupyter-widgets/controls",
            "_model_module_version": "1.5.0",
            "_model_name": "HTMLModel",
            "_view_count": null,
            "_view_module": "@jupyter-widgets/controls",
            "_view_module_version": "1.5.0",
            "_view_name": "HTMLView",
            "description": "",
            "description_tooltip": null,
            "layout": "IPY_MODEL_66125cf3867e4259bd469b447c51f7a5",
            "placeholder": "​",
            "style": "IPY_MODEL_fa339251f2ad4851b4b3798a362f36fd",
            "value": "Downloading: 100%"
          }
        },
        "2d0b58410ba64af48b5550634b6d8247": {
          "model_module": "@jupyter-widgets/controls",
          "model_name": "FloatProgressModel",
          "model_module_version": "1.5.0",
          "state": {
            "_dom_classes": [],
            "_model_module": "@jupyter-widgets/controls",
            "_model_module_version": "1.5.0",
            "_model_name": "FloatProgressModel",
            "_view_count": null,
            "_view_module": "@jupyter-widgets/controls",
            "_view_module_version": "1.5.0",
            "_view_name": "ProgressView",
            "bar_style": "success",
            "description": "",
            "description_tooltip": null,
            "layout": "IPY_MODEL_5f428e9a76af4a72af8b6af6458e577f",
            "max": 1802,
            "min": 0,
            "orientation": "horizontal",
            "style": "IPY_MODEL_8b916973f06c4785a8b5717d982af41d",
            "value": 1802
          }
        },
        "46a0d75a61b147f690066a0eaf7dbe50": {
          "model_module": "@jupyter-widgets/controls",
          "model_name": "HTMLModel",
          "model_module_version": "1.5.0",
          "state": {
            "_dom_classes": [],
            "_model_module": "@jupyter-widgets/controls",
            "_model_module_version": "1.5.0",
            "_model_name": "HTMLModel",
            "_view_count": null,
            "_view_module": "@jupyter-widgets/controls",
            "_view_module_version": "1.5.0",
            "_view_name": "HTMLView",
            "description": "",
            "description_tooltip": null,
            "layout": "IPY_MODEL_25d0a2e6efdf4fb3a2c6fbd583133cbc",
            "placeholder": "​",
            "style": "IPY_MODEL_bbde40748c424f67b85219e52e5c11a1",
            "value": " 1.76k/1.76k [00:00&lt;00:00, 50.1kB/s]"
          }
        },
        "0e5f54ae76bb4072ae349772029e9286": {
          "model_module": "@jupyter-widgets/base",
          "model_name": "LayoutModel",
          "model_module_version": "1.2.0",
          "state": {
            "_model_module": "@jupyter-widgets/base",
            "_model_module_version": "1.2.0",
            "_model_name": "LayoutModel",
            "_view_count": null,
            "_view_module": "@jupyter-widgets/base",
            "_view_module_version": "1.2.0",
            "_view_name": "LayoutView",
            "align_content": null,
            "align_items": null,
            "align_self": null,
            "border": null,
            "bottom": null,
            "display": null,
            "flex": null,
            "flex_flow": null,
            "grid_area": null,
            "grid_auto_columns": null,
            "grid_auto_flow": null,
            "grid_auto_rows": null,
            "grid_column": null,
            "grid_gap": null,
            "grid_row": null,
            "grid_template_areas": null,
            "grid_template_columns": null,
            "grid_template_rows": null,
            "height": null,
            "justify_content": null,
            "justify_items": null,
            "left": null,
            "margin": null,
            "max_height": null,
            "max_width": null,
            "min_height": null,
            "min_width": null,
            "object_fit": null,
            "object_position": null,
            "order": null,
            "overflow": null,
            "overflow_x": null,
            "overflow_y": null,
            "padding": null,
            "right": null,
            "top": null,
            "visibility": null,
            "width": null
          }
        },
        "66125cf3867e4259bd469b447c51f7a5": {
          "model_module": "@jupyter-widgets/base",
          "model_name": "LayoutModel",
          "model_module_version": "1.2.0",
          "state": {
            "_model_module": "@jupyter-widgets/base",
            "_model_module_version": "1.2.0",
            "_model_name": "LayoutModel",
            "_view_count": null,
            "_view_module": "@jupyter-widgets/base",
            "_view_module_version": "1.2.0",
            "_view_name": "LayoutView",
            "align_content": null,
            "align_items": null,
            "align_self": null,
            "border": null,
            "bottom": null,
            "display": null,
            "flex": null,
            "flex_flow": null,
            "grid_area": null,
            "grid_auto_columns": null,
            "grid_auto_flow": null,
            "grid_auto_rows": null,
            "grid_column": null,
            "grid_gap": null,
            "grid_row": null,
            "grid_template_areas": null,
            "grid_template_columns": null,
            "grid_template_rows": null,
            "height": null,
            "justify_content": null,
            "justify_items": null,
            "left": null,
            "margin": null,
            "max_height": null,
            "max_width": null,
            "min_height": null,
            "min_width": null,
            "object_fit": null,
            "object_position": null,
            "order": null,
            "overflow": null,
            "overflow_x": null,
            "overflow_y": null,
            "padding": null,
            "right": null,
            "top": null,
            "visibility": null,
            "width": null
          }
        },
        "fa339251f2ad4851b4b3798a362f36fd": {
          "model_module": "@jupyter-widgets/controls",
          "model_name": "DescriptionStyleModel",
          "model_module_version": "1.5.0",
          "state": {
            "_model_module": "@jupyter-widgets/controls",
            "_model_module_version": "1.5.0",
            "_model_name": "DescriptionStyleModel",
            "_view_count": null,
            "_view_module": "@jupyter-widgets/base",
            "_view_module_version": "1.2.0",
            "_view_name": "StyleView",
            "description_width": ""
          }
        },
        "5f428e9a76af4a72af8b6af6458e577f": {
          "model_module": "@jupyter-widgets/base",
          "model_name": "LayoutModel",
          "model_module_version": "1.2.0",
          "state": {
            "_model_module": "@jupyter-widgets/base",
            "_model_module_version": "1.2.0",
            "_model_name": "LayoutModel",
            "_view_count": null,
            "_view_module": "@jupyter-widgets/base",
            "_view_module_version": "1.2.0",
            "_view_name": "LayoutView",
            "align_content": null,
            "align_items": null,
            "align_self": null,
            "border": null,
            "bottom": null,
            "display": null,
            "flex": null,
            "flex_flow": null,
            "grid_area": null,
            "grid_auto_columns": null,
            "grid_auto_flow": null,
            "grid_auto_rows": null,
            "grid_column": null,
            "grid_gap": null,
            "grid_row": null,
            "grid_template_areas": null,
            "grid_template_columns": null,
            "grid_template_rows": null,
            "height": null,
            "justify_content": null,
            "justify_items": null,
            "left": null,
            "margin": null,
            "max_height": null,
            "max_width": null,
            "min_height": null,
            "min_width": null,
            "object_fit": null,
            "object_position": null,
            "order": null,
            "overflow": null,
            "overflow_x": null,
            "overflow_y": null,
            "padding": null,
            "right": null,
            "top": null,
            "visibility": null,
            "width": null
          }
        },
        "8b916973f06c4785a8b5717d982af41d": {
          "model_module": "@jupyter-widgets/controls",
          "model_name": "ProgressStyleModel",
          "model_module_version": "1.5.0",
          "state": {
            "_model_module": "@jupyter-widgets/controls",
            "_model_module_version": "1.5.0",
            "_model_name": "ProgressStyleModel",
            "_view_count": null,
            "_view_module": "@jupyter-widgets/base",
            "_view_module_version": "1.2.0",
            "_view_name": "StyleView",
            "bar_color": null,
            "description_width": ""
          }
        },
        "25d0a2e6efdf4fb3a2c6fbd583133cbc": {
          "model_module": "@jupyter-widgets/base",
          "model_name": "LayoutModel",
          "model_module_version": "1.2.0",
          "state": {
            "_model_module": "@jupyter-widgets/base",
            "_model_module_version": "1.2.0",
            "_model_name": "LayoutModel",
            "_view_count": null,
            "_view_module": "@jupyter-widgets/base",
            "_view_module_version": "1.2.0",
            "_view_name": "LayoutView",
            "align_content": null,
            "align_items": null,
            "align_self": null,
            "border": null,
            "bottom": null,
            "display": null,
            "flex": null,
            "flex_flow": null,
            "grid_area": null,
            "grid_auto_columns": null,
            "grid_auto_flow": null,
            "grid_auto_rows": null,
            "grid_column": null,
            "grid_gap": null,
            "grid_row": null,
            "grid_template_areas": null,
            "grid_template_columns": null,
            "grid_template_rows": null,
            "height": null,
            "justify_content": null,
            "justify_items": null,
            "left": null,
            "margin": null,
            "max_height": null,
            "max_width": null,
            "min_height": null,
            "min_width": null,
            "object_fit": null,
            "object_position": null,
            "order": null,
            "overflow": null,
            "overflow_x": null,
            "overflow_y": null,
            "padding": null,
            "right": null,
            "top": null,
            "visibility": null,
            "width": null
          }
        },
        "bbde40748c424f67b85219e52e5c11a1": {
          "model_module": "@jupyter-widgets/controls",
          "model_name": "DescriptionStyleModel",
          "model_module_version": "1.5.0",
          "state": {
            "_model_module": "@jupyter-widgets/controls",
            "_model_module_version": "1.5.0",
            "_model_name": "DescriptionStyleModel",
            "_view_count": null,
            "_view_module": "@jupyter-widgets/base",
            "_view_module_version": "1.2.0",
            "_view_name": "StyleView",
            "description_width": ""
          }
        },
        "97f405dd03f042f1bf7acaa854ba538c": {
          "model_module": "@jupyter-widgets/controls",
          "model_name": "HBoxModel",
          "model_module_version": "1.5.0",
          "state": {
            "_dom_classes": [],
            "_model_module": "@jupyter-widgets/controls",
            "_model_module_version": "1.5.0",
            "_model_name": "HBoxModel",
            "_view_count": null,
            "_view_module": "@jupyter-widgets/controls",
            "_view_module_version": "1.5.0",
            "_view_name": "HBoxView",
            "box_style": "",
            "children": [
              "IPY_MODEL_0205e1c8eb2f441a8e49ddb6b3bd7688",
              "IPY_MODEL_e20cf87f51d841229c7c6f8ec90d8831",
              "IPY_MODEL_0abafe340441479194ba85ada5fb91a7"
            ],
            "layout": "IPY_MODEL_5a1d91b5e65040a484d327f3c172a4d1"
          }
        },
        "0205e1c8eb2f441a8e49ddb6b3bd7688": {
          "model_module": "@jupyter-widgets/controls",
          "model_name": "HTMLModel",
          "model_module_version": "1.5.0",
          "state": {
            "_dom_classes": [],
            "_model_module": "@jupyter-widgets/controls",
            "_model_module_version": "1.5.0",
            "_model_name": "HTMLModel",
            "_view_count": null,
            "_view_module": "@jupyter-widgets/controls",
            "_view_module_version": "1.5.0",
            "_view_name": "HTMLView",
            "description": "",
            "description_tooltip": null,
            "layout": "IPY_MODEL_aaff2ab7a7e348468faacdde883a876b",
            "placeholder": "​",
            "style": "IPY_MODEL_cc8a8e6935a5480c929a63d016602e62",
            "value": "Downloading: 100%"
          }
        },
        "e20cf87f51d841229c7c6f8ec90d8831": {
          "model_module": "@jupyter-widgets/controls",
          "model_name": "FloatProgressModel",
          "model_module_version": "1.5.0",
          "state": {
            "_dom_classes": [],
            "_model_module": "@jupyter-widgets/controls",
            "_model_module_version": "1.5.0",
            "_model_name": "FloatProgressModel",
            "_view_count": null,
            "_view_module": "@jupyter-widgets/controls",
            "_view_module_version": "1.5.0",
            "_view_name": "ProgressView",
            "bar_style": "success",
            "description": "",
            "description_tooltip": null,
            "layout": "IPY_MODEL_cd71cc9b6f534b9a8c4b3da6c33098e1",
            "max": 1222317369,
            "min": 0,
            "orientation": "horizontal",
            "style": "IPY_MODEL_13e73791347b4db28ec42841888a6589",
            "value": 1222317369
          }
        },
        "0abafe340441479194ba85ada5fb91a7": {
          "model_module": "@jupyter-widgets/controls",
          "model_name": "HTMLModel",
          "model_module_version": "1.5.0",
          "state": {
            "_dom_classes": [],
            "_model_module": "@jupyter-widgets/controls",
            "_model_module_version": "1.5.0",
            "_model_name": "HTMLModel",
            "_view_count": null,
            "_view_module": "@jupyter-widgets/controls",
            "_view_module_version": "1.5.0",
            "_view_name": "HTMLView",
            "description": "",
            "description_tooltip": null,
            "layout": "IPY_MODEL_2fa22f2ec5f84a27978a5619372b9b3d",
            "placeholder": "​",
            "style": "IPY_MODEL_66b87ad0f7b74fd3ab3924c71f26c7ac",
            "value": " 1.14G/1.14G [00:27&lt;00:00, 47.2MB/s]"
          }
        },
        "5a1d91b5e65040a484d327f3c172a4d1": {
          "model_module": "@jupyter-widgets/base",
          "model_name": "LayoutModel",
          "model_module_version": "1.2.0",
          "state": {
            "_model_module": "@jupyter-widgets/base",
            "_model_module_version": "1.2.0",
            "_model_name": "LayoutModel",
            "_view_count": null,
            "_view_module": "@jupyter-widgets/base",
            "_view_module_version": "1.2.0",
            "_view_name": "LayoutView",
            "align_content": null,
            "align_items": null,
            "align_self": null,
            "border": null,
            "bottom": null,
            "display": null,
            "flex": null,
            "flex_flow": null,
            "grid_area": null,
            "grid_auto_columns": null,
            "grid_auto_flow": null,
            "grid_auto_rows": null,
            "grid_column": null,
            "grid_gap": null,
            "grid_row": null,
            "grid_template_areas": null,
            "grid_template_columns": null,
            "grid_template_rows": null,
            "height": null,
            "justify_content": null,
            "justify_items": null,
            "left": null,
            "margin": null,
            "max_height": null,
            "max_width": null,
            "min_height": null,
            "min_width": null,
            "object_fit": null,
            "object_position": null,
            "order": null,
            "overflow": null,
            "overflow_x": null,
            "overflow_y": null,
            "padding": null,
            "right": null,
            "top": null,
            "visibility": null,
            "width": null
          }
        },
        "aaff2ab7a7e348468faacdde883a876b": {
          "model_module": "@jupyter-widgets/base",
          "model_name": "LayoutModel",
          "model_module_version": "1.2.0",
          "state": {
            "_model_module": "@jupyter-widgets/base",
            "_model_module_version": "1.2.0",
            "_model_name": "LayoutModel",
            "_view_count": null,
            "_view_module": "@jupyter-widgets/base",
            "_view_module_version": "1.2.0",
            "_view_name": "LayoutView",
            "align_content": null,
            "align_items": null,
            "align_self": null,
            "border": null,
            "bottom": null,
            "display": null,
            "flex": null,
            "flex_flow": null,
            "grid_area": null,
            "grid_auto_columns": null,
            "grid_auto_flow": null,
            "grid_auto_rows": null,
            "grid_column": null,
            "grid_gap": null,
            "grid_row": null,
            "grid_template_areas": null,
            "grid_template_columns": null,
            "grid_template_rows": null,
            "height": null,
            "justify_content": null,
            "justify_items": null,
            "left": null,
            "margin": null,
            "max_height": null,
            "max_width": null,
            "min_height": null,
            "min_width": null,
            "object_fit": null,
            "object_position": null,
            "order": null,
            "overflow": null,
            "overflow_x": null,
            "overflow_y": null,
            "padding": null,
            "right": null,
            "top": null,
            "visibility": null,
            "width": null
          }
        },
        "cc8a8e6935a5480c929a63d016602e62": {
          "model_module": "@jupyter-widgets/controls",
          "model_name": "DescriptionStyleModel",
          "model_module_version": "1.5.0",
          "state": {
            "_model_module": "@jupyter-widgets/controls",
            "_model_module_version": "1.5.0",
            "_model_name": "DescriptionStyleModel",
            "_view_count": null,
            "_view_module": "@jupyter-widgets/base",
            "_view_module_version": "1.2.0",
            "_view_name": "StyleView",
            "description_width": ""
          }
        },
        "cd71cc9b6f534b9a8c4b3da6c33098e1": {
          "model_module": "@jupyter-widgets/base",
          "model_name": "LayoutModel",
          "model_module_version": "1.2.0",
          "state": {
            "_model_module": "@jupyter-widgets/base",
            "_model_module_version": "1.2.0",
            "_model_name": "LayoutModel",
            "_view_count": null,
            "_view_module": "@jupyter-widgets/base",
            "_view_module_version": "1.2.0",
            "_view_name": "LayoutView",
            "align_content": null,
            "align_items": null,
            "align_self": null,
            "border": null,
            "bottom": null,
            "display": null,
            "flex": null,
            "flex_flow": null,
            "grid_area": null,
            "grid_auto_columns": null,
            "grid_auto_flow": null,
            "grid_auto_rows": null,
            "grid_column": null,
            "grid_gap": null,
            "grid_row": null,
            "grid_template_areas": null,
            "grid_template_columns": null,
            "grid_template_rows": null,
            "height": null,
            "justify_content": null,
            "justify_items": null,
            "left": null,
            "margin": null,
            "max_height": null,
            "max_width": null,
            "min_height": null,
            "min_width": null,
            "object_fit": null,
            "object_position": null,
            "order": null,
            "overflow": null,
            "overflow_x": null,
            "overflow_y": null,
            "padding": null,
            "right": null,
            "top": null,
            "visibility": null,
            "width": null
          }
        },
        "13e73791347b4db28ec42841888a6589": {
          "model_module": "@jupyter-widgets/controls",
          "model_name": "ProgressStyleModel",
          "model_module_version": "1.5.0",
          "state": {
            "_model_module": "@jupyter-widgets/controls",
            "_model_module_version": "1.5.0",
            "_model_name": "ProgressStyleModel",
            "_view_count": null,
            "_view_module": "@jupyter-widgets/base",
            "_view_module_version": "1.2.0",
            "_view_name": "StyleView",
            "bar_color": null,
            "description_width": ""
          }
        },
        "2fa22f2ec5f84a27978a5619372b9b3d": {
          "model_module": "@jupyter-widgets/base",
          "model_name": "LayoutModel",
          "model_module_version": "1.2.0",
          "state": {
            "_model_module": "@jupyter-widgets/base",
            "_model_module_version": "1.2.0",
            "_model_name": "LayoutModel",
            "_view_count": null,
            "_view_module": "@jupyter-widgets/base",
            "_view_module_version": "1.2.0",
            "_view_name": "LayoutView",
            "align_content": null,
            "align_items": null,
            "align_self": null,
            "border": null,
            "bottom": null,
            "display": null,
            "flex": null,
            "flex_flow": null,
            "grid_area": null,
            "grid_auto_columns": null,
            "grid_auto_flow": null,
            "grid_auto_rows": null,
            "grid_column": null,
            "grid_gap": null,
            "grid_row": null,
            "grid_template_areas": null,
            "grid_template_columns": null,
            "grid_template_rows": null,
            "height": null,
            "justify_content": null,
            "justify_items": null,
            "left": null,
            "margin": null,
            "max_height": null,
            "max_width": null,
            "min_height": null,
            "min_width": null,
            "object_fit": null,
            "object_position": null,
            "order": null,
            "overflow": null,
            "overflow_x": null,
            "overflow_y": null,
            "padding": null,
            "right": null,
            "top": null,
            "visibility": null,
            "width": null
          }
        },
        "66b87ad0f7b74fd3ab3924c71f26c7ac": {
          "model_module": "@jupyter-widgets/controls",
          "model_name": "DescriptionStyleModel",
          "model_module_version": "1.5.0",
          "state": {
            "_model_module": "@jupyter-widgets/controls",
            "_model_module_version": "1.5.0",
            "_model_name": "DescriptionStyleModel",
            "_view_count": null,
            "_view_module": "@jupyter-widgets/base",
            "_view_module_version": "1.2.0",
            "_view_name": "StyleView",
            "description_width": ""
          }
        },
        "cdcd9383643a472db0c39c8d914cafd3": {
          "model_module": "@jupyter-widgets/controls",
          "model_name": "HBoxModel",
          "model_module_version": "1.5.0",
          "state": {
            "_dom_classes": [],
            "_model_module": "@jupyter-widgets/controls",
            "_model_module_version": "1.5.0",
            "_model_name": "HBoxModel",
            "_view_count": null,
            "_view_module": "@jupyter-widgets/controls",
            "_view_module_version": "1.5.0",
            "_view_name": "HBoxView",
            "box_style": "",
            "children": [
              "IPY_MODEL_4335e75aabfd4d4097b8b4ddce97395e",
              "IPY_MODEL_5979ee702efc4ee6bb8c8cc8b5e5712a",
              "IPY_MODEL_4b65c5dcaafd4dcba981d30458fe7e46"
            ],
            "layout": "IPY_MODEL_78da24aea23b4154a49bff6ff0013ee5"
          }
        },
        "4335e75aabfd4d4097b8b4ddce97395e": {
          "model_module": "@jupyter-widgets/controls",
          "model_name": "HTMLModel",
          "model_module_version": "1.5.0",
          "state": {
            "_dom_classes": [],
            "_model_module": "@jupyter-widgets/controls",
            "_model_module_version": "1.5.0",
            "_model_name": "HTMLModel",
            "_view_count": null,
            "_view_module": "@jupyter-widgets/controls",
            "_view_module_version": "1.5.0",
            "_view_name": "HTMLView",
            "description": "",
            "description_tooltip": null,
            "layout": "IPY_MODEL_e85aea38878c47518fd4398c075af940",
            "placeholder": "​",
            "style": "IPY_MODEL_558e041272774dda81f3547442ba44a6",
            "value": "Downloading: 100%"
          }
        },
        "5979ee702efc4ee6bb8c8cc8b5e5712a": {
          "model_module": "@jupyter-widgets/controls",
          "model_name": "FloatProgressModel",
          "model_module_version": "1.5.0",
          "state": {
            "_dom_classes": [],
            "_model_module": "@jupyter-widgets/controls",
            "_model_module_version": "1.5.0",
            "_model_name": "FloatProgressModel",
            "_view_count": null,
            "_view_module": "@jupyter-widgets/controls",
            "_view_module_version": "1.5.0",
            "_view_name": "ProgressView",
            "bar_style": "success",
            "description": "",
            "description_tooltip": null,
            "layout": "IPY_MODEL_bc3ba4f6c4064a8095124ab043a6be00",
            "max": 26,
            "min": 0,
            "orientation": "horizontal",
            "style": "IPY_MODEL_ea531afccde442aca402cfc6b84aa3cf",
            "value": 26
          }
        },
        "4b65c5dcaafd4dcba981d30458fe7e46": {
          "model_module": "@jupyter-widgets/controls",
          "model_name": "HTMLModel",
          "model_module_version": "1.5.0",
          "state": {
            "_dom_classes": [],
            "_model_module": "@jupyter-widgets/controls",
            "_model_module_version": "1.5.0",
            "_model_name": "HTMLModel",
            "_view_count": null,
            "_view_module": "@jupyter-widgets/controls",
            "_view_module_version": "1.5.0",
            "_view_name": "HTMLView",
            "description": "",
            "description_tooltip": null,
            "layout": "IPY_MODEL_1c3b5ea4ba274653b26f10758b537757",
            "placeholder": "​",
            "style": "IPY_MODEL_7f3e7a1152a44cfeb0d2436a5b488b6e",
            "value": " 26.0/26.0 [00:00&lt;00:00, 658B/s]"
          }
        },
        "78da24aea23b4154a49bff6ff0013ee5": {
          "model_module": "@jupyter-widgets/base",
          "model_name": "LayoutModel",
          "model_module_version": "1.2.0",
          "state": {
            "_model_module": "@jupyter-widgets/base",
            "_model_module_version": "1.2.0",
            "_model_name": "LayoutModel",
            "_view_count": null,
            "_view_module": "@jupyter-widgets/base",
            "_view_module_version": "1.2.0",
            "_view_name": "LayoutView",
            "align_content": null,
            "align_items": null,
            "align_self": null,
            "border": null,
            "bottom": null,
            "display": null,
            "flex": null,
            "flex_flow": null,
            "grid_area": null,
            "grid_auto_columns": null,
            "grid_auto_flow": null,
            "grid_auto_rows": null,
            "grid_column": null,
            "grid_gap": null,
            "grid_row": null,
            "grid_template_areas": null,
            "grid_template_columns": null,
            "grid_template_rows": null,
            "height": null,
            "justify_content": null,
            "justify_items": null,
            "left": null,
            "margin": null,
            "max_height": null,
            "max_width": null,
            "min_height": null,
            "min_width": null,
            "object_fit": null,
            "object_position": null,
            "order": null,
            "overflow": null,
            "overflow_x": null,
            "overflow_y": null,
            "padding": null,
            "right": null,
            "top": null,
            "visibility": null,
            "width": null
          }
        },
        "e85aea38878c47518fd4398c075af940": {
          "model_module": "@jupyter-widgets/base",
          "model_name": "LayoutModel",
          "model_module_version": "1.2.0",
          "state": {
            "_model_module": "@jupyter-widgets/base",
            "_model_module_version": "1.2.0",
            "_model_name": "LayoutModel",
            "_view_count": null,
            "_view_module": "@jupyter-widgets/base",
            "_view_module_version": "1.2.0",
            "_view_name": "LayoutView",
            "align_content": null,
            "align_items": null,
            "align_self": null,
            "border": null,
            "bottom": null,
            "display": null,
            "flex": null,
            "flex_flow": null,
            "grid_area": null,
            "grid_auto_columns": null,
            "grid_auto_flow": null,
            "grid_auto_rows": null,
            "grid_column": null,
            "grid_gap": null,
            "grid_row": null,
            "grid_template_areas": null,
            "grid_template_columns": null,
            "grid_template_rows": null,
            "height": null,
            "justify_content": null,
            "justify_items": null,
            "left": null,
            "margin": null,
            "max_height": null,
            "max_width": null,
            "min_height": null,
            "min_width": null,
            "object_fit": null,
            "object_position": null,
            "order": null,
            "overflow": null,
            "overflow_x": null,
            "overflow_y": null,
            "padding": null,
            "right": null,
            "top": null,
            "visibility": null,
            "width": null
          }
        },
        "558e041272774dda81f3547442ba44a6": {
          "model_module": "@jupyter-widgets/controls",
          "model_name": "DescriptionStyleModel",
          "model_module_version": "1.5.0",
          "state": {
            "_model_module": "@jupyter-widgets/controls",
            "_model_module_version": "1.5.0",
            "_model_name": "DescriptionStyleModel",
            "_view_count": null,
            "_view_module": "@jupyter-widgets/base",
            "_view_module_version": "1.2.0",
            "_view_name": "StyleView",
            "description_width": ""
          }
        },
        "bc3ba4f6c4064a8095124ab043a6be00": {
          "model_module": "@jupyter-widgets/base",
          "model_name": "LayoutModel",
          "model_module_version": "1.2.0",
          "state": {
            "_model_module": "@jupyter-widgets/base",
            "_model_module_version": "1.2.0",
            "_model_name": "LayoutModel",
            "_view_count": null,
            "_view_module": "@jupyter-widgets/base",
            "_view_module_version": "1.2.0",
            "_view_name": "LayoutView",
            "align_content": null,
            "align_items": null,
            "align_self": null,
            "border": null,
            "bottom": null,
            "display": null,
            "flex": null,
            "flex_flow": null,
            "grid_area": null,
            "grid_auto_columns": null,
            "grid_auto_flow": null,
            "grid_auto_rows": null,
            "grid_column": null,
            "grid_gap": null,
            "grid_row": null,
            "grid_template_areas": null,
            "grid_template_columns": null,
            "grid_template_rows": null,
            "height": null,
            "justify_content": null,
            "justify_items": null,
            "left": null,
            "margin": null,
            "max_height": null,
            "max_width": null,
            "min_height": null,
            "min_width": null,
            "object_fit": null,
            "object_position": null,
            "order": null,
            "overflow": null,
            "overflow_x": null,
            "overflow_y": null,
            "padding": null,
            "right": null,
            "top": null,
            "visibility": null,
            "width": null
          }
        },
        "ea531afccde442aca402cfc6b84aa3cf": {
          "model_module": "@jupyter-widgets/controls",
          "model_name": "ProgressStyleModel",
          "model_module_version": "1.5.0",
          "state": {
            "_model_module": "@jupyter-widgets/controls",
            "_model_module_version": "1.5.0",
            "_model_name": "ProgressStyleModel",
            "_view_count": null,
            "_view_module": "@jupyter-widgets/base",
            "_view_module_version": "1.2.0",
            "_view_name": "StyleView",
            "bar_color": null,
            "description_width": ""
          }
        },
        "1c3b5ea4ba274653b26f10758b537757": {
          "model_module": "@jupyter-widgets/base",
          "model_name": "LayoutModel",
          "model_module_version": "1.2.0",
          "state": {
            "_model_module": "@jupyter-widgets/base",
            "_model_module_version": "1.2.0",
            "_model_name": "LayoutModel",
            "_view_count": null,
            "_view_module": "@jupyter-widgets/base",
            "_view_module_version": "1.2.0",
            "_view_name": "LayoutView",
            "align_content": null,
            "align_items": null,
            "align_self": null,
            "border": null,
            "bottom": null,
            "display": null,
            "flex": null,
            "flex_flow": null,
            "grid_area": null,
            "grid_auto_columns": null,
            "grid_auto_flow": null,
            "grid_auto_rows": null,
            "grid_column": null,
            "grid_gap": null,
            "grid_row": null,
            "grid_template_areas": null,
            "grid_template_columns": null,
            "grid_template_rows": null,
            "height": null,
            "justify_content": null,
            "justify_items": null,
            "left": null,
            "margin": null,
            "max_height": null,
            "max_width": null,
            "min_height": null,
            "min_width": null,
            "object_fit": null,
            "object_position": null,
            "order": null,
            "overflow": null,
            "overflow_x": null,
            "overflow_y": null,
            "padding": null,
            "right": null,
            "top": null,
            "visibility": null,
            "width": null
          }
        },
        "7f3e7a1152a44cfeb0d2436a5b488b6e": {
          "model_module": "@jupyter-widgets/controls",
          "model_name": "DescriptionStyleModel",
          "model_module_version": "1.5.0",
          "state": {
            "_model_module": "@jupyter-widgets/controls",
            "_model_module_version": "1.5.0",
            "_model_name": "DescriptionStyleModel",
            "_view_count": null,
            "_view_module": "@jupyter-widgets/base",
            "_view_module_version": "1.2.0",
            "_view_name": "StyleView",
            "description_width": ""
          }
        },
        "bdff0f5170a74a99bd7c7a530d37e65b": {
          "model_module": "@jupyter-widgets/controls",
          "model_name": "HBoxModel",
          "model_module_version": "1.5.0",
          "state": {
            "_dom_classes": [],
            "_model_module": "@jupyter-widgets/controls",
            "_model_module_version": "1.5.0",
            "_model_name": "HBoxModel",
            "_view_count": null,
            "_view_module": "@jupyter-widgets/controls",
            "_view_module_version": "1.5.0",
            "_view_name": "HBoxView",
            "box_style": "",
            "children": [
              "IPY_MODEL_48f6d807e1fc4ab1ac54aa9689272f1f",
              "IPY_MODEL_4ec79411265b48229f350d572301a7df",
              "IPY_MODEL_c9962287249749048d31d1ac0e5f5550"
            ],
            "layout": "IPY_MODEL_96c654a7fbd4453a9af76fda707b427b"
          }
        },
        "48f6d807e1fc4ab1ac54aa9689272f1f": {
          "model_module": "@jupyter-widgets/controls",
          "model_name": "HTMLModel",
          "model_module_version": "1.5.0",
          "state": {
            "_dom_classes": [],
            "_model_module": "@jupyter-widgets/controls",
            "_model_module_version": "1.5.0",
            "_model_name": "HTMLModel",
            "_view_count": null,
            "_view_module": "@jupyter-widgets/controls",
            "_view_module_version": "1.5.0",
            "_view_name": "HTMLView",
            "description": "",
            "description_tooltip": null,
            "layout": "IPY_MODEL_54340157f80844049db997440ff50514",
            "placeholder": "​",
            "style": "IPY_MODEL_20ee855181284d5b82a0042625db3159",
            "value": "Downloading: 100%"
          }
        },
        "4ec79411265b48229f350d572301a7df": {
          "model_module": "@jupyter-widgets/controls",
          "model_name": "FloatProgressModel",
          "model_module_version": "1.5.0",
          "state": {
            "_dom_classes": [],
            "_model_module": "@jupyter-widgets/controls",
            "_model_module_version": "1.5.0",
            "_model_name": "FloatProgressModel",
            "_view_count": null,
            "_view_module": "@jupyter-widgets/controls",
            "_view_module_version": "1.5.0",
            "_view_name": "ProgressView",
            "bar_style": "success",
            "description": "",
            "description_tooltip": null,
            "layout": "IPY_MODEL_a2a29dd12838441bb5d2cf51b10241c4",
            "max": 898822,
            "min": 0,
            "orientation": "horizontal",
            "style": "IPY_MODEL_26d56369024f4281a434ddbfba6120ad",
            "value": 898822
          }
        },
        "c9962287249749048d31d1ac0e5f5550": {
          "model_module": "@jupyter-widgets/controls",
          "model_name": "HTMLModel",
          "model_module_version": "1.5.0",
          "state": {
            "_dom_classes": [],
            "_model_module": "@jupyter-widgets/controls",
            "_model_module_version": "1.5.0",
            "_model_name": "HTMLModel",
            "_view_count": null,
            "_view_module": "@jupyter-widgets/controls",
            "_view_module_version": "1.5.0",
            "_view_name": "HTMLView",
            "description": "",
            "description_tooltip": null,
            "layout": "IPY_MODEL_7f600f457101454cb54839d64626be8b",
            "placeholder": "​",
            "style": "IPY_MODEL_98ad7c310043431e842837f493fe0404",
            "value": " 878k/878k [00:00&lt;00:00, 746kB/s]"
          }
        },
        "96c654a7fbd4453a9af76fda707b427b": {
          "model_module": "@jupyter-widgets/base",
          "model_name": "LayoutModel",
          "model_module_version": "1.2.0",
          "state": {
            "_model_module": "@jupyter-widgets/base",
            "_model_module_version": "1.2.0",
            "_model_name": "LayoutModel",
            "_view_count": null,
            "_view_module": "@jupyter-widgets/base",
            "_view_module_version": "1.2.0",
            "_view_name": "LayoutView",
            "align_content": null,
            "align_items": null,
            "align_self": null,
            "border": null,
            "bottom": null,
            "display": null,
            "flex": null,
            "flex_flow": null,
            "grid_area": null,
            "grid_auto_columns": null,
            "grid_auto_flow": null,
            "grid_auto_rows": null,
            "grid_column": null,
            "grid_gap": null,
            "grid_row": null,
            "grid_template_areas": null,
            "grid_template_columns": null,
            "grid_template_rows": null,
            "height": null,
            "justify_content": null,
            "justify_items": null,
            "left": null,
            "margin": null,
            "max_height": null,
            "max_width": null,
            "min_height": null,
            "min_width": null,
            "object_fit": null,
            "object_position": null,
            "order": null,
            "overflow": null,
            "overflow_x": null,
            "overflow_y": null,
            "padding": null,
            "right": null,
            "top": null,
            "visibility": null,
            "width": null
          }
        },
        "54340157f80844049db997440ff50514": {
          "model_module": "@jupyter-widgets/base",
          "model_name": "LayoutModel",
          "model_module_version": "1.2.0",
          "state": {
            "_model_module": "@jupyter-widgets/base",
            "_model_module_version": "1.2.0",
            "_model_name": "LayoutModel",
            "_view_count": null,
            "_view_module": "@jupyter-widgets/base",
            "_view_module_version": "1.2.0",
            "_view_name": "LayoutView",
            "align_content": null,
            "align_items": null,
            "align_self": null,
            "border": null,
            "bottom": null,
            "display": null,
            "flex": null,
            "flex_flow": null,
            "grid_area": null,
            "grid_auto_columns": null,
            "grid_auto_flow": null,
            "grid_auto_rows": null,
            "grid_column": null,
            "grid_gap": null,
            "grid_row": null,
            "grid_template_areas": null,
            "grid_template_columns": null,
            "grid_template_rows": null,
            "height": null,
            "justify_content": null,
            "justify_items": null,
            "left": null,
            "margin": null,
            "max_height": null,
            "max_width": null,
            "min_height": null,
            "min_width": null,
            "object_fit": null,
            "object_position": null,
            "order": null,
            "overflow": null,
            "overflow_x": null,
            "overflow_y": null,
            "padding": null,
            "right": null,
            "top": null,
            "visibility": null,
            "width": null
          }
        },
        "20ee855181284d5b82a0042625db3159": {
          "model_module": "@jupyter-widgets/controls",
          "model_name": "DescriptionStyleModel",
          "model_module_version": "1.5.0",
          "state": {
            "_model_module": "@jupyter-widgets/controls",
            "_model_module_version": "1.5.0",
            "_model_name": "DescriptionStyleModel",
            "_view_count": null,
            "_view_module": "@jupyter-widgets/base",
            "_view_module_version": "1.2.0",
            "_view_name": "StyleView",
            "description_width": ""
          }
        },
        "a2a29dd12838441bb5d2cf51b10241c4": {
          "model_module": "@jupyter-widgets/base",
          "model_name": "LayoutModel",
          "model_module_version": "1.2.0",
          "state": {
            "_model_module": "@jupyter-widgets/base",
            "_model_module_version": "1.2.0",
            "_model_name": "LayoutModel",
            "_view_count": null,
            "_view_module": "@jupyter-widgets/base",
            "_view_module_version": "1.2.0",
            "_view_name": "LayoutView",
            "align_content": null,
            "align_items": null,
            "align_self": null,
            "border": null,
            "bottom": null,
            "display": null,
            "flex": null,
            "flex_flow": null,
            "grid_area": null,
            "grid_auto_columns": null,
            "grid_auto_flow": null,
            "grid_auto_rows": null,
            "grid_column": null,
            "grid_gap": null,
            "grid_row": null,
            "grid_template_areas": null,
            "grid_template_columns": null,
            "grid_template_rows": null,
            "height": null,
            "justify_content": null,
            "justify_items": null,
            "left": null,
            "margin": null,
            "max_height": null,
            "max_width": null,
            "min_height": null,
            "min_width": null,
            "object_fit": null,
            "object_position": null,
            "order": null,
            "overflow": null,
            "overflow_x": null,
            "overflow_y": null,
            "padding": null,
            "right": null,
            "top": null,
            "visibility": null,
            "width": null
          }
        },
        "26d56369024f4281a434ddbfba6120ad": {
          "model_module": "@jupyter-widgets/controls",
          "model_name": "ProgressStyleModel",
          "model_module_version": "1.5.0",
          "state": {
            "_model_module": "@jupyter-widgets/controls",
            "_model_module_version": "1.5.0",
            "_model_name": "ProgressStyleModel",
            "_view_count": null,
            "_view_module": "@jupyter-widgets/base",
            "_view_module_version": "1.2.0",
            "_view_name": "StyleView",
            "bar_color": null,
            "description_width": ""
          }
        },
        "7f600f457101454cb54839d64626be8b": {
          "model_module": "@jupyter-widgets/base",
          "model_name": "LayoutModel",
          "model_module_version": "1.2.0",
          "state": {
            "_model_module": "@jupyter-widgets/base",
            "_model_module_version": "1.2.0",
            "_model_name": "LayoutModel",
            "_view_count": null,
            "_view_module": "@jupyter-widgets/base",
            "_view_module_version": "1.2.0",
            "_view_name": "LayoutView",
            "align_content": null,
            "align_items": null,
            "align_self": null,
            "border": null,
            "bottom": null,
            "display": null,
            "flex": null,
            "flex_flow": null,
            "grid_area": null,
            "grid_auto_columns": null,
            "grid_auto_flow": null,
            "grid_auto_rows": null,
            "grid_column": null,
            "grid_gap": null,
            "grid_row": null,
            "grid_template_areas": null,
            "grid_template_columns": null,
            "grid_template_rows": null,
            "height": null,
            "justify_content": null,
            "justify_items": null,
            "left": null,
            "margin": null,
            "max_height": null,
            "max_width": null,
            "min_height": null,
            "min_width": null,
            "object_fit": null,
            "object_position": null,
            "order": null,
            "overflow": null,
            "overflow_x": null,
            "overflow_y": null,
            "padding": null,
            "right": null,
            "top": null,
            "visibility": null,
            "width": null
          }
        },
        "98ad7c310043431e842837f493fe0404": {
          "model_module": "@jupyter-widgets/controls",
          "model_name": "DescriptionStyleModel",
          "model_module_version": "1.5.0",
          "state": {
            "_model_module": "@jupyter-widgets/controls",
            "_model_module_version": "1.5.0",
            "_model_name": "DescriptionStyleModel",
            "_view_count": null,
            "_view_module": "@jupyter-widgets/base",
            "_view_module_version": "1.2.0",
            "_view_name": "StyleView",
            "description_width": ""
          }
        },
        "480d1d7293b8440bb0a083c7b727a616": {
          "model_module": "@jupyter-widgets/controls",
          "model_name": "HBoxModel",
          "model_module_version": "1.5.0",
          "state": {
            "_dom_classes": [],
            "_model_module": "@jupyter-widgets/controls",
            "_model_module_version": "1.5.0",
            "_model_name": "HBoxModel",
            "_view_count": null,
            "_view_module": "@jupyter-widgets/controls",
            "_view_module_version": "1.5.0",
            "_view_name": "HBoxView",
            "box_style": "",
            "children": [
              "IPY_MODEL_746a402bdafd413bae5759f638cfc527",
              "IPY_MODEL_2bb5b6973a184a90985930184354897a",
              "IPY_MODEL_a64e81da081448d2b5cc2d4aee570c45"
            ],
            "layout": "IPY_MODEL_6178422d855f413eaa7abd3930299951"
          }
        },
        "746a402bdafd413bae5759f638cfc527": {
          "model_module": "@jupyter-widgets/controls",
          "model_name": "HTMLModel",
          "model_module_version": "1.5.0",
          "state": {
            "_dom_classes": [],
            "_model_module": "@jupyter-widgets/controls",
            "_model_module_version": "1.5.0",
            "_model_name": "HTMLModel",
            "_view_count": null,
            "_view_module": "@jupyter-widgets/controls",
            "_view_module_version": "1.5.0",
            "_view_name": "HTMLView",
            "description": "",
            "description_tooltip": null,
            "layout": "IPY_MODEL_af70348b09634f13b73c10d50b608eb6",
            "placeholder": "​",
            "style": "IPY_MODEL_79347fae4db34efbae2b07c721a911aa",
            "value": "Downloading: 100%"
          }
        },
        "2bb5b6973a184a90985930184354897a": {
          "model_module": "@jupyter-widgets/controls",
          "model_name": "FloatProgressModel",
          "model_module_version": "1.5.0",
          "state": {
            "_dom_classes": [],
            "_model_module": "@jupyter-widgets/controls",
            "_model_module_version": "1.5.0",
            "_model_name": "FloatProgressModel",
            "_view_count": null,
            "_view_module": "@jupyter-widgets/controls",
            "_view_module_version": "1.5.0",
            "_view_name": "ProgressView",
            "bar_style": "success",
            "description": "",
            "description_tooltip": null,
            "layout": "IPY_MODEL_b80fa636d9e04bb9a9621f5d037bbf41",
            "max": 456318,
            "min": 0,
            "orientation": "horizontal",
            "style": "IPY_MODEL_68a85faa27d94a8e9b9ab8a0267b3d95",
            "value": 456318
          }
        },
        "a64e81da081448d2b5cc2d4aee570c45": {
          "model_module": "@jupyter-widgets/controls",
          "model_name": "HTMLModel",
          "model_module_version": "1.5.0",
          "state": {
            "_dom_classes": [],
            "_model_module": "@jupyter-widgets/controls",
            "_model_module_version": "1.5.0",
            "_model_name": "HTMLModel",
            "_view_count": null,
            "_view_module": "@jupyter-widgets/controls",
            "_view_module_version": "1.5.0",
            "_view_name": "HTMLView",
            "description": "",
            "description_tooltip": null,
            "layout": "IPY_MODEL_f9859a28bad84581b4b76bbf1f5093cc",
            "placeholder": "​",
            "style": "IPY_MODEL_05f14a7e18a0486fb5c84ba147d8fec3",
            "value": " 446k/446k [00:00&lt;00:00, 584kB/s]"
          }
        },
        "6178422d855f413eaa7abd3930299951": {
          "model_module": "@jupyter-widgets/base",
          "model_name": "LayoutModel",
          "model_module_version": "1.2.0",
          "state": {
            "_model_module": "@jupyter-widgets/base",
            "_model_module_version": "1.2.0",
            "_model_name": "LayoutModel",
            "_view_count": null,
            "_view_module": "@jupyter-widgets/base",
            "_view_module_version": "1.2.0",
            "_view_name": "LayoutView",
            "align_content": null,
            "align_items": null,
            "align_self": null,
            "border": null,
            "bottom": null,
            "display": null,
            "flex": null,
            "flex_flow": null,
            "grid_area": null,
            "grid_auto_columns": null,
            "grid_auto_flow": null,
            "grid_auto_rows": null,
            "grid_column": null,
            "grid_gap": null,
            "grid_row": null,
            "grid_template_areas": null,
            "grid_template_columns": null,
            "grid_template_rows": null,
            "height": null,
            "justify_content": null,
            "justify_items": null,
            "left": null,
            "margin": null,
            "max_height": null,
            "max_width": null,
            "min_height": null,
            "min_width": null,
            "object_fit": null,
            "object_position": null,
            "order": null,
            "overflow": null,
            "overflow_x": null,
            "overflow_y": null,
            "padding": null,
            "right": null,
            "top": null,
            "visibility": null,
            "width": null
          }
        },
        "af70348b09634f13b73c10d50b608eb6": {
          "model_module": "@jupyter-widgets/base",
          "model_name": "LayoutModel",
          "model_module_version": "1.2.0",
          "state": {
            "_model_module": "@jupyter-widgets/base",
            "_model_module_version": "1.2.0",
            "_model_name": "LayoutModel",
            "_view_count": null,
            "_view_module": "@jupyter-widgets/base",
            "_view_module_version": "1.2.0",
            "_view_name": "LayoutView",
            "align_content": null,
            "align_items": null,
            "align_self": null,
            "border": null,
            "bottom": null,
            "display": null,
            "flex": null,
            "flex_flow": null,
            "grid_area": null,
            "grid_auto_columns": null,
            "grid_auto_flow": null,
            "grid_auto_rows": null,
            "grid_column": null,
            "grid_gap": null,
            "grid_row": null,
            "grid_template_areas": null,
            "grid_template_columns": null,
            "grid_template_rows": null,
            "height": null,
            "justify_content": null,
            "justify_items": null,
            "left": null,
            "margin": null,
            "max_height": null,
            "max_width": null,
            "min_height": null,
            "min_width": null,
            "object_fit": null,
            "object_position": null,
            "order": null,
            "overflow": null,
            "overflow_x": null,
            "overflow_y": null,
            "padding": null,
            "right": null,
            "top": null,
            "visibility": null,
            "width": null
          }
        },
        "79347fae4db34efbae2b07c721a911aa": {
          "model_module": "@jupyter-widgets/controls",
          "model_name": "DescriptionStyleModel",
          "model_module_version": "1.5.0",
          "state": {
            "_model_module": "@jupyter-widgets/controls",
            "_model_module_version": "1.5.0",
            "_model_name": "DescriptionStyleModel",
            "_view_count": null,
            "_view_module": "@jupyter-widgets/base",
            "_view_module_version": "1.2.0",
            "_view_name": "StyleView",
            "description_width": ""
          }
        },
        "b80fa636d9e04bb9a9621f5d037bbf41": {
          "model_module": "@jupyter-widgets/base",
          "model_name": "LayoutModel",
          "model_module_version": "1.2.0",
          "state": {
            "_model_module": "@jupyter-widgets/base",
            "_model_module_version": "1.2.0",
            "_model_name": "LayoutModel",
            "_view_count": null,
            "_view_module": "@jupyter-widgets/base",
            "_view_module_version": "1.2.0",
            "_view_name": "LayoutView",
            "align_content": null,
            "align_items": null,
            "align_self": null,
            "border": null,
            "bottom": null,
            "display": null,
            "flex": null,
            "flex_flow": null,
            "grid_area": null,
            "grid_auto_columns": null,
            "grid_auto_flow": null,
            "grid_auto_rows": null,
            "grid_column": null,
            "grid_gap": null,
            "grid_row": null,
            "grid_template_areas": null,
            "grid_template_columns": null,
            "grid_template_rows": null,
            "height": null,
            "justify_content": null,
            "justify_items": null,
            "left": null,
            "margin": null,
            "max_height": null,
            "max_width": null,
            "min_height": null,
            "min_width": null,
            "object_fit": null,
            "object_position": null,
            "order": null,
            "overflow": null,
            "overflow_x": null,
            "overflow_y": null,
            "padding": null,
            "right": null,
            "top": null,
            "visibility": null,
            "width": null
          }
        },
        "68a85faa27d94a8e9b9ab8a0267b3d95": {
          "model_module": "@jupyter-widgets/controls",
          "model_name": "ProgressStyleModel",
          "model_module_version": "1.5.0",
          "state": {
            "_model_module": "@jupyter-widgets/controls",
            "_model_module_version": "1.5.0",
            "_model_name": "ProgressStyleModel",
            "_view_count": null,
            "_view_module": "@jupyter-widgets/base",
            "_view_module_version": "1.2.0",
            "_view_name": "StyleView",
            "bar_color": null,
            "description_width": ""
          }
        },
        "f9859a28bad84581b4b76bbf1f5093cc": {
          "model_module": "@jupyter-widgets/base",
          "model_name": "LayoutModel",
          "model_module_version": "1.2.0",
          "state": {
            "_model_module": "@jupyter-widgets/base",
            "_model_module_version": "1.2.0",
            "_model_name": "LayoutModel",
            "_view_count": null,
            "_view_module": "@jupyter-widgets/base",
            "_view_module_version": "1.2.0",
            "_view_name": "LayoutView",
            "align_content": null,
            "align_items": null,
            "align_self": null,
            "border": null,
            "bottom": null,
            "display": null,
            "flex": null,
            "flex_flow": null,
            "grid_area": null,
            "grid_auto_columns": null,
            "grid_auto_flow": null,
            "grid_auto_rows": null,
            "grid_column": null,
            "grid_gap": null,
            "grid_row": null,
            "grid_template_areas": null,
            "grid_template_columns": null,
            "grid_template_rows": null,
            "height": null,
            "justify_content": null,
            "justify_items": null,
            "left": null,
            "margin": null,
            "max_height": null,
            "max_width": null,
            "min_height": null,
            "min_width": null,
            "object_fit": null,
            "object_position": null,
            "order": null,
            "overflow": null,
            "overflow_x": null,
            "overflow_y": null,
            "padding": null,
            "right": null,
            "top": null,
            "visibility": null,
            "width": null
          }
        },
        "05f14a7e18a0486fb5c84ba147d8fec3": {
          "model_module": "@jupyter-widgets/controls",
          "model_name": "DescriptionStyleModel",
          "model_module_version": "1.5.0",
          "state": {
            "_model_module": "@jupyter-widgets/controls",
            "_model_module_version": "1.5.0",
            "_model_name": "DescriptionStyleModel",
            "_view_count": null,
            "_view_module": "@jupyter-widgets/base",
            "_view_module_version": "1.2.0",
            "_view_name": "StyleView",
            "description_width": ""
          }
        }
      }
    }
  },
  "cells": [
    {
      "cell_type": "markdown",
      "metadata": {
        "id": "view-in-github",
        "colab_type": "text"
      },
      "source": [
        "<a href=\"https://colab.research.google.com/github/ankit-28-2/JEE-MAIN-RANK-PREDICTOR-MODEL/blob/main/NLP_Task_instaminutes_intern.ipynb\" target=\"_parent\"><img src=\"https://colab.research.google.com/assets/colab-badge.svg\" alt=\"Open In Colab\"/></a>"
      ]
    },
    {
      "cell_type": "code",
      "source": [
        "!pip install -U sentence-transformers\n",
        "\n"
      ],
      "metadata": {
        "colab": {
          "base_uri": "https://localhost:8080/"
        },
        "id": "aYmhjTsJ5-wQ",
        "outputId": "47e408bd-05c3-40bb-9290-dab0d16c2b06"
      },
      "execution_count": 3,
      "outputs": [
        {
          "output_type": "stream",
          "name": "stdout",
          "text": [
            "Collecting sentence-transformers\n",
            "  Downloading sentence-transformers-2.2.0.tar.gz (79 kB)\n",
            "\u001b[K     |████████████████████████████████| 79 kB 5.4 MB/s \n",
            "\u001b[?25hCollecting transformers<5.0.0,>=4.6.0\n",
            "  Downloading transformers-4.18.0-py3-none-any.whl (4.0 MB)\n",
            "\u001b[K     |████████████████████████████████| 4.0 MB 30.9 MB/s \n",
            "\u001b[?25hRequirement already satisfied: tqdm in /usr/local/lib/python3.7/dist-packages (from sentence-transformers) (4.64.0)\n",
            "Requirement already satisfied: torch>=1.6.0 in /usr/local/lib/python3.7/dist-packages (from sentence-transformers) (1.10.0+cu111)\n",
            "Requirement already satisfied: torchvision in /usr/local/lib/python3.7/dist-packages (from sentence-transformers) (0.11.1+cu111)\n",
            "Requirement already satisfied: numpy in /usr/local/lib/python3.7/dist-packages (from sentence-transformers) (1.21.5)\n",
            "Requirement already satisfied: scikit-learn in /usr/local/lib/python3.7/dist-packages (from sentence-transformers) (1.0.2)\n",
            "Requirement already satisfied: scipy in /usr/local/lib/python3.7/dist-packages (from sentence-transformers) (1.4.1)\n",
            "Requirement already satisfied: nltk in /usr/local/lib/python3.7/dist-packages (from sentence-transformers) (3.2.5)\n",
            "Collecting sentencepiece\n",
            "  Downloading sentencepiece-0.1.96-cp37-cp37m-manylinux_2_17_x86_64.manylinux2014_x86_64.whl (1.2 MB)\n",
            "\u001b[K     |████████████████████████████████| 1.2 MB 64.7 MB/s \n",
            "\u001b[?25hCollecting huggingface-hub\n",
            "  Downloading huggingface_hub-0.5.1-py3-none-any.whl (77 kB)\n",
            "\u001b[K     |████████████████████████████████| 77 kB 7.5 MB/s \n",
            "\u001b[?25hRequirement already satisfied: typing-extensions in /usr/local/lib/python3.7/dist-packages (from torch>=1.6.0->sentence-transformers) (4.1.1)\n",
            "Requirement already satisfied: requests in /usr/local/lib/python3.7/dist-packages (from transformers<5.0.0,>=4.6.0->sentence-transformers) (2.23.0)\n",
            "Requirement already satisfied: packaging>=20.0 in /usr/local/lib/python3.7/dist-packages (from transformers<5.0.0,>=4.6.0->sentence-transformers) (21.3)\n",
            "Requirement already satisfied: filelock in /usr/local/lib/python3.7/dist-packages (from transformers<5.0.0,>=4.6.0->sentence-transformers) (3.6.0)\n",
            "Requirement already satisfied: regex!=2019.12.17 in /usr/local/lib/python3.7/dist-packages (from transformers<5.0.0,>=4.6.0->sentence-transformers) (2019.12.20)\n",
            "Collecting pyyaml>=5.1\n",
            "  Downloading PyYAML-6.0-cp37-cp37m-manylinux_2_5_x86_64.manylinux1_x86_64.manylinux_2_12_x86_64.manylinux2010_x86_64.whl (596 kB)\n",
            "\u001b[K     |████████████████████████████████| 596 kB 66.1 MB/s \n",
            "\u001b[?25hCollecting tokenizers!=0.11.3,<0.13,>=0.11.1\n",
            "  Downloading tokenizers-0.12.1-cp37-cp37m-manylinux_2_12_x86_64.manylinux2010_x86_64.whl (6.6 MB)\n",
            "\u001b[K     |████████████████████████████████| 6.6 MB 57.0 MB/s \n",
            "\u001b[?25hRequirement already satisfied: importlib-metadata in /usr/local/lib/python3.7/dist-packages (from transformers<5.0.0,>=4.6.0->sentence-transformers) (4.11.3)\n",
            "Collecting sacremoses\n",
            "  Downloading sacremoses-0.0.49-py3-none-any.whl (895 kB)\n",
            "\u001b[K     |████████████████████████████████| 895 kB 53.4 MB/s \n",
            "\u001b[?25hRequirement already satisfied: pyparsing!=3.0.5,>=2.0.2 in /usr/local/lib/python3.7/dist-packages (from packaging>=20.0->transformers<5.0.0,>=4.6.0->sentence-transformers) (3.0.8)\n",
            "Requirement already satisfied: zipp>=0.5 in /usr/local/lib/python3.7/dist-packages (from importlib-metadata->transformers<5.0.0,>=4.6.0->sentence-transformers) (3.8.0)\n",
            "Requirement already satisfied: six in /usr/local/lib/python3.7/dist-packages (from nltk->sentence-transformers) (1.15.0)\n",
            "Requirement already satisfied: urllib3!=1.25.0,!=1.25.1,<1.26,>=1.21.1 in /usr/local/lib/python3.7/dist-packages (from requests->transformers<5.0.0,>=4.6.0->sentence-transformers) (1.24.3)\n",
            "Requirement already satisfied: idna<3,>=2.5 in /usr/local/lib/python3.7/dist-packages (from requests->transformers<5.0.0,>=4.6.0->sentence-transformers) (2.10)\n",
            "Requirement already satisfied: certifi>=2017.4.17 in /usr/local/lib/python3.7/dist-packages (from requests->transformers<5.0.0,>=4.6.0->sentence-transformers) (2021.10.8)\n",
            "Requirement already satisfied: chardet<4,>=3.0.2 in /usr/local/lib/python3.7/dist-packages (from requests->transformers<5.0.0,>=4.6.0->sentence-transformers) (3.0.4)\n",
            "Requirement already satisfied: joblib in /usr/local/lib/python3.7/dist-packages (from sacremoses->transformers<5.0.0,>=4.6.0->sentence-transformers) (1.1.0)\n",
            "Requirement already satisfied: click in /usr/local/lib/python3.7/dist-packages (from sacremoses->transformers<5.0.0,>=4.6.0->sentence-transformers) (7.1.2)\n",
            "Requirement already satisfied: threadpoolctl>=2.0.0 in /usr/local/lib/python3.7/dist-packages (from scikit-learn->sentence-transformers) (3.1.0)\n",
            "Requirement already satisfied: pillow!=8.3.0,>=5.3.0 in /usr/local/lib/python3.7/dist-packages (from torchvision->sentence-transformers) (7.1.2)\n",
            "Building wheels for collected packages: sentence-transformers\n",
            "  Building wheel for sentence-transformers (setup.py) ... \u001b[?25l\u001b[?25hdone\n",
            "  Created wheel for sentence-transformers: filename=sentence_transformers-2.2.0-py3-none-any.whl size=120747 sha256=6846dac17ae0eff224df1986d6397abeb0982618751c0e9c84a4c76783369233\n",
            "  Stored in directory: /root/.cache/pip/wheels/83/c0/df/b6873ab7aac3f2465aa9144b6b4c41c4391cfecc027c8b07e7\n",
            "Successfully built sentence-transformers\n",
            "Installing collected packages: pyyaml, tokenizers, sacremoses, huggingface-hub, transformers, sentencepiece, sentence-transformers\n",
            "  Attempting uninstall: pyyaml\n",
            "    Found existing installation: PyYAML 3.13\n",
            "    Uninstalling PyYAML-3.13:\n",
            "      Successfully uninstalled PyYAML-3.13\n",
            "Successfully installed huggingface-hub-0.5.1 pyyaml-6.0 sacremoses-0.0.49 sentence-transformers-2.2.0 sentencepiece-0.1.96 tokenizers-0.12.1 transformers-4.18.0\n"
          ]
        }
      ]
    },
    {
      "cell_type": "code",
      "execution_count": 4,
      "metadata": {
        "id": "wad1IolrzHJ7"
      },
      "outputs": [],
      "source": [
        "sentences = [\n",
        "    \"Three years later, the coffin was still full of Jello.\",\n",
        "    \"The fish dreamed of escaping the fishbowl and into the toilet where he saw his friend go.\",\n",
        "    \"The person box was packed with jelly many dozens of months later.\",\n",
        "    \"He found a leprechaun in his walnut shell.\"\n",
        "]"
      ]
    },
    {
      "cell_type": "code",
      "source": [
        ""
      ],
      "metadata": {
        "id": "TIDi2JXc593z"
      },
      "execution_count": 4,
      "outputs": []
    },
    {
      "cell_type": "code",
      "source": [
        "from sentence_transformers import SentenceTransformer\n",
        "\n",
        "model = SentenceTransformer('bert-base-nli-mean-tokens')"
      ],
      "metadata": {
        "colab": {
          "base_uri": "https://localhost:8080/",
          "height": 433,
          "referenced_widgets": [
            "d4efeb75e9f7479b82eb67aa1ca843be",
            "627724b4b79448e89d43e01fe9006f4d",
            "eb32769b5f7b4182a9558481d46f8505",
            "1d96d81fa02a499fae6dcd57cd61f758",
            "f2807c40ca2e471788b5d7f1775b9370",
            "459f2a1fc8b9499aa11ccaeeda9baa29",
            "d09a6b3eba1045c0b327dd883ab474d3",
            "2f19ce469c524f85adfa4dae35093415",
            "5f7385cf04644803aaa3dab157eb8772",
            "a7f29066e95045ab99acfaf43eed1020",
            "53d2032b37554600aac8afbcdec1d095",
            "0282b4e960854ac2bf31b8e5c544cfec",
            "f369aa5dcc224391aaddccb82bc6cf21",
            "8ad4a88a954641ada8b914b2869c69c2",
            "1254738b398a49a1a1227fd1062bb947",
            "5882583d430649b0a03dab074d2cc39f",
            "7a53f37091224fcf8a5e10ca485ea59e",
            "64b4be186b5b47929f30bb09da43328c",
            "cf789f00a6bf4f21a9166633be4dd947",
            "e09c8d45ae4a48f793c909c3de86773c",
            "74b39027b8cf4af180ad06828eb9f9f7",
            "68ce0ee32bc040e684819e6807293af5",
            "857209a2c458449e9696ba63fa633f31",
            "d78aa9342f9945b4807d334956271214",
            "3958f4f371b74535a95af7d04ecffd26",
            "bb6f3739b103423d86a6ed673120fe13",
            "ec2fcd31edac45a5a4cdc41855996cc7",
            "6f3f9ff3ba92444797a86cc439721492",
            "e11895bb7b984be380015298ba2e9afd",
            "c5c47e5e40694885b9310b5e5f9ef18b",
            "112c2bd7a44841cab0b6595a13d3d42a",
            "dffb3d0b203b44b2b345566543a0f066",
            "a5cc2150f31e44038f2de1af7dd373ac",
            "d7ad674e5377403e923da130b51c89e3",
            "c6fd0fac05694473bf24c5a109f98407",
            "5d3ee0a87f144786ab36ab66739f4b98",
            "fded428837b84440b56b23604f26599a",
            "8c901d0b85814ba6a4e70977fbf86863",
            "c8a8002990b344379bf921ace094fe5e",
            "beac6953f1ec42cd9c5ee8f462ca478c",
            "b1cdb6add13d42498796b7f27c9a5cc4",
            "6fbbdb1c30a649c289fd47df072e1d7c",
            "2bb973e954cf48ecb0de035537d78fa3",
            "067394b9d49141a4939fc3c59b9e0d0c",
            "6cdfd89fa63244eaa1f7b155b03e6c69",
            "868306f9e7f04e0e8c2c910670fa52b9",
            "d0ac77bcc5f84e10acaffc3aa81547c9",
            "409133f252be4d71978632b8814a4f27",
            "0249fe62e5764a32a7ecd4627284a247",
            "22acf2e0403b40559b16ba6f89c22a1f",
            "7eacdf70770d4bdb944f6d96da5e5e26",
            "ae6f7268418e417b82ca066a331ec347",
            "6509e85627734dbeb059798a9379e759",
            "49bb02972935422aa6601b119b62fa3e",
            "69a03a73111a41ab911898e56d3906f4",
            "edf0b6324a6948c892156ac1df70f516",
            "a7234e00e8f547f3bde333ca6e0f0b4b",
            "87d7e3a9748b4c8a9fd8328934004267",
            "0fd59bd2c08643dc8e6267e3e214c28c",
            "f55f49224c064504849040d03c2bc261",
            "f099021bdd48490c904189f77e08988a",
            "f6654576168144c89b924c3da9470dc7",
            "276826d589bf4930819284865cf57d0b",
            "7cd82645abad4b6d8752661f4f8e1245",
            "176cb0e863034d968ca11cfe17c4a704",
            "d4caaf45c64248a6b65a42d7b46d09e3",
            "1afcb6f56c424eb2828e703ab71b2a9e",
            "bee2e2f73ec34ef58653553e9ac58ff0",
            "7798afa5855e45ab9eeaa62ebc1e6908",
            "d4d4ab41138043ff922c3d989989b9bf",
            "54d55d978a0941279c8255c931df7e25",
            "fdb2ca77c26544628f8ce7e3b102e891",
            "5385275e328b45a4aa500ae90c58430f",
            "ce5f49b1fe704eca96d13b7f92916066",
            "7b2306ac3e244fbabcfdc80daf9fbac4",
            "afa1c63f76c443e7a213e6eee8e13935",
            "b65094e1400b45a598a84c2f61dd8c11",
            "a13591a2fbb44d4f8314025462ae1e8d",
            "68db45b6d6484849be85c31ff980a360",
            "e11b3bdd41a643d8a2d9f866a6dde2f8",
            "388296ed38c846ac9dadb063154091cc",
            "6b3ddef02fe4412cb6389d007db36ed7",
            "99f4d0a2b3a54cf68f74a3df3b054a52",
            "2fc7bf0c4fda429db929e9ff341c7c05",
            "fd8385aba68541a7a5945d9c03d5a381",
            "cc9bfff484ac4828b533e8b9d6bc07a4",
            "c2f04eb781094385b2f782f6618b09a9",
            "371a68d894ff40919fd6c4788cfdc2b3",
            "a9c31c71d7174be5a3b2d439a6d8f55f",
            "cc858587c6464b5b9deb9326ed9fa94a",
            "a026c278d1fe4fba8c9480644936adce",
            "e5717574073742fa86892c26be7d8669",
            "9d3579abd1cc4b9d9b3985c7eef42714",
            "04bee222469c48d9aba395a767a8cd89",
            "1b003eda8ead4547b3295b0012ec3e29",
            "7682e20929df4fcf8138c2c685ea0260",
            "b651f0922b0f4377ba153ff6a34debdf",
            "41e5be97aa86405e90dbfa342e9a00df",
            "e136571f8c854f1eb2c2cb927086f1ea",
            "32615a5fb2ce493482edbc59bfb9e9d4",
            "5b3a1e328a6d4103999c4e60e56faf9b",
            "0f5271bf718a4a11b2b44924b141ac9a",
            "680fef4421c244359793ba3ca1933c56",
            "4d5ec23c689b436790da0dead4beeacd",
            "f1a239cc6beb4b849e2b87a86e25c3fd",
            "66498e4dc34d422290b1e9741d27515d",
            "4f07d5fc6aa946358f3ecee68c4b2e45",
            "d4f3d9ea2ec94a07a63ba80ffce9dd7f",
            "5d6c4226cf1a4974baa0c99b8f44a0c0",
            "98e403e4abe84035b4b37315b5bb8a30",
            "b31ad55fd4504ecc9090091469d23f3e",
            "f7b092bb8d9c443f8d5115c905a03e2e",
            "76bc6fe39bd34765a52df1d081462cb8",
            "1425c3bed0714c24ba274af23c12b772",
            "ff02f323b80a41b997847c9d1e1e431a",
            "0912650397ac42fe85a760056c19183f",
            "e82fccb47222464384e2c657ed7e5efb",
            "e34348dc19fd450dad6efcdc6bf7eead",
            "5e2dd99c95dc48d6a155b50a76300574",
            "7295ef2a9f57457d98d065f9a5a98d0e",
            "43ac78bd8d494a318e26baa5c1563b01",
            "158f44e990a245f4a06fb3b7b50c0d1d",
            "e24828642aa44e8792c09d9d3f3de4f1",
            "7853812bcaf143ffa2b5eea00a911af4",
            "214dcfa380e545d187bb738f5bab7ba5",
            "7a8f8b2ee8e7494bbb753469a44ab732",
            "a46b1d13e96640e5b6fe8caef938a3c6",
            "0cabb59fd5d2486e88777371ede19c66",
            "87ff89d6b5514377919562bf87b9563a",
            "63b1f471b2684d3b9e2eae740c80c5ae",
            "2fa0fcd2a2e3466c8fdedb029f261738",
            "a1fd773ca27d4521b8a0fadaec49e78c",
            "f77f85ac0da74724b83db9ae14dd310e",
            "50683459c4c4477990bd9467bc0fe18f",
            "0b4bc4b693ca44929c86104b252fe7d0",
            "84be8bcdd95f4fe2bc31c0a231b1c195",
            "cfef633cc9eb467aa8636696c1ada976",
            "74c019f812a74e248a72d5ad9bc5397c",
            "c526ab7aa80c4ba986c81ce14b2782f5",
            "e75a74b1b496428582d32bcbcd7c9617",
            "07f9cc36638b4fb2aa40719b2ee97ded",
            "f3a3b44de18a4e5799f6da6bfd08c5be",
            "09ff11a45ada4ba38aca739f3e580e6d"
          ]
        },
        "id": "7yDa_VNOzNgu",
        "outputId": "428f254b-6504-4d37-b5aa-d1a0fc806a83"
      },
      "execution_count": 5,
      "outputs": [
        {
          "output_type": "display_data",
          "data": {
            "text/plain": [
              "Downloading:   0%|          | 0.00/391 [00:00<?, ?B/s]"
            ],
            "application/vnd.jupyter.widget-view+json": {
              "version_major": 2,
              "version_minor": 0,
              "model_id": "d4efeb75e9f7479b82eb67aa1ca843be"
            }
          },
          "metadata": {}
        },
        {
          "output_type": "display_data",
          "data": {
            "text/plain": [
              "Downloading:   0%|          | 0.00/190 [00:00<?, ?B/s]"
            ],
            "application/vnd.jupyter.widget-view+json": {
              "version_major": 2,
              "version_minor": 0,
              "model_id": "0282b4e960854ac2bf31b8e5c544cfec"
            }
          },
          "metadata": {}
        },
        {
          "output_type": "display_data",
          "data": {
            "text/plain": [
              "Downloading:   0%|          | 0.00/3.95k [00:00<?, ?B/s]"
            ],
            "application/vnd.jupyter.widget-view+json": {
              "version_major": 2,
              "version_minor": 0,
              "model_id": "857209a2c458449e9696ba63fa633f31"
            }
          },
          "metadata": {}
        },
        {
          "output_type": "display_data",
          "data": {
            "text/plain": [
              "Downloading:   0%|          | 0.00/2.00 [00:00<?, ?B/s]"
            ],
            "application/vnd.jupyter.widget-view+json": {
              "version_major": 2,
              "version_minor": 0,
              "model_id": "d7ad674e5377403e923da130b51c89e3"
            }
          },
          "metadata": {}
        },
        {
          "output_type": "display_data",
          "data": {
            "text/plain": [
              "Downloading:   0%|          | 0.00/625 [00:00<?, ?B/s]"
            ],
            "application/vnd.jupyter.widget-view+json": {
              "version_major": 2,
              "version_minor": 0,
              "model_id": "6cdfd89fa63244eaa1f7b155b03e6c69"
            }
          },
          "metadata": {}
        },
        {
          "output_type": "display_data",
          "data": {
            "text/plain": [
              "Downloading:   0%|          | 0.00/122 [00:00<?, ?B/s]"
            ],
            "application/vnd.jupyter.widget-view+json": {
              "version_major": 2,
              "version_minor": 0,
              "model_id": "edf0b6324a6948c892156ac1df70f516"
            }
          },
          "metadata": {}
        },
        {
          "output_type": "display_data",
          "data": {
            "text/plain": [
              "Downloading:   0%|          | 0.00/229 [00:00<?, ?B/s]"
            ],
            "application/vnd.jupyter.widget-view+json": {
              "version_major": 2,
              "version_minor": 0,
              "model_id": "1afcb6f56c424eb2828e703ab71b2a9e"
            }
          },
          "metadata": {}
        },
        {
          "output_type": "display_data",
          "data": {
            "text/plain": [
              "Downloading:   0%|          | 0.00/438M [00:00<?, ?B/s]"
            ],
            "application/vnd.jupyter.widget-view+json": {
              "version_major": 2,
              "version_minor": 0,
              "model_id": "a13591a2fbb44d4f8314025462ae1e8d"
            }
          },
          "metadata": {}
        },
        {
          "output_type": "display_data",
          "data": {
            "text/plain": [
              "Downloading:   0%|          | 0.00/53.0 [00:00<?, ?B/s]"
            ],
            "application/vnd.jupyter.widget-view+json": {
              "version_major": 2,
              "version_minor": 0,
              "model_id": "a9c31c71d7174be5a3b2d439a6d8f55f"
            }
          },
          "metadata": {}
        },
        {
          "output_type": "display_data",
          "data": {
            "text/plain": [
              "Downloading:   0%|          | 0.00/112 [00:00<?, ?B/s]"
            ],
            "application/vnd.jupyter.widget-view+json": {
              "version_major": 2,
              "version_minor": 0,
              "model_id": "32615a5fb2ce493482edbc59bfb9e9d4"
            }
          },
          "metadata": {}
        },
        {
          "output_type": "display_data",
          "data": {
            "text/plain": [
              "Downloading:   0%|          | 0.00/466k [00:00<?, ?B/s]"
            ],
            "application/vnd.jupyter.widget-view+json": {
              "version_major": 2,
              "version_minor": 0,
              "model_id": "b31ad55fd4504ecc9090091469d23f3e"
            }
          },
          "metadata": {}
        },
        {
          "output_type": "display_data",
          "data": {
            "text/plain": [
              "Downloading:   0%|          | 0.00/399 [00:00<?, ?B/s]"
            ],
            "application/vnd.jupyter.widget-view+json": {
              "version_major": 2,
              "version_minor": 0,
              "model_id": "158f44e990a245f4a06fb3b7b50c0d1d"
            }
          },
          "metadata": {}
        },
        {
          "output_type": "display_data",
          "data": {
            "text/plain": [
              "Downloading:   0%|          | 0.00/232k [00:00<?, ?B/s]"
            ],
            "application/vnd.jupyter.widget-view+json": {
              "version_major": 2,
              "version_minor": 0,
              "model_id": "f77f85ac0da74724b83db9ae14dd310e"
            }
          },
          "metadata": {}
        }
      ]
    },
    {
      "cell_type": "code",
      "source": [
        "sentence_embeddings = model.encode(sentences)"
      ],
      "metadata": {
        "id": "7lYiYVplzSwL"
      },
      "execution_count": 6,
      "outputs": []
    },
    {
      "cell_type": "code",
      "source": [
        "sentence_embeddings.shape"
      ],
      "metadata": {
        "colab": {
          "base_uri": "https://localhost:8080/"
        },
        "id": "btys4KEtEW23",
        "outputId": "98b7763b-c9b9-4c87-b41b-4022f87b31cb"
      },
      "execution_count": 7,
      "outputs": [
        {
          "output_type": "execute_result",
          "data": {
            "text/plain": [
              "(4, 768)"
            ]
          },
          "metadata": {},
          "execution_count": 7
        }
      ]
    },
    {
      "cell_type": "code",
      "source": [
        "from sklearn.metrics.pairwise import cosine_similarity"
      ],
      "metadata": {
        "id": "bNfoGIcREY8p"
      },
      "execution_count": 8,
      "outputs": []
    },
    {
      "cell_type": "code",
      "source": [
        "cosine_similarity(\n",
        "    [sentence_embeddings[0]],\n",
        "    sentence_embeddings[1:]\n",
        ")"
      ],
      "metadata": {
        "colab": {
          "base_uri": "https://localhost:8080/"
        },
        "id": "r2GM-MTSEbYN",
        "outputId": "5013815b-29b3-4596-e9ee-c5ccc3207e7d"
      },
      "execution_count": 9,
      "outputs": [
        {
          "output_type": "execute_result",
          "data": {
            "text/plain": [
              "array([[0.33088917, 0.72192585, 0.5548363 ]], dtype=float32)"
            ]
          },
          "metadata": {},
          "execution_count": 9
        }
      ]
    },
    {
      "cell_type": "code",
      "source": [
        "from transformers import pipeline\n",
        "\n",
        "classifier = pipeline(\"summarization\")\n",
        "classifier(\"Okay ahh thank you for allowing me to introduce myself. My name is Gauri shirmali. I am from Udaipur Rajasthan. I'm doing computer science engineering from Geetanjali Institute of technical studies.I secured 9.2 c GPA in 10, standard 73.4 Cgp ahh percentage in 12 standard. And currently an engineering my aggregate score is 77 percentage.computer sciences is omnipresent that is it is present in every field and hence I have invested these last 3.5 almost years and a developing my software skills My technical skills include programming in Python, Java, C, c++, databases I am also familiar with web development, Kubernetes, Docker, Ansible, et cetera. So these all are my technical skills. And I’ve  also used this skills to build several projects, which include user management project and attendance management project. \")"
      ],
      "metadata": {
        "colab": {
          "base_uri": "https://localhost:8080/",
          "height": 232,
          "referenced_widgets": [
            "8bf6370eb41d4518ae735fc1b112ab39",
            "0d670cdd632b4d069317468292559440",
            "2d0b58410ba64af48b5550634b6d8247",
            "46a0d75a61b147f690066a0eaf7dbe50",
            "0e5f54ae76bb4072ae349772029e9286",
            "66125cf3867e4259bd469b447c51f7a5",
            "fa339251f2ad4851b4b3798a362f36fd",
            "5f428e9a76af4a72af8b6af6458e577f",
            "8b916973f06c4785a8b5717d982af41d",
            "25d0a2e6efdf4fb3a2c6fbd583133cbc",
            "bbde40748c424f67b85219e52e5c11a1",
            "97f405dd03f042f1bf7acaa854ba538c",
            "0205e1c8eb2f441a8e49ddb6b3bd7688",
            "e20cf87f51d841229c7c6f8ec90d8831",
            "0abafe340441479194ba85ada5fb91a7",
            "5a1d91b5e65040a484d327f3c172a4d1",
            "aaff2ab7a7e348468faacdde883a876b",
            "cc8a8e6935a5480c929a63d016602e62",
            "cd71cc9b6f534b9a8c4b3da6c33098e1",
            "13e73791347b4db28ec42841888a6589",
            "2fa22f2ec5f84a27978a5619372b9b3d",
            "66b87ad0f7b74fd3ab3924c71f26c7ac",
            "cdcd9383643a472db0c39c8d914cafd3",
            "4335e75aabfd4d4097b8b4ddce97395e",
            "5979ee702efc4ee6bb8c8cc8b5e5712a",
            "4b65c5dcaafd4dcba981d30458fe7e46",
            "78da24aea23b4154a49bff6ff0013ee5",
            "e85aea38878c47518fd4398c075af940",
            "558e041272774dda81f3547442ba44a6",
            "bc3ba4f6c4064a8095124ab043a6be00",
            "ea531afccde442aca402cfc6b84aa3cf",
            "1c3b5ea4ba274653b26f10758b537757",
            "7f3e7a1152a44cfeb0d2436a5b488b6e",
            "bdff0f5170a74a99bd7c7a530d37e65b",
            "48f6d807e1fc4ab1ac54aa9689272f1f",
            "4ec79411265b48229f350d572301a7df",
            "c9962287249749048d31d1ac0e5f5550",
            "96c654a7fbd4453a9af76fda707b427b",
            "54340157f80844049db997440ff50514",
            "20ee855181284d5b82a0042625db3159",
            "a2a29dd12838441bb5d2cf51b10241c4",
            "26d56369024f4281a434ddbfba6120ad",
            "7f600f457101454cb54839d64626be8b",
            "98ad7c310043431e842837f493fe0404",
            "480d1d7293b8440bb0a083c7b727a616",
            "746a402bdafd413bae5759f638cfc527",
            "2bb5b6973a184a90985930184354897a",
            "a64e81da081448d2b5cc2d4aee570c45",
            "6178422d855f413eaa7abd3930299951",
            "af70348b09634f13b73c10d50b608eb6",
            "79347fae4db34efbae2b07c721a911aa",
            "b80fa636d9e04bb9a9621f5d037bbf41",
            "68a85faa27d94a8e9b9ab8a0267b3d95",
            "f9859a28bad84581b4b76bbf1f5093cc",
            "05f14a7e18a0486fb5c84ba147d8fec3"
          ]
        },
        "id": "OnggW4PAEeF_",
        "outputId": "f22bdd3e-6854-442b-ca33-2223b338126e"
      },
      "execution_count": 10,
      "outputs": [
        {
          "output_type": "stream",
          "name": "stderr",
          "text": [
            "No model was supplied, defaulted to sshleifer/distilbart-cnn-12-6 (https://huggingface.co/sshleifer/distilbart-cnn-12-6)\n"
          ]
        },
        {
          "output_type": "display_data",
          "data": {
            "text/plain": [
              "Downloading:   0%|          | 0.00/1.76k [00:00<?, ?B/s]"
            ],
            "application/vnd.jupyter.widget-view+json": {
              "version_major": 2,
              "version_minor": 0,
              "model_id": "8bf6370eb41d4518ae735fc1b112ab39"
            }
          },
          "metadata": {}
        },
        {
          "output_type": "display_data",
          "data": {
            "text/plain": [
              "Downloading:   0%|          | 0.00/1.14G [00:00<?, ?B/s]"
            ],
            "application/vnd.jupyter.widget-view+json": {
              "version_major": 2,
              "version_minor": 0,
              "model_id": "97f405dd03f042f1bf7acaa854ba538c"
            }
          },
          "metadata": {}
        },
        {
          "output_type": "display_data",
          "data": {
            "text/plain": [
              "Downloading:   0%|          | 0.00/26.0 [00:00<?, ?B/s]"
            ],
            "application/vnd.jupyter.widget-view+json": {
              "version_major": 2,
              "version_minor": 0,
              "model_id": "cdcd9383643a472db0c39c8d914cafd3"
            }
          },
          "metadata": {}
        },
        {
          "output_type": "display_data",
          "data": {
            "text/plain": [
              "Downloading:   0%|          | 0.00/878k [00:00<?, ?B/s]"
            ],
            "application/vnd.jupyter.widget-view+json": {
              "version_major": 2,
              "version_minor": 0,
              "model_id": "bdff0f5170a74a99bd7c7a530d37e65b"
            }
          },
          "metadata": {}
        },
        {
          "output_type": "display_data",
          "data": {
            "text/plain": [
              "Downloading:   0%|          | 0.00/446k [00:00<?, ?B/s]"
            ],
            "application/vnd.jupyter.widget-view+json": {
              "version_major": 2,
              "version_minor": 0,
              "model_id": "480d1d7293b8440bb0a083c7b727a616"
            }
          },
          "metadata": {}
        },
        {
          "output_type": "execute_result",
          "data": {
            "text/plain": [
              "[{'summary_text': ' Gauri shirmali is doing computer science engineering from Geetanjali Institute of technical studies . He secured 9.2 c GPA in 10, standard 73.4 CGP ahh percentage in 12 standard. And currently an engineering my aggregate score is 77 percentage.'}]"
            ]
          },
          "metadata": {},
          "execution_count": 10
        }
      ]
    },
    {
      "cell_type": "code",
      "source": [
        "sentences = [\n",
        "    \"Gauri shirmali is doing computer science engineering from Geetanjali Institute of technical studies .He secured 9.2 c GPA in 10, standard 73.4 CGP ahh percentage in 12 standard. And currently an engineering my aggregate score is 77 percentage.\",\n",
        "    \"Gauri shirmali\",\n",
        "    \"Geetanjali Institute\",\n",
        "    \"secured 9.2 c GPA in 10, standard 73.4 Cgp ahh percentage in 12 standard.\",\n",
        "    \"aggregate score is 77 percentage.\",\n",
        "    \"My technical skills include programming in Python, Java, C, c++, databases I am also familiar with web development, Kubernetes, Docker, Ansible, et cetera\",\n",
        "    \"projects, which include user management project and attendance management project. \"\n",
        "]"
      ],
      "metadata": {
        "id": "T4xc86eME3hZ"
      },
      "execution_count": 11,
      "outputs": []
    },
    {
      "cell_type": "code",
      "source": [
        "from sentence_transformers import SentenceTransformer\n",
        "model = SentenceTransformer('bert-base-nli-mean-tokens')"
      ],
      "metadata": {
        "id": "sI2ZTrUA-bxE"
      },
      "execution_count": 12,
      "outputs": []
    },
    {
      "cell_type": "code",
      "source": [
        "sentence_embeddings = model.encode(sentences)\n",
        "sentence_embeddings.shape"
      ],
      "metadata": {
        "colab": {
          "base_uri": "https://localhost:8080/"
        },
        "id": "GyxHmBjb-cPS",
        "outputId": "80b9533d-dd2c-4693-bb8f-be3a7070ee19"
      },
      "execution_count": 13,
      "outputs": [
        {
          "output_type": "execute_result",
          "data": {
            "text/plain": [
              "(7, 768)"
            ]
          },
          "metadata": {},
          "execution_count": 13
        }
      ]
    },
    {
      "cell_type": "code",
      "source": [
        "from sklearn.metrics.pairwise import cosine_similarity"
      ],
      "metadata": {
        "id": "_iPX8lmU_gep"
      },
      "execution_count": 14,
      "outputs": []
    },
    {
      "cell_type": "code",
      "source": [
        "cosine_similarity(\n",
        "    [sentence_embeddings[0]],\n",
        "    sentence_embeddings[1:7]\n",
        ")\n"
      ],
      "metadata": {
        "colab": {
          "base_uri": "https://localhost:8080/"
        },
        "id": "g6qAH2-B_jwJ",
        "outputId": "35efc4a6-3ac7-4ca6-b6e5-eb9df73591ba"
      },
      "execution_count": 15,
      "outputs": [
        {
          "output_type": "execute_result",
          "data": {
            "text/plain": [
              "array([[0.1711825 , 0.2546911 , 0.6589972 , 0.4233629 , 0.5254439 ,\n",
              "        0.26878345]], dtype=float32)"
            ]
          },
          "metadata": {},
          "execution_count": 15
        }
      ]
    },
    {
      "cell_type": "code",
      "source": [
        "print(sentence_embeddings)"
      ],
      "metadata": {
        "colab": {
          "base_uri": "https://localhost:8080/"
        },
        "id": "4vOBwAfT_rhg",
        "outputId": "05c66cba-1a5c-47eb-f8da-1a236f687fde"
      },
      "execution_count": 16,
      "outputs": [
        {
          "output_type": "stream",
          "name": "stdout",
          "text": [
            "[[ 1.3552468e-01  8.7694299e-01  4.5178837e-01 ... -1.9471148e-01\n",
            "   4.2937514e-01  2.7812660e-01]\n",
            " [-1.2954988e-01 -4.9273199e-01  1.5842634e+00 ... -2.5871047e-01\n",
            "  -1.6624676e-01 -1.9449186e-01]\n",
            " [ 4.5190784e-01  1.9679507e-02  1.9452318e+00 ... -1.5382759e-01\n",
            "  -2.1488489e-01  8.4851449e-03]\n",
            " ...\n",
            " [ 8.6927319e-01  6.9059357e-02  1.3052702e-01 ...  1.5602636e-01\n",
            "   9.6438885e-01 -2.5214505e-01]\n",
            " [-3.2649437e-01  8.5191727e-01  3.3402407e-01 ... -1.9884989e-01\n",
            "  -7.5990862e-01 -4.0286895e-02]\n",
            " [ 1.8768933e-01 -1.8711492e-01  1.8443505e+00 ... -8.6878770e-04\n",
            "  -8.3608043e-01  2.1248771e-02]]\n"
          ]
        }
      ]
    },
    {
      "cell_type": "code",
      "source": [
        "import nltk\n",
        "nltk.download('punkt')"
      ],
      "metadata": {
        "colab": {
          "base_uri": "https://localhost:8080/"
        },
        "id": "jtV7LOUERzRp",
        "outputId": "7e50901c-ab8d-4b14-e3d4-6bcf2866e7db"
      },
      "execution_count": 17,
      "outputs": [
        {
          "output_type": "stream",
          "name": "stdout",
          "text": [
            "[nltk_data] Downloading package punkt to /root/nltk_data...\n",
            "[nltk_data]   Unzipping tokenizers/punkt.zip.\n"
          ]
        },
        {
          "output_type": "execute_result",
          "data": {
            "text/plain": [
              "True"
            ]
          },
          "metadata": {},
          "execution_count": 17
        }
      ]
    },
    {
      "cell_type": "code",
      "source": [
        "text = \"Okay ahh thank you for allowing me to introduce myself. My name is Gauri shirmali. I am from Udaipur Rajasthan. I'm doing computer science engineering from Geetanjali Institute of technical studies. I secured 9.2 c GPA in 10, standard 73.4 Cgp ahh percentage in 12 standard. And currently an engineering my aggregate score is 77 percentage. computer sciences is omnipresent that is it is present in every field and hence I have invested these last 3.5 almost years and a developing my software skills My technical skills include programming in Python, Java, C, c++, databases I am also familiar with web development, Kubernetes, Docker, Ansible, et cetera. So these all are my technical skills. And I’ve  also used this skills to build several projects, which include user management project and attendance management project.\"\n",
        "\n",
        "a_list = nltk.tokenize.sent_tokenize(text)"
      ],
      "metadata": {
        "id": "cdSDmAlnTdvx"
      },
      "execution_count": 18,
      "outputs": []
    },
    {
      "cell_type": "code",
      "source": [
        "a_list"
      ],
      "metadata": {
        "colab": {
          "base_uri": "https://localhost:8080/"
        },
        "id": "owwWEroYTrlD",
        "outputId": "4d04bb86-847d-4239-c72b-726bbcffb116"
      },
      "execution_count": 19,
      "outputs": [
        {
          "output_type": "execute_result",
          "data": {
            "text/plain": [
              "['Okay ahh thank you for allowing me to introduce myself.',\n",
              " 'My name is Gauri shirmali.',\n",
              " 'I am from Udaipur Rajasthan.',\n",
              " \"I'm doing computer science engineering from Geetanjali Institute of technical studies.\",\n",
              " 'I secured 9.2 c GPA in 10, standard 73.4 Cgp ahh percentage in 12 standard.',\n",
              " 'And currently an engineering my aggregate score is 77 percentage.',\n",
              " 'computer sciences is omnipresent that is it is present in every field and hence I have invested these last 3.5 almost years and a developing my software skills My technical skills include programming in Python, Java, C, c++, databases I am also familiar with web development, Kubernetes, Docker, Ansible, et cetera.',\n",
              " 'So these all are my technical skills.',\n",
              " 'And I’ve  also used this skills to build several projects, which include user management project and attendance management project.']"
            ]
          },
          "metadata": {},
          "execution_count": 19
        }
      ]
    },
    {
      "cell_type": "code",
      "source": [
        "!pip install python-docx "
      ],
      "metadata": {
        "colab": {
          "base_uri": "https://localhost:8080/"
        },
        "id": "fbRs_a80WUiP",
        "outputId": "76f26650-6680-4187-9edc-97f5b0ccdb75"
      },
      "execution_count": 20,
      "outputs": [
        {
          "output_type": "stream",
          "name": "stdout",
          "text": [
            "Collecting python-docx\n",
            "  Downloading python-docx-0.8.11.tar.gz (5.6 MB)\n",
            "\u001b[K     |████████████████████████████████| 5.6 MB 13.2 MB/s \n",
            "\u001b[?25hRequirement already satisfied: lxml>=2.3.2 in /usr/local/lib/python3.7/dist-packages (from python-docx) (4.2.6)\n",
            "Building wheels for collected packages: python-docx\n",
            "  Building wheel for python-docx (setup.py) ... \u001b[?25l\u001b[?25hdone\n",
            "  Created wheel for python-docx: filename=python_docx-0.8.11-py3-none-any.whl size=184507 sha256=041039c1843b9023921eb5699a4abcd8f231caf6204dc9736d34f337f9a0838e\n",
            "  Stored in directory: /root/.cache/pip/wheels/f6/6f/b9/d798122a8b55b74ad30b5f52b01482169b445fbb84a11797a6\n",
            "Successfully built python-docx\n",
            "Installing collected packages: python-docx\n",
            "Successfully installed python-docx-0.8.11\n"
          ]
        }
      ]
    },
    {
      "cell_type": "code",
      "source": [
        "import docx\n",
        "sentences = []\n",
        "doc = docx.Document('/content/ML_Input.docx')\n",
        "for i in doc.paragraphs:\n",
        "    sentences.append(i.text)"
      ],
      "metadata": {
        "id": "TtRgy6rdUxWW"
      },
      "execution_count": 21,
      "outputs": []
    },
    {
      "cell_type": "code",
      "source": [
        "sentences"
      ],
      "metadata": {
        "colab": {
          "base_uri": "https://localhost:8080/"
        },
        "id": "fLnJZuxZVuvk",
        "outputId": "23bce443-3ac2-4c3a-e7c8-d0134a1cc737"
      },
      "execution_count": 22,
      "outputs": [
        {
          "output_type": "execute_result",
          "data": {
            "text/plain": [
              "['Yes Gauri tell me tell me something about you',\n",
              " ' ',\n",
              " \"Okay ahh thank you for allowing me to introduce myself. My name is Gauri shirmali. I am from Udaipur Rajasthan. I'm doing computer science engineering from Geetanjali Institute of technical studies. I secured 9.2 c GPA in 10, standard 73.4 Cgp ahh percentage in 12 standard. And currently an engineering my aggregate score is 77 percentage. computer sciences is omnipresent that is it is present in every field and hence I have invested these last 3.5 almost years and a developing my software skills My technical skills include programming in Python, Java, C, c++, databases I am also familiar with web development, Kubernetes, Docker, Ansible, et cetera. So these all are my technical skills. And I’ve  also used this skills to build several projects, which include user management project and attendance management project. I've also participated in smart India hackathons of which ahh in one we also got to the finals. Ahh these are my technical skills, coming to my extracurricular activities I love to dance umm particularly semi classical dance. I also like to read write and paint have been the student editor of our colleges newsletter bits and bytes. And currently I am one of the cultural heads of our students club, So I've I have also participated in several donation camps several donation camps as I am a  a member of the Rotary Club Udaipur, I consider myself as a very focused person, I’ve  and I always work towards my goals and in a very efficient manner. I am a team player and very optimistic in tough times And lastly I would like to say that why not start the journey of my success by the success of joining TCS Thank you so much.\",\n",
              " ' ',\n",
              " 'Okay ahh What are the five specific point about Tcs which makes Tcs different from the other IT MNCs?',\n",
              " ' ',\n",
              " 'Sure firstly sir ahh tcs is has a brand name, it is known it is a multinational company and it has a very good brand name and thus it would give me a good start for my career. Secondly, it has a work life balance. I have talked to many of my friends who are in Tcs and they say that Tcs gives a very good work life balance. So that is the second point. Third point is the colleagues there hardraw very futuristic in their skills. So there is a lot to learn from them. Fourthly, as Tcs is a multinational company, I would like to I would have the chance to even uhh go abroad and a meet a people of different nationalities. And lastly there as Tcs is has been in the industry for almost hundred and fifty years. So it gives me a sense of job security to some extent.',\n",
              " ' ',\n",
              " 'Okay what are the ethical values Tcs have?',\n",
              " ' ',\n",
              " \"sir like I said there is a work life balance and it a it it promotes like gender equality ,there is no like discrimination on the basis of that. And it so it's very good ethics overall.\",\n",
              " ' ',\n",
              " 'Okay okay Gauri nice talking to you , thankyou sir , and  I request kernel rathor sir to take next part of interview Right.',\n",
              " ' ',\n",
              " 'Thankyou so much sir',\n",
              " ' ',\n",
              " 'Good afternoon',\n",
              " ' ',\n",
              " 'Good afternoon sir',\n",
              " ' ',\n",
              " 'All prepare',\n",
              " ' ',\n",
              " 'Yes sir',\n",
              " ' ',\n",
              " 'Okay Tell us which other campus interviews Have you appeared for and what has been the results?',\n",
              " ' ',\n",
              " \"So I have interviewed for darnet, which is an depor only and I got selected for it. I also interviewed for gateway industries. I was not selected in the interview I got to the interview part but was not selected So that's it. I've only given these interviews.\",\n",
              " ' ',\n",
              " \"Okay Have you analyzed Why you didn't get selected for gateway?\",\n",
              " ' ',\n",
              " 'Sir in gateway I might have not answered the technical questions very well as compared to the other candidates.',\n",
              " ' ',\n",
              " 'Okay so how have you prepared for TCS interview now?',\n",
              " ' ',\n",
              " \"Sir I have an enhanced my technical skills I have been preparing for the core subjects, and I've been doing coding almost every day So I think that I prepared quite well For Tcs.\",\n",
              " ' ',\n",
              " 'Okay ahhh umm  Gauri tell me what are your future plans?',\n",
              " ' ',\n",
              " 'Sir my future plans sir if I join TCS or otherwise',\n",
              " ' ',\n",
              " 'What are your future plans ?',\n",
              " ' ',\n",
              " \"Sir I want to join a software company and a work for it. And I want to a learn as much ah like as much languages and as much skills as I can and I also want to achieve great success so that I'm satisfied with what I've learned\",\n",
              " ' ',\n",
              " 'Okay ah what do you think are the reasons for youngsters switching over jobs?',\n",
              " ' ',\n",
              " 'Sir maybe it is job satisfaction because they enter a company without a a seeing the background of the company and then they later find out that the company was not suitable for them.',\n",
              " ' ',\n",
              " \"Okay. That's for you, what are the three important things ah that ah one should consider before joining any organization as a fresher?\",\n",
              " ' ',\n",
              " 'So firstly the one should look if there is a lot to learn from the company, I mean, there should be a very steep like growing curve in the company. Secondly, they should be like the colleagues and everything should be very frank so that they help you in every way and thirdly  for me there should be a brand name so that there is a satisfaction that yes I have achieved a level and now I can go to the next level.',\n",
              " ' ',\n",
              " 'Okay technically what gives you job satisfaction?',\n",
              " ' ',\n",
              " 'Sir technically the latest I want to go with latest technical skills, like not obsolete technologies, but the latest technologies.',\n",
              " ' ',\n",
              " 'So how does TCS fit into your requirement?',\n",
              " ' ',\n",
              " 'Sir tcs changes with technologies according to the needs of the people of the or so there is not a there is no fixed technology that they use they use according to the clients which is very well.',\n",
              " ' ',\n",
              " 'which are the major clients of TCS? Can you name three or four of them?',\n",
              " ' ',\n",
              " \"I'm sorry sir but I'm not aware of the clients.\",\n",
              " ' ',\n",
              " 'Okay sure anything that you want to ask?',\n",
              " ' ',\n",
              " 'Sir will I be able to like fit in the company? I mean what do you think?',\n",
              " ' ',\n",
              " 'Will you be able to fit into the company?',\n",
              " ' ',\n",
              " 'Yes sir',\n",
              " ' ',\n",
              " \"Yeah, as per your own analysis, you said you're a good team player and what requirements you said for a good job in case you have those qualities I'm sure you will be able to fit into.\",\n",
              " ' ',\n",
              " 'Okay, sir, thank you any more suggestions for me?',\n",
              " ' ',\n",
              " 'No nothing more adventure will finally give his remarks.',\n",
              " ' ',\n",
              " 'Thank you so much sir.',\n",
              " ' ',\n",
              " 'All the best right',\n",
              " ' ',\n",
              " 'Gauri',\n",
              " ' ',\n",
              " 'Yes sir',\n",
              " ' ',\n",
              " 'What is your basically the aim you want to go into software companies or anything more than that?',\n",
              " ' ',\n",
              " 'No sir I want to go into software companies that is aim',\n",
              " ' ',\n",
              " \"okay. You don't want to go for any higher studies or entrepreneurship like.\",\n",
              " ' ',\n",
              " 'No sir entrepreneurship No  but the highest studies many of the companies Tcs also provide like conc simultaneously highest studies So that may also be a very good option.',\n",
              " ' ',\n",
              " \"Okay for example you have got you have got the offer from Tcs Or at the same time Meanwhile you're getting the better offer than Tcs from another organization which is not a tier one organization but tier two organization but the packages just develop what we are offering then what you will do?\",\n",
              " ' ',\n",
              " 'a sir I compare both the companies in terms of the',\n",
              " ' ',\n",
              " \"defiantly I’ve told the tcs is the tier one and you've got the offer from tier two it means the startup or midsize company with the package for example, we are giving you four lakh they are giving you eight lakh in that case what do you do?\",\n",
              " ' ',\n",
              " \" Sir I choose Tcs only because Tcs is like almost hundred and fifty years old company so it it has a very good job security. And as I cannot really trust a startup because they are new in the industry, and that's why there is there might be some trust issues so i\",\n",
              " ' ',\n",
              " 'At least salary does not matter for you ?',\n",
              " ' ',\n",
              " 'Sir job security is more important than a salary',\n",
              " ' ',\n",
              " 'if you will not perform well in the tcs also you can get the job insecurity in tcs also.',\n",
              " ' ',\n",
              " 'Sir but I will perform good and I would like from my end there will be no complaints from Tcs.',\n",
              " ' ',\n",
              " 'Okay yeah',\n",
              " ' ',\n",
              " 'Gauri',\n",
              " ' ',\n",
              " 'Good afternoon sir',\n",
              " ' ',\n",
              " 'Good afternoon ah which domain you feel comfortable?',\n",
              " ' ',\n",
              " 'Ah sir core subject subjects programming C++ , DBMS Yes sir.',\n",
              " ' ',\n",
              " 'So, give me a concept to implement snake and ladder.',\n",
              " ' ',\n",
              " 'implement Snakes and Ladders using any programming language?',\n",
              " ' ',\n",
              " \"I want to know only concept not the implementation Okay I'm giving you the one minute\",\n",
              " ' ',\n",
              " 'Hmm  sir can I write something',\n",
              " ' ',\n",
              " ' Yes yes but I need only logic right not the coding a code part.',\n",
              " ' ',\n",
              " 'Ok sir',\n",
              " ' ',\n",
              " 'Hua Gauri',\n",
              " ' ',\n",
              " 'Yes sir thoda thoda ah sir we can',\n",
              " ' ',\n",
              " 'Verbaly btao to bus when I can analyze that you are going in the right direction or not.',\n",
              " ' ',\n",
              " 'Okay sir ah so ah firstly a we will the will like a this for example of how how many columns are there for example, I take disk of fifty the maximum we take a fifty and then now we take dice. so a variable in which we will take a random function with the help of random function, we can derive a number between one to six and for the first for the first move, if the numbers random number is six, then we can move like we can keep a counter of the player. so we can increase the counter with the numbers that comes in the dice. And then now we can predefine the snakes for example, if at if we reach five then the the counter should like increased by 10 blocks. so the counter will increase by ten block That is the ladder and this way we can like pre define the next.',\n",
              " ' ',\n",
              " \"My next is the how you will how you will determine whether to you have to increment its dice value means you you own to use it's increasing the counter value in form of ladder yes sir or you have to decrement the counter value in form of snake. so how you will determine it.\",\n",
              " ' ',\n",
              " \"Sir with the help of functions. For example, if the dice value for if if the dice value or the that block value in which the counter is right now is five so I have assigned five already that five is a ladder, so then it will increase and for example if 12 is a snake then I've already defined that at 12 you need to decrement the value by for example FIFO or whatever. So I will predefined\",\n",
              " ' ',\n",
              " 'where you will predefined these values?',\n",
              " ' ',\n",
              " \"So I can use a dictionary to like if I'm doing in Python then I can use it dictonary.\",\n",
              " ' ',\n",
              " \"If we are using C then and C++, Java there we doesn't have any dictionary\",\n",
              " ' ',\n",
              " 'Then sir we can ah we can use array of arrays and then like make dictionary with the help of arrays',\n",
              " ' ',\n",
              " 'Okay yes can we switch or not there?',\n",
              " ' ',\n",
              " 'switch yes hnn but so we can use but it is too long like we will have to write the code many times in switch',\n",
              " ' ',\n",
              " 'why many times we can define a in switch global or anywhere then we can use it',\n",
              " ' ',\n",
              " 'cause switch for snake and switch for a ladder two separate switches we can use yes sir that we can',\n",
              " ' ',\n",
              " 'ahh so what do you mean by the encapsulation is Divyansh answer is correct.',\n",
              " ' ',\n",
              " 'Sir partially it is correct it is used for data hiding but more data security. So aa in our class it is implemented using access modifiers like public protected private and there is a default access specifier as well. So ahh using these we can a define the scope of the variables or the functions like if it is public then it can be used all through and if it is protected then only the subclasses can use it and if private then only the current class can use it.',\n",
              " ' ',\n",
              " 'What do you mean by storage classes ?',\n",
              " ' ',\n",
              " 'A storage classes sir im no able to recall ive a',\n",
              " ' ',\n",
              " 'Okay gauri all the best',\n",
              " ' ',\n",
              " 'Thankyou so much',\n",
              " ' ',\n",
              " 'Explore more and more Tcs technical interview questions right? Ok sir They are basically mainly from C and C++.',\n",
              " ' ',\n",
              " 'Okay sir ill keep that in mind thankyou so much sir all the best thank you',\n",
              " ' ',\n",
              " 'A from my side and rathor sir interview my remark for you definitely you are the good candidate that we have already observed many time ahh technical knowledge I have not checked out your head of department CAC will check it out but a you can easily correct the process.',\n",
              " ' ',\n",
              " 'Okay thank you so much sir',\n",
              " ' ',\n",
              " \"Or a when you are clear about your thought process then at least it should be justified when you are giving the interviews Yes sir sure it is very important ok sir if they feel that you want to come but you can not come then then there is a chances they can drop you. Either you are a good candidate or the best for example Google want to hire somebody or they find the candidate which is having the capabilities to get a caror package in a anom. But they have the doubt that no doubt is the best but they have the doubt that either he'll join or not. then might be they can drop so yes that kind of condition in the interview at least shoud not be so case.\",\n",
              " ' ',\n",
              " \"Okay I'll keep that in mind sir thank you\",\n",
              " ' ',\n",
              " 'Otherwise all set all right ok',\n",
              " ' ',\n",
              " 'Thank you',\n",
              " ' ',\n",
              " 'Thank you sir',\n",
              " ' ',\n",
              " '']"
            ]
          },
          "metadata": {},
          "execution_count": 22
        }
      ]
    },
    {
      "cell_type": "code",
      "source": [
        "for i in range(2, len(sentences)):\n",
        "    if(sentences[i]==' 'or sentences[i]==''):\n",
        "      continue\n",
        "\n",
        "    print(i)\n",
        "    a_list = nltk.tokenize.sent_tokenize(sentences[i])\n",
        "    arr = []\n",
        "    summary=classifier(sentences[i])\n",
        "    arr.append(summary)\n",
        "    arr.extend(a_list)\n",
        "    print(arr)\n",
        "    sentence_embeddings = model.encode(arr)\n",
        "    print(cosine_similarity(\n",
        "    [sentence_embeddings[0]],\n",
        "    sentence_embeddings[1:]\n",
        "    ))"
      ],
      "metadata": {
        "colab": {
          "base_uri": "https://localhost:8080/"
        },
        "id": "2GwCGcFjZ3Ia",
        "outputId": "3ca79ead-94f0-4754-bbe1-73e1c357a9f5"
      },
      "execution_count": 23,
      "outputs": [
        {
          "output_type": "stream",
          "name": "stdout",
          "text": [
            "2\n",
            "[[{'summary_text': ' Gauri shirmali is doing computer science engineering from Geetanjali Institute of technical studies in Rajasthan . Her technical skills include programming in Python, Java, C, c++, databases and web development . She is a team player and very optimistic in tough times .'}], 'Okay ahh thank you for allowing me to introduce myself.', 'My name is Gauri shirmali.', 'I am from Udaipur Rajasthan.', \"I'm doing computer science engineering from Geetanjali Institute of technical studies.\", 'I secured 9.2 c GPA in 10, standard 73.4 Cgp ahh percentage in 12 standard.', 'And currently an engineering my aggregate score is 77 percentage.', 'computer sciences is omnipresent that is it is present in every field and hence I have invested these last 3.5 almost years and a developing my software skills My technical skills include programming in Python, Java, C, c++, databases I am also familiar with web development, Kubernetes, Docker, Ansible, et cetera.', 'So these all are my technical skills.', 'And I’ve  also used this skills to build several projects, which include user management project and attendance management project.', \"I've also participated in smart India hackathons of which ahh in one we also got to the finals.\", 'Ahh these are my technical skills, coming to my extracurricular activities I love to dance umm particularly semi classical dance.', 'I also like to read write and paint have been the student editor of our colleges newsletter bits and bytes.', \"And currently I am one of the cultural heads of our students club, So I've I have also participated in several donation camps several donation camps as I am a  a member of the Rotary Club Udaipur, I consider myself as a very focused person, I’ve  and I always work towards my goals and in a very efficient manner.\", 'I am a team player and very optimistic in tough times And lastly I would like to say that why not start the journey of my success by the success of joining TCS Thank you so much.']\n"
          ]
        },
        {
          "output_type": "stream",
          "name": "stderr",
          "text": [
            "Your max_length is set to 142, but you input_length is only 27. You might consider decreasing max_length manually, e.g. summarizer('...', max_length=13)\n"
          ]
        },
        {
          "output_type": "stream",
          "name": "stdout",
          "text": [
            "[[0.3077313  0.21848789 0.2239086  0.69443285 0.33975816 0.28311658\n",
            "  0.80769074 0.48106965 0.55440617 0.6153734  0.5069115  0.55016166\n",
            "  0.61370814 0.51678324]]\n",
            "4\n",
            "[[{'summary_text': ' What are the five specific point about Tcs which makes Tcs different from the other IT MNCs? What are five specific points about the company which makes it different from others? What do you know about the five points that make Tcs unique from other IT companies? Share your knowledge of these five points .'}], 'Okay ahh What are the five specific point about Tcs which makes Tcs different from the other IT MNCs?']\n",
            "[[0.81966424]]\n",
            "6\n",
            "[[{'summary_text': ' Tcs is has a brand name, it is known it is a multinational company and it has a very good brand name and thus it would give me a good start for my career . I would like to I would have the chance to go abroad and a meet a people of different nationalities . And lastly there as Tcs has been in the industry for almost hundred and fifty years, it gives me a sense of job security .'}], 'Sure firstly sir ahh tcs is has a brand name, it is known it is a multinational company and it has a very good brand name and thus it would give me a good start for my career.', 'Secondly, it has a work life balance.', 'I have talked to many of my friends who are in Tcs and they say that Tcs gives a very good work life balance.', 'So that is the second point.', 'Third point is the colleagues there hardraw very futuristic in their skills.', 'So there is a lot to learn from them.', 'Fourthly, as Tcs is a multinational company, I would like to I would have the chance to even uhh go abroad and a meet a people of different nationalities.', 'And lastly there as Tcs is has been in the industry for almost hundred and fifty years.', 'So it gives me a sense of job security to some extent.']\n"
          ]
        },
        {
          "output_type": "stream",
          "name": "stderr",
          "text": [
            "Your max_length is set to 142, but you input_length is only 12. You might consider decreasing max_length manually, e.g. summarizer('...', max_length=6)\n"
          ]
        },
        {
          "output_type": "stream",
          "name": "stdout",
          "text": [
            "[[0.8712046  0.4293663  0.67566705 0.08238296 0.46004337 0.390631\n",
            "  0.75883305 0.5501946  0.549788  ]]\n",
            "8\n",
            "[[{'summary_text': ' Okay what are the ethical values Tcs have? Okay . Okay . What do you have? Please tell us what your ethical values are? Please send us a video of your own . Send it to CNN iReport: Share your photos of yourself with us at iReport .'}], 'Okay what are the ethical values Tcs have?']\n"
          ]
        },
        {
          "output_type": "stream",
          "name": "stderr",
          "text": [
            "Your max_length is set to 142, but you input_length is only 43. You might consider decreasing max_length manually, e.g. summarizer('...', max_length=21)\n"
          ]
        },
        {
          "output_type": "stream",
          "name": "stdout",
          "text": [
            "[[0.48254558]]\n",
            "10\n",
            "[[{'summary_text': ' There is a work life balance and it promotes like gender equality ,there is no like discrimination on the basis of that. And it so it so is very good ethics overall. sir like I said there is a very good ethical ethics overall,’s very good .'}], 'sir like I said there is a work life balance and it a it it promotes like gender equality ,there is no like discrimination on the basis of that.', \"And it so it's very good ethics overall.\"]\n"
          ]
        },
        {
          "output_type": "stream",
          "name": "stderr",
          "text": [
            "Your max_length is set to 142, but you input_length is only 33. You might consider decreasing max_length manually, e.g. summarizer('...', max_length=16)\n"
          ]
        },
        {
          "output_type": "stream",
          "name": "stdout",
          "text": [
            "[[0.9242003 0.7327193]]\n",
            "12\n",
            "[[{'summary_text': ' Gauri asks kernel rathor to take next part of interview right. Okay okay okay Gauri nice talking to you , thankyou sir . Gauri says she wants kernel to take part in interview right now. Gauri: \"I am happy to talk to Gauri again. I am very happy to see the end of the interview\"'}], 'Okay okay Gauri nice talking to you , thankyou sir , and  I request kernel rathor sir to take next part of interview Right.']\n"
          ]
        },
        {
          "output_type": "stream",
          "name": "stderr",
          "text": [
            "Your max_length is set to 142, but you input_length is only 7. You might consider decreasing max_length manually, e.g. summarizer('...', max_length=3)\n"
          ]
        },
        {
          "output_type": "stream",
          "name": "stdout",
          "text": [
            "[[0.8666799]]\n",
            "14\n",
            "[[{'summary_text': \" Thankyou so much sir. Thank you so much for your kind of kind of words . I love you all over the world. I can't wait to hear from you again. I'm so happy to see you back in the U.S. for the first time.\"}], 'Thankyou so much sir']\n"
          ]
        },
        {
          "output_type": "stream",
          "name": "stderr",
          "text": [
            "Your max_length is set to 142, but you input_length is only 4. You might consider decreasing max_length manually, e.g. summarizer('...', max_length=2)\n"
          ]
        },
        {
          "output_type": "stream",
          "name": "stdout",
          "text": [
            "[[0.6169123]]\n",
            "16\n",
            "[[{'summary_text': \" CNN.com will feature iReporter photos in a weekly Travel Snapshots gallery . Please submit your best shots of the day for next week's gallery of snapshots . Visit http://www.dailymailonline.com/Travel next Friday for a new look at the gallery of iReporters.com .\"}], 'Good afternoon']\n"
          ]
        },
        {
          "output_type": "stream",
          "name": "stderr",
          "text": [
            "Your max_length is set to 142, but you input_length is only 5. You might consider decreasing max_length manually, e.g. summarizer('...', max_length=2)\n"
          ]
        },
        {
          "output_type": "stream",
          "name": "stdout",
          "text": [
            "[[0.17096989]]\n",
            "18\n",
            "[[{'summary_text': \" Good afternoon sir. Good afternoon Sir. I'm going to tell you what I really want to do . I'm looking forward to seeing you again. Please send your best wishes to see if you know you can still see you in good spirits . Have you ever seen him? Please email him to say hello to him.\"}], 'Good afternoon sir']\n"
          ]
        },
        {
          "output_type": "stream",
          "name": "stderr",
          "text": [
            "Your max_length is set to 142, but you input_length is only 4. You might consider decreasing max_length manually, e.g. summarizer('...', max_length=2)\n"
          ]
        },
        {
          "output_type": "stream",
          "name": "stdout",
          "text": [
            "[[0.61182755]]\n",
            "20\n",
            "[[{'summary_text': \" All prepare for the first time in a week to prepare for President Obama's visit to the U.S. House of Representatives in Washington, D.C. Rep. Joe Biden is scheduled to appear on CNN.com Live on Sunday at 9 p.m. ET .\"}], 'All prepare']\n"
          ]
        },
        {
          "output_type": "stream",
          "name": "stderr",
          "text": [
            "Your max_length is set to 142, but you input_length is only 4. You might consider decreasing max_length manually, e.g. summarizer('...', max_length=2)\n"
          ]
        },
        {
          "output_type": "stream",
          "name": "stdout",
          "text": [
            "[[0.02015819]]\n",
            "22\n",
            "[[{'summary_text': ' Yes sir. Yes sir . Yes sir, please please please tell me . Please tell us what you want to do . Yes, please. Yes, yes, yes. Yes. Yes . No, no, yes sir. No, yes . No. No. I want to say yes .'}], 'Yes sir']\n"
          ]
        },
        {
          "output_type": "stream",
          "name": "stderr",
          "text": [
            "Your max_length is set to 142, but you input_length is only 20. You might consider decreasing max_length manually, e.g. summarizer('...', max_length=10)\n"
          ]
        },
        {
          "output_type": "stream",
          "name": "stdout",
          "text": [
            "[[0.523392]]\n",
            "24\n",
            "[[{'summary_text': ' Okay Tell us which other campus interviews have you appeared for and what has been the results? Have you ever appeared for a campus interview? Tell us what you have done and what you think about the results of the interviews? Send us your thoughts to iReport@mailonline.com .'}], 'Okay Tell us which other campus interviews Have you appeared for and what has been the results?']\n"
          ]
        },
        {
          "output_type": "stream",
          "name": "stderr",
          "text": [
            "Your max_length is set to 142, but you input_length is only 59. You might consider decreasing max_length manually, e.g. summarizer('...', max_length=29)\n"
          ]
        },
        {
          "output_type": "stream",
          "name": "stdout",
          "text": [
            "[[0.86723715]]\n",
            "26\n",
            "[[{'summary_text': \" So I have interviewed for darnet, which is an depor only and I got selected for it . I also interviewed for gateway industries. I got to the interview part but was not selected . So that's it. I've only given these interviews. So that is it .\"}], 'So I have interviewed for darnet, which is an depor only and I got selected for it.', 'I also interviewed for gateway industries.', \"I was not selected in the interview I got to the interview part but was not selected So that's it.\", \"I've only given these interviews.\"]\n"
          ]
        },
        {
          "output_type": "stream",
          "name": "stderr",
          "text": [
            "Your max_length is set to 142, but you input_length is only 15. You might consider decreasing max_length manually, e.g. summarizer('...', max_length=7)\n"
          ]
        },
        {
          "output_type": "stream",
          "name": "stdout",
          "text": [
            "[[0.85339725 0.49980557 0.75231373 0.688388  ]]\n",
            "28\n",
            "[[{'summary_text': \" Okay Have you analyzed Why you didn't get selected for gateway? Why not you get selected by gateway? Okay. Okay. Why not us selected? Why didn't we get selected to gateway? Please submit your analysis for the next week's list of reasons why you were selected to be selected .\"}], \"Okay Have you analyzed Why you didn't get selected for gateway?\"]\n"
          ]
        },
        {
          "output_type": "stream",
          "name": "stderr",
          "text": [
            "Your max_length is set to 142, but you input_length is only 22. You might consider decreasing max_length manually, e.g. summarizer('...', max_length=11)\n"
          ]
        },
        {
          "output_type": "stream",
          "name": "stdout",
          "text": [
            "[[0.7551352]]\n",
            "30\n",
            "[[{'summary_text': ' Sir in gateway I might have not answered technical questions very well, compared to the other candidates. Sir in gatekeeper I might not have answered the technical questions . Sir in his first interview, he said: ‘I might have . not answered . very well . compared to other candidates’'}], 'Sir in gateway I might have not answered the technical questions very well as compared to the other candidates.']\n"
          ]
        },
        {
          "output_type": "stream",
          "name": "stderr",
          "text": [
            "Your max_length is set to 142, but you input_length is only 14. You might consider decreasing max_length manually, e.g. summarizer('...', max_length=7)\n"
          ]
        },
        {
          "output_type": "stream",
          "name": "stdout",
          "text": [
            "[[0.85388744]]\n",
            "32\n",
            "[[{'summary_text': ' TCS interview will be aired on November 11 at 8pm ET . Interview will be on November 14 at 8.30pm ET on CNN.com.com Live . Follow CNN Living on Facebook and Twitter for more information about TCS interviews.com/Follow CNN Living .'}], 'Okay so how have you prepared for TCS interview now?']\n"
          ]
        },
        {
          "output_type": "stream",
          "name": "stderr",
          "text": [
            "Your max_length is set to 142, but you input_length is only 40. You might consider decreasing max_length manually, e.g. summarizer('...', max_length=20)\n"
          ]
        },
        {
          "output_type": "stream",
          "name": "stdout",
          "text": [
            "[[0.36573505]]\n",
            "34\n",
            "[[{'summary_text': \" Sir I have an enhanced my technical skills I have been preparing for the core subjects, and I've been doing coding almost every day . So I think that I prepared quite well For Tcs. Sir I'm confident that I will be able to do well at the end of the year .\"}], \"Sir I have an enhanced my technical skills I have been preparing for the core subjects, and I've been doing coding almost every day So I think that I prepared quite well For Tcs.\"]\n"
          ]
        },
        {
          "output_type": "stream",
          "name": "stderr",
          "text": [
            "Your max_length is set to 142, but you input_length is only 18. You might consider decreasing max_length manually, e.g. summarizer('...', max_length=9)\n"
          ]
        },
        {
          "output_type": "stream",
          "name": "stdout",
          "text": [
            "[[0.94449484]]\n",
            "36\n",
            "[[{'summary_text': ' Gauri tell me what are your future plans? Okay ahhh umm  Gauri tells me what she plans to do with her career . Gauri says she has no plans for her life . She says she wants to see more of her career as a model and actress .'}], 'Okay ahhh umm  Gauri tell me what are your future plans?']\n"
          ]
        },
        {
          "output_type": "stream",
          "name": "stderr",
          "text": [
            "Your max_length is set to 142, but you input_length is only 14. You might consider decreasing max_length manually, e.g. summarizer('...', max_length=7)\n"
          ]
        },
        {
          "output_type": "stream",
          "name": "stdout",
          "text": [
            "[[0.4248408]]\n",
            "38\n",
            "[[{'summary_text': \" Sir my future plans sir if I join TCS or otherwise if I joined TCS, or otherwise . Sir my plans sir are Sir Myles' future plans Sir Sir Sir if he joins TCS . Sir Sir my . future plans are Sir Sir . if I Join TCS \\xa0or otherwise, Sir Sir I'm not sure if I want to join .\"}], 'Sir my future plans sir if I join TCS or otherwise']\n"
          ]
        },
        {
          "output_type": "stream",
          "name": "stderr",
          "text": [
            "Your max_length is set to 142, but you input_length is only 8. You might consider decreasing max_length manually, e.g. summarizer('...', max_length=4)\n"
          ]
        },
        {
          "output_type": "stream",
          "name": "stdout",
          "text": [
            "[[0.8359319]]\n",
            "40\n",
            "[[{'summary_text': ' What are your future plans ? Share your pictures with us at iReport.com . Please submit your photos of your future in the gallery for a new gallery . Visit www.report.com/pictures/images for more information about your future . Visit http://www.pictures@picturesonline.com for more photos .'}], 'What are your future plans ?']\n"
          ]
        },
        {
          "output_type": "stream",
          "name": "stderr",
          "text": [
            "Your max_length is set to 142, but you input_length is only 54. You might consider decreasing max_length manually, e.g. summarizer('...', max_length=27)\n"
          ]
        },
        {
          "output_type": "stream",
          "name": "stdout",
          "text": [
            "[[0.35781726]]\n",
            "42\n",
            "[[{'summary_text': \" Sir I want to join a software company and a work for it, he says . And he wants to a learn as much languages and as much skills as I can . He also wants to achieve great success so that he's satisfied with what he's learned . Sir I Want to a join software company, he said .\"}], 'Sir I want to join a software company and a work for it.', \"And I want to a learn as much ah like as much languages and as much skills as I can and I also want to achieve great success so that I'm satisfied with what I've learned\"]\n"
          ]
        },
        {
          "output_type": "stream",
          "name": "stderr",
          "text": [
            "Your max_length is set to 142, but you input_length is only 17. You might consider decreasing max_length manually, e.g. summarizer('...', max_length=8)\n"
          ]
        },
        {
          "output_type": "stream",
          "name": "stdout",
          "text": [
            "[[0.73952746 0.7802837 ]]\n",
            "44\n",
            "[[{'summary_text': ' What do you think are the reasons for youngsters switching over jobs? Please share your thoughts with us at CNN iReport.com . Have you ever been to a job? Please submit your thoughts at the end of the article. Please email us at http://www.mailonlineonline.com/news/change/changechange .'}], 'Okay ah what do you think are the reasons for youngsters switching over jobs?']\n"
          ]
        },
        {
          "output_type": "stream",
          "name": "stderr",
          "text": [
            "Your max_length is set to 142, but you input_length is only 37. You might consider decreasing max_length manually, e.g. summarizer('...', max_length=18)\n"
          ]
        },
        {
          "output_type": "stream",
          "name": "stdout",
          "text": [
            "[[0.61146337]]\n",
            "46\n",
            "[[{'summary_text': ' Sir maybe it is job satisfaction because they enter a company without a a a seeing the background of the company and then they later find out that the company was not suitable for them . Sir Maybe it is that they enter companies without a view of the background and then find out they are not suitable .'}], 'Sir maybe it is job satisfaction because they enter a company without a a seeing the background of the company and then they later find out that the company was not suitable for them.']\n"
          ]
        },
        {
          "output_type": "stream",
          "name": "stderr",
          "text": [
            "Your max_length is set to 142, but you input_length is only 30. You might consider decreasing max_length manually, e.g. summarizer('...', max_length=15)\n"
          ]
        },
        {
          "output_type": "stream",
          "name": "stdout",
          "text": [
            "[[0.97523624]]\n",
            "48\n",
            "[[{'summary_text': \" What are the three important things ah that ah one should consider before joining any organization as a fresher? That's for you, what are the 3 important things you should consider? What's the three most important things that ah should consider, and what's the most important thing you should do?\"}], 'Okay.', \"That's for you, what are the three important things ah that ah one should consider before joining any organization as a fresher?\"]\n"
          ]
        },
        {
          "output_type": "stream",
          "name": "stderr",
          "text": [
            "Your max_length is set to 142, but you input_length is only 93. You might consider decreasing max_length manually, e.g. summarizer('...', max_length=46)\n"
          ]
        },
        {
          "output_type": "stream",
          "name": "stdout",
          "text": [
            "[[0.13171296 0.93474084]]\n",
            "50\n",
            "[[{'summary_text': ' The one should look if there is a lot to learn from the company, I mean, there should be a very steep like growing curve in the company. Secondly, they should be like the colleagues and everything should be very frank so that they help you in every way . For me,  for me there should have a brand name so that there is  satisfaction that yes I have achieved a level .'}], 'So firstly the one should look if there is a lot to learn from the company, I mean, there should be a very steep like growing curve in the company.', 'Secondly, they should be like the colleagues and everything should be very frank so that they help you in every way and thirdly  for me there should be a brand name so that there is a satisfaction that yes I have achieved a level and now I can go to the next level.']\n"
          ]
        },
        {
          "output_type": "stream",
          "name": "stderr",
          "text": [
            "Your max_length is set to 142, but you input_length is only 10. You might consider decreasing max_length manually, e.g. summarizer('...', max_length=5)\n"
          ]
        },
        {
          "output_type": "stream",
          "name": "stdout",
          "text": [
            "[[0.81326276 0.85819423]]\n",
            "52\n",
            "[[{'summary_text': ' Okay technically technically what gives you job satisfaction? What do you give you the job satisfaction of your job? What gives you that satisfaction? \"What gives you a job satisfaction?\" \"I love my job,\" she says. \"I like my job. I like it. I love it\"'}], 'Okay technically what gives you job satisfaction?']\n"
          ]
        },
        {
          "output_type": "stream",
          "name": "stderr",
          "text": [
            "Your max_length is set to 142, but you input_length is only 25. You might consider decreasing max_length manually, e.g. summarizer('...', max_length=12)\n"
          ]
        },
        {
          "output_type": "stream",
          "name": "stdout",
          "text": [
            "[[0.7473887]]\n",
            "54\n",
            "[[{'summary_text': ' \"I want to go with latest technical skills, like not obsolete technologies, but the latest technologies,\" says Sir Richard Hammond . Sir Hammond says he wants to go ahead with the latest technology skills, not obsolete technology, but latest technologies . He says he is looking to take on the challenge of the world\\'s most powerful technology .'}], 'Sir technically the latest I want to go with latest technical skills, like not obsolete technologies, but the latest technologies.']\n"
          ]
        },
        {
          "output_type": "stream",
          "name": "stderr",
          "text": [
            "Your max_length is set to 142, but you input_length is only 12. You might consider decreasing max_length manually, e.g. summarizer('...', max_length=6)\n"
          ]
        },
        {
          "output_type": "stream",
          "name": "stdout",
          "text": [
            "[[0.86333555]]\n",
            "56\n",
            "[[{'summary_text': \" So how does TCS fit into your requirement? So how do you fit into that requirement? TCS fits into your requirements? So does it fit into a requirement? How do you know what you need to do to make sure you're going to be able to get the best job?\"}], 'So how does TCS fit into your requirement?']\n"
          ]
        },
        {
          "output_type": "stream",
          "name": "stderr",
          "text": [
            "Your max_length is set to 142, but you input_length is only 42. You might consider decreasing max_length manually, e.g. summarizer('...', max_length=21)\n"
          ]
        },
        {
          "output_type": "stream",
          "name": "stdout",
          "text": [
            "[[0.66216046]]\n",
            "58\n",
            "[[{'summary_text': ' Sir tcs changes with technologies according to the needs of the people of the . or so there is not a there is no fixed technology that they use they use . They use according to . the clients which is very well, says Sir Tcs. Sir TCS .'}], 'Sir tcs changes with technologies according to the needs of the people of the or so there is not a there is no fixed technology that they use they use according to the clients which is very well.']\n"
          ]
        },
        {
          "output_type": "stream",
          "name": "stderr",
          "text": [
            "Your max_length is set to 142, but you input_length is only 20. You might consider decreasing max_length manually, e.g. summarizer('...', max_length=10)\n"
          ]
        },
        {
          "output_type": "stream",
          "name": "stdout",
          "text": [
            "[[0.9187043]]\n",
            "60\n",
            "[[{'summary_text': ' which are the major clients of TCS? Can you name three or four of them? TCS is a global technology consulting firm that is based in New York City, New York, Washington, D.C. which are based in the U.S. can name a few of the clients of the company .'}], 'which are the major clients of TCS?', 'Can you name three or four of them?']\n"
          ]
        },
        {
          "output_type": "stream",
          "name": "stderr",
          "text": [
            "Your max_length is set to 142, but you input_length is only 15. You might consider decreasing max_length manually, e.g. summarizer('...', max_length=7)\n"
          ]
        },
        {
          "output_type": "stream",
          "name": "stdout",
          "text": [
            "[[0.55252314 0.3993361 ]]\n",
            "62\n",
            "[[{'summary_text': \" I'm sorry sir but I'm not aware of the clients. I'm sure you're aware of your clients. Please tell me if you have any clients you have clients . I don't know what clients are, I'm just not sure if they have clients, it's not a client .\"}], \"I'm sorry sir but I'm not aware of the clients.\"]\n"
          ]
        },
        {
          "output_type": "stream",
          "name": "stderr",
          "text": [
            "Your max_length is set to 142, but you input_length is only 11. You might consider decreasing max_length manually, e.g. summarizer('...', max_length=5)\n"
          ]
        },
        {
          "output_type": "stream",
          "name": "stdout",
          "text": [
            "[[0.80567914]]\n",
            "64\n",
            "[[{'summary_text': ' Okay sure anything that you want to ask? Okay . Okay sure . Okay . What do you have to say to anyone who has a question? Please email us at CNN.com/Heroes.com for more information . Please submit your questions to the Daily Mail Online home .'}], 'Okay sure anything that you want to ask?']\n"
          ]
        },
        {
          "output_type": "stream",
          "name": "stderr",
          "text": [
            "Your max_length is set to 142, but you input_length is only 21. You might consider decreasing max_length manually, e.g. summarizer('...', max_length=10)\n"
          ]
        },
        {
          "output_type": "stream",
          "name": "stdout",
          "text": [
            "[[0.23807104]]\n",
            "66\n",
            "[[{'summary_text': \" Sir will I be able to like fit in the company? I mean what do you think? I don't think it's a good idea, Sir . I mean, I think it would be a good thing for the company. Sir will it be a great thing for me? I think I would like fit here, Sir will you fit here?\"}], 'Sir will I be able to like fit in the company?', 'I mean what do you think?']\n"
          ]
        },
        {
          "output_type": "stream",
          "name": "stderr",
          "text": [
            "Your max_length is set to 142, but you input_length is only 12. You might consider decreasing max_length manually, e.g. summarizer('...', max_length=6)\n"
          ]
        },
        {
          "output_type": "stream",
          "name": "stdout",
          "text": [
            "[[0.81951493 0.32180628]]\n",
            "68\n",
            "[[{'summary_text': ' Will you be able to fit into the company? Share your thoughts with us at CNN iReport . Share your own photos of your favorite moments of your life . Share them with us on iReport.com . Visit CNN.com/Travel next Wednesday for a new look at our gallery of snapshots .'}], 'Will you be able to fit into the company?']\n"
          ]
        },
        {
          "output_type": "stream",
          "name": "stderr",
          "text": [
            "Your max_length is set to 142, but you input_length is only 4. You might consider decreasing max_length manually, e.g. summarizer('...', max_length=2)\n"
          ]
        },
        {
          "output_type": "stream",
          "name": "stdout",
          "text": [
            "[[0.3401838]]\n",
            "70\n",
            "[[{'summary_text': ' Yes sir. Yes sir . Yes sir, please please please tell me . Please tell us what you want to do . Yes, please. Yes, yes, yes. Yes. Yes . No, no, yes sir. No, yes . No. No. I want to say yes .'}], 'Yes sir']\n"
          ]
        },
        {
          "output_type": "stream",
          "name": "stderr",
          "text": [
            "Your max_length is set to 142, but you input_length is only 44. You might consider decreasing max_length manually, e.g. summarizer('...', max_length=22)\n"
          ]
        },
        {
          "output_type": "stream",
          "name": "stdout",
          "text": [
            "[[0.523392]]\n",
            "72\n",
            "[[{'summary_text': \" As per your own analysis, you said you're a good team player and what requirements you said for a good job in case you have those qualities, I'm sure you will be able to fit into. Yeah, as per my own analysis . I'm not sure whether you will fit into the role, but you will have to be a team player .\"}], \"Yeah, as per your own analysis, you said you're a good team player and what requirements you said for a good job in case you have those qualities I'm sure you will be able to fit into.\"]\n"
          ]
        },
        {
          "output_type": "stream",
          "name": "stderr",
          "text": [
            "Your max_length is set to 142, but you input_length is only 14. You might consider decreasing max_length manually, e.g. summarizer('...', max_length=7)\n"
          ]
        },
        {
          "output_type": "stream",
          "name": "stdout",
          "text": [
            "[[0.9378958]]\n",
            "74\n",
            "[[{'summary_text': ' Okay, sir, thank you any more suggestions for me? Please come up with your own suggestions for a new name . Please submit your suggestions for the new name of your new name. Please submit a photo of your favorite new name for next week’s new name, please .'}], 'Okay, sir, thank you any more suggestions for me?']\n"
          ]
        },
        {
          "output_type": "stream",
          "name": "stderr",
          "text": [
            "Your max_length is set to 142, but you input_length is only 12. You might consider decreasing max_length manually, e.g. summarizer('...', max_length=6)\n"
          ]
        },
        {
          "output_type": "stream",
          "name": "stdout",
          "text": [
            "[[0.618968]]\n",
            "76\n",
            "[[{'summary_text': ' \"No nothing more adventure will finally give his remarks,\" he said . \"No. No nothing more adventures will give him the opportunity to give his speech,\" he added. \"He will give it to the world,\" he insisted. \"It\\'s a good thing for the world to know what\\'s going to happen.\"'}], 'No nothing more adventure will finally give his remarks.']\n"
          ]
        },
        {
          "output_type": "stream",
          "name": "stderr",
          "text": [
            "Your max_length is set to 142, but you input_length is only 8. You might consider decreasing max_length manually, e.g. summarizer('...', max_length=4)\n"
          ]
        },
        {
          "output_type": "stream",
          "name": "stdout",
          "text": [
            "[[0.7446486]]\n",
            "78\n",
            "[[{'summary_text': \" Thank you so much sir. Thank you for your kind of words. I'm sure you'll be able to hear from you again. I'll be happy to see you back in the comments. Please send us a video of your thoughts. We'll see you in the next few days.\"}], 'Thank you so much sir.']\n"
          ]
        },
        {
          "output_type": "stream",
          "name": "stderr",
          "text": [
            "Your max_length is set to 142, but you input_length is only 6. You might consider decreasing max_length manually, e.g. summarizer('...', max_length=3)\n"
          ]
        },
        {
          "output_type": "stream",
          "name": "stdout",
          "text": [
            "[[0.5824866]]\n",
            "80\n",
            "[[{'summary_text': \" All the best right right right from the start of this week's coverage of the U.S. election . CNN.com will feature iReporter photos in a weekly Travel Snapshots gallery . Please submit your best shots of the election for next week's gallery . Visit CNN iReport.com/Travel next Friday for a new gallery of snapshots .\"}], 'All the best right']\n"
          ]
        },
        {
          "output_type": "stream",
          "name": "stderr",
          "text": [
            "Your max_length is set to 142, but you input_length is only 4. You might consider decreasing max_length manually, e.g. summarizer('...', max_length=2)\n"
          ]
        },
        {
          "output_type": "stream",
          "name": "stdout",
          "text": [
            "[[-0.00290926]]\n",
            "82\n",
            "[[{'summary_text': ' Gauri Gauri is the author of a new book, \"Gauriauri\" Gauri . Gauri was born in India . She is famous for her work in the U.S. and travels around the world . She has been married for more than 30 years and has a daughter .'}], 'Gauri']\n"
          ]
        },
        {
          "output_type": "stream",
          "name": "stderr",
          "text": [
            "Your max_length is set to 142, but you input_length is only 4. You might consider decreasing max_length manually, e.g. summarizer('...', max_length=2)\n"
          ]
        },
        {
          "output_type": "stream",
          "name": "stdout",
          "text": [
            "[[0.10844874]]\n",
            "84\n",
            "[[{'summary_text': ' Yes sir. Yes sir . Yes sir, please please please tell me . Please tell us what you want to do . Yes, please. Yes, yes, yes. Yes. Yes . No, no, yes sir. No, yes . No. No. I want to say yes .'}], 'Yes sir']\n"
          ]
        },
        {
          "output_type": "stream",
          "name": "stderr",
          "text": [
            "Your max_length is set to 142, but you input_length is only 21. You might consider decreasing max_length manually, e.g. summarizer('...', max_length=10)\n"
          ]
        },
        {
          "output_type": "stream",
          "name": "stdout",
          "text": [
            "[[0.523392]]\n",
            "86\n",
            "[[{'summary_text': ' What is your basically the aim you want to go into software companies or anything more than that? What is the aim of your goal? \"I want to be in software companies,\" he says. \"I don\\'t want to do anything more that that,\" he asks. \"What\\'s your aim?\"'}], 'What is your basically the aim you want to go into software companies or anything more than that?']\n"
          ]
        },
        {
          "output_type": "stream",
          "name": "stderr",
          "text": [
            "Your max_length is set to 142, but you input_length is only 14. You might consider decreasing max_length manually, e.g. summarizer('...', max_length=7)\n"
          ]
        },
        {
          "output_type": "stream",
          "name": "stdout",
          "text": [
            "[[0.8935226]]\n",
            "88\n",
            "[[{'summary_text': ' No sir I want to go into software companies that is aimed at software companies, he says . No sir, he wants to focus on software companies like Apple, Google, Apple, Microsoft, Apple and Google . He wants to work in software companies such as Apple, Facebook, Google and Microsoft .'}], 'No sir I want to go into software companies that is aim']\n"
          ]
        },
        {
          "output_type": "stream",
          "name": "stderr",
          "text": [
            "Your max_length is set to 142, but you input_length is only 18. You might consider decreasing max_length manually, e.g. summarizer('...', max_length=9)\n"
          ]
        },
        {
          "output_type": "stream",
          "name": "stdout",
          "text": [
            "[[0.7875094]]\n",
            "90\n",
            "[[{'summary_text': \" You don't want to go for any higher studies or entrepreneurship like. okay. You want to focus on entrepreneurship or entrepreneurship . okay. Don't go for higher studies like. higher studies, entrepreneurship like . okay . Don't be afraid of going for higher education or entrepreneurship, she says .\"}], 'okay.', \"You don't want to go for any higher studies or entrepreneurship like.\"]\n"
          ]
        },
        {
          "output_type": "stream",
          "name": "stderr",
          "text": [
            "Your max_length is set to 142, but you input_length is only 34. You might consider decreasing max_length manually, e.g. summarizer('...', max_length=17)\n"
          ]
        },
        {
          "output_type": "stream",
          "name": "stdout",
          "text": [
            "[[-0.04277096  0.76188827]]\n",
            "92\n",
            "[[{'summary_text': ' No sir entrepreneurship No. but the highest studies many of the companies Tcs also provide like conc simultaneously highest studies . So that may also be a very good option. No sir entrepreneur No. entrepreneurship No . entrepreneurship No  but  but the best studies many companies also provide .'}], 'No sir entrepreneurship No  but the highest studies many of the companies Tcs also provide like conc simultaneously highest studies So that may also be a very good option.']\n"
          ]
        },
        {
          "output_type": "stream",
          "name": "stderr",
          "text": [
            "Your max_length is set to 142, but you input_length is only 60. You might consider decreasing max_length manually, e.g. summarizer('...', max_length=30)\n"
          ]
        },
        {
          "output_type": "stream",
          "name": "stdout",
          "text": [
            "[[0.9322197]]\n",
            "94\n",
            "[[{'summary_text': \" The packages just develop what we are offering then what you will do? Or at the same time Meanwhile you're getting the better offer than Tcs from another organization which is not a tier one organization but tier two organization but the packages just become more and more of a package .\"}], \"Okay for example you have got you have got the offer from Tcs Or at the same time Meanwhile you're getting the better offer than Tcs from another organization which is not a tier one organization but tier two organization but the packages just develop what we are offering then what you will do?\"]\n"
          ]
        },
        {
          "output_type": "stream",
          "name": "stderr",
          "text": [
            "Your max_length is set to 142, but you input_length is only 13. You might consider decreasing max_length manually, e.g. summarizer('...', max_length=6)\n"
          ]
        },
        {
          "output_type": "stream",
          "name": "stdout",
          "text": [
            "[[0.94441307]]\n",
            "96\n",
            "[[{'summary_text': ' a sir I compare both the companies in terms of terms of the time they spent together . a sir . I compare them to each other. a sir, a sir. I compare this to the time I spent with the U.S. government. a . sir . A sir .'}], 'a sir I compare both the companies in terms of the']\n"
          ]
        },
        {
          "output_type": "stream",
          "name": "stderr",
          "text": [
            "Your max_length is set to 142, but you input_length is only 59. You might consider decreasing max_length manually, e.g. summarizer('...', max_length=29)\n"
          ]
        },
        {
          "output_type": "stream",
          "name": "stdout",
          "text": [
            "[[0.8021505]]\n",
            "98\n",
            "[[{'summary_text': \" The tcs is the tier one and you've got the offer from tier two it means the startup or midsize company with the package for example, we are giving you four lakh they are giving them eight lakh in that case what do you do? I’ve told the tcs. defiantly .\"}], \"defiantly I’ve told the tcs is the tier one and you've got the offer from tier two it means the startup or midsize company with the package for example, we are giving you four lakh they are giving you eight lakh in that case what do you do?\"]\n"
          ]
        },
        {
          "output_type": "stream",
          "name": "stderr",
          "text": [
            "Your max_length is set to 142, but you input_length is only 61. You might consider decreasing max_length manually, e.g. summarizer('...', max_length=30)\n"
          ]
        },
        {
          "output_type": "stream",
          "name": "stdout",
          "text": [
            "[[0.98262566]]\n",
            "100\n",
            "[[{'summary_text': \" Sir I choose Tcs only because Tcs is like almost hundred and fifty years old company so it it has a very good job security . And as I cannot really trust a startup because they are new in the industry, and that's why there is there might be some trust issues so i .\"}], ' Sir I choose Tcs only because Tcs is like almost hundred and fifty years old company so it it has a very good job security.', \"And as I cannot really trust a startup because they are new in the industry, and that's why there is there might be some trust issues so i\"]\n"
          ]
        },
        {
          "output_type": "stream",
          "name": "stderr",
          "text": [
            "Your max_length is set to 142, but you input_length is only 11. You might consider decreasing max_length manually, e.g. summarizer('...', max_length=5)\n"
          ]
        },
        {
          "output_type": "stream",
          "name": "stdout",
          "text": [
            "[[0.85884047 0.811349  ]]\n",
            "102\n",
            "[[{'summary_text': \" At least salary does not matter for you ? At least Salary does not matters for you . At least salaries do not matter, says CNN.com's John Defterios.com.com . In the U.S. state of Washington, D.C., the state of the nation's capital, is located in Washington, DC .\"}], 'At least salary does not matter for you ?']\n"
          ]
        },
        {
          "output_type": "stream",
          "name": "stderr",
          "text": [
            "Your max_length is set to 142, but you input_length is only 11. You might consider decreasing max_length manually, e.g. summarizer('...', max_length=5)\n"
          ]
        },
        {
          "output_type": "stream",
          "name": "stdout",
          "text": [
            "[[0.5913414]]\n",
            "104\n",
            "[[{'summary_text': \" Sir job security is more important than a salary, says Sir Sir Sir . Sir Sir Michael Clarke-Clarke says job security and job security are more important . Sir Clarke says he wants job security, not salary, but job security . He says he has 'nothing to give' as a result of his success in his career .\"}], 'Sir job security is more important than a salary']\n"
          ]
        },
        {
          "output_type": "stream",
          "name": "stderr",
          "text": [
            "Your max_length is set to 142, but you input_length is only 24. You might consider decreasing max_length manually, e.g. summarizer('...', max_length=12)\n"
          ]
        },
        {
          "output_type": "stream",
          "name": "stdout",
          "text": [
            "[[0.7509257]]\n",
            "106\n",
            "[[{'summary_text': ' If you will not perform well in the tcs also you can get the job insecurity in tcs . You can get a job insecurity also in the role of a tcs. if you will . not . perform well, you can also get the . job insecurity . if you are not . performing well in  tcs, you will have to perform well .'}], 'if you will not perform well in the tcs also you can get the job insecurity in tcs also.']\n"
          ]
        },
        {
          "output_type": "stream",
          "name": "stderr",
          "text": [
            "Your max_length is set to 142, but you input_length is only 24. You might consider decreasing max_length manually, e.g. summarizer('...', max_length=12)\n"
          ]
        },
        {
          "output_type": "stream",
          "name": "stdout",
          "text": [
            "[[0.91980624]]\n",
            "108\n",
            "[[{'summary_text': ' I would like from my end there will be no complaints from Tcs. Sir but I will perform good and I will ... perform good,\" he said . \"I would like to see no complaints\" from the Tcs, he said, but he would be happy if he performed good .'}], 'Sir but I will perform good and I would like from my end there will be no complaints from Tcs.']\n"
          ]
        },
        {
          "output_type": "stream",
          "name": "stderr",
          "text": [
            "Your max_length is set to 142, but you input_length is only 4. You might consider decreasing max_length manually, e.g. summarizer('...', max_length=2)\n"
          ]
        },
        {
          "output_type": "stream",
          "name": "stdout",
          "text": [
            "[[0.8405138]]\n",
            "110\n",
            "[[{'summary_text': ' Okay yeah yeah. Okay yeah . Okay yeah. What\\'s going on here? What\\'s really going on with this? \"I\\'m going on to tell you what\\'s really happening,\" he says . What\\'s next? \"What\\'s next?\" he asks. \"What really happened?\" he says.'}], 'Okay yeah']\n"
          ]
        },
        {
          "output_type": "stream",
          "name": "stderr",
          "text": [
            "Your max_length is set to 142, but you input_length is only 4. You might consider decreasing max_length manually, e.g. summarizer('...', max_length=2)\n"
          ]
        },
        {
          "output_type": "stream",
          "name": "stdout",
          "text": [
            "[[0.2963236]]\n",
            "112\n",
            "[[{'summary_text': ' Gauri Gauri is the author of a new book, \"Gauriauri\" Gauri . Gauri was born in India . She is famous for her work in the U.S. and travels around the world . She has been married for more than 30 years and has a daughter .'}], 'Gauri']\n"
          ]
        },
        {
          "output_type": "stream",
          "name": "stderr",
          "text": [
            "Your max_length is set to 142, but you input_length is only 5. You might consider decreasing max_length manually, e.g. summarizer('...', max_length=2)\n"
          ]
        },
        {
          "output_type": "stream",
          "name": "stdout",
          "text": [
            "[[0.10844874]]\n",
            "114\n",
            "[[{'summary_text': \" Good afternoon sir. Good afternoon Sir. I'm going to tell you what I really want to do . I'm looking forward to seeing you again. Please send your best wishes to see if you know you can still see you in good spirits . Have you ever seen him? Please email him to say hello to him.\"}], 'Good afternoon sir']\n"
          ]
        },
        {
          "output_type": "stream",
          "name": "stderr",
          "text": [
            "Your max_length is set to 142, but you input_length is only 11. You might consider decreasing max_length manually, e.g. summarizer('...', max_length=5)\n"
          ]
        },
        {
          "output_type": "stream",
          "name": "stdout",
          "text": [
            "[[0.61182755]]\n",
            "116\n",
            "[[{'summary_text': ' Good afternoon ah which domain you feel comfortable? Please tell us if you like to use the domain name of your preferred domain . I like to see your domain name in which domain name is appropriate . Please choose which domain is appropriate for your use of the domain, please use it .'}], 'Good afternoon ah which domain you feel comfortable?']\n"
          ]
        },
        {
          "output_type": "stream",
          "name": "stderr",
          "text": [
            "Your max_length is set to 142, but you input_length is only 16. You might consider decreasing max_length manually, e.g. summarizer('...', max_length=8)\n"
          ]
        },
        {
          "output_type": "stream",
          "name": "stdout",
          "text": [
            "[[0.72842574]]\n",
            "118\n",
            "[[{'summary_text': ' Core subject subjects programming C++ and DBMS . Yes sir. Ah sir . Ah sir. Yes sir . Core subject subject subjects . Programming C++ , DBMS programming C ++ and programming CMS DBMS is a core subject of the subject subject . Yes, yes .'}], 'Ah sir core subject subjects programming C++ , DBMS Yes sir.']\n"
          ]
        },
        {
          "output_type": "stream",
          "name": "stderr",
          "text": [
            "Your max_length is set to 142, but you input_length is only 14. You might consider decreasing max_length manually, e.g. summarizer('...', max_length=7)\n"
          ]
        },
        {
          "output_type": "stream",
          "name": "stdout",
          "text": [
            "[[0.938709]]\n",
            "120\n",
            "[[{'summary_text': ' So, give me a concept to implement snake and ladder . So, please give me an idea of how to use the ladder and snake to get a ladder to reach the top of the pyramid. So, how do you do it? Please give us a concept of snake-and-ladders .'}], 'So, give me a concept to implement snake and ladder.']\n"
          ]
        },
        {
          "output_type": "stream",
          "name": "stderr",
          "text": [
            "Your max_length is set to 142, but you input_length is only 13. You might consider decreasing max_length manually, e.g. summarizer('...', max_length=6)\n"
          ]
        },
        {
          "output_type": "stream",
          "name": "stdout",
          "text": [
            "[[0.8869171]]\n",
            "122\n",
            "[[{'summary_text': ' Snakes and Ladders can be played using any programming language . How do you play Snakes Ladders using a programming language? Do you know how to use Snakes to Ladders? Use any language or programming language to play the game using any language you can use .'}], 'implement Snakes and Ladders using any programming language?']\n"
          ]
        },
        {
          "output_type": "stream",
          "name": "stderr",
          "text": [
            "Your max_length is set to 142, but you input_length is only 19. You might consider decreasing max_length manually, e.g. summarizer('...', max_length=9)\n"
          ]
        },
        {
          "output_type": "stream",
          "name": "stdout",
          "text": [
            "[[0.8143102]]\n",
            "124\n",
            "[[{'summary_text': \" I want to know only concept not the implementation, not the idea . I'm giving you the one minute. Okay, give me one minute . Give me a minute to tell you what you think you need to know about the project. I want you to know what you want to do with it .\"}], \"I want to know only concept not the implementation Okay I'm giving you the one minute\"]\n"
          ]
        },
        {
          "output_type": "stream",
          "name": "stderr",
          "text": [
            "Your max_length is set to 142, but you input_length is only 9. You might consider decreasing max_length manually, e.g. summarizer('...', max_length=4)\n"
          ]
        },
        {
          "output_type": "stream",
          "name": "stdout",
          "text": [
            "[[0.8556956]]\n",
            "126\n",
            "[[{'summary_text': \" Hmm  sir can I write something? I think I'm going to write something here? I'm not sure what I would like to do . I'm sure you can't write something, but please please write something for you to see if you want to write a piece of your own .\"}], 'Hmm  sir can I write something']\n"
          ]
        },
        {
          "output_type": "stream",
          "name": "stderr",
          "text": [
            "Your max_length is set to 142, but you input_length is only 18. You might consider decreasing max_length manually, e.g. summarizer('...', max_length=9)\n"
          ]
        },
        {
          "output_type": "stream",
          "name": "stdout",
          "text": [
            "[[0.6521889]]\n",
            "128\n",
            "[[{'summary_text': ' \"Yes yes but I need only logic right not the coding a code part.  Yes yes,\" says the author of the book . \"I need logic right.   Yes, but I don\\'t need to code code part,\" says author of \"Yes, yes, yes. Yes, yes\"'}], ' Yes yes but I need only logic right not the coding a code part.']\n"
          ]
        },
        {
          "output_type": "stream",
          "name": "stderr",
          "text": [
            "Your max_length is set to 142, but you input_length is only 4. You might consider decreasing max_length manually, e.g. summarizer('...', max_length=2)\n"
          ]
        },
        {
          "output_type": "stream",
          "name": "stdout",
          "text": [
            "[[0.7877623]]\n",
            "130\n",
            "[[{'summary_text': \" Ok sir. Ok sir . Ok sir, please tell me what happened to you? Ok . Ok, I'm fine. Ok . I'm OK. Ok. Ok, you're OK. I'm not OK. What's next? Ok, please please. I'll be OK .\"}], 'Ok sir']\n"
          ]
        },
        {
          "output_type": "stream",
          "name": "stderr",
          "text": [
            "Your max_length is set to 142, but you input_length is only 5. You might consider decreasing max_length manually, e.g. summarizer('...', max_length=2)\n"
          ]
        },
        {
          "output_type": "stream",
          "name": "stdout",
          "text": [
            "[[0.47276098]]\n",
            "132\n",
            "[[{'summary_text': ' Hua Gauri is a member of the world\\'s largest conservation group of conservationists . She is also known for her work in the U.S. National Geographic Geographic Geographic Network . She has published a book called \"Hua Gauri\" and \"Gauri\" in which she shares her views of her work on conservation .'}], 'Hua Gauri']\n"
          ]
        },
        {
          "output_type": "stream",
          "name": "stderr",
          "text": [
            "Your max_length is set to 142, but you input_length is only 12. You might consider decreasing max_length manually, e.g. summarizer('...', max_length=6)\n"
          ]
        },
        {
          "output_type": "stream",
          "name": "stdout",
          "text": [
            "[[0.13667375]]\n",
            "134\n",
            "[[{'summary_text': \" Yes sir thoda thoda . ah sir we can. Yes sir . We can. We can, we can, I say . Yes sir. Ah sir, we're fine. We're fine, we say we can . We'll be in touch with you again. Please tell us what we can do .\"}], 'Yes sir thoda thoda ah sir we can']\n"
          ]
        },
        {
          "output_type": "stream",
          "name": "stderr",
          "text": [
            "Your max_length is set to 142, but you input_length is only 24. You might consider decreasing max_length manually, e.g. summarizer('...', max_length=12)\n"
          ]
        },
        {
          "output_type": "stream",
          "name": "stdout",
          "text": [
            "[[0.7296661]]\n",
            "136\n",
            "[[{'summary_text': ' Verbaly btao to bus when I can analyze that you are going in the right direction or not . Verbaly: \"I can\\'t say if I think you\\'re doing the right way or not.\" Verbaly says he will not give up on the bus when he gets to the bus .'}], 'Verbaly btao to bus when I can analyze that you are going in the right direction or not.']\n",
            "[[0.8324702]]\n",
            "138\n",
            "[[{'summary_text': ' A variable in which we will take a random function with the help of random function, we can derive a number between one to six . For the first for the first move, if the numbers random number is six, then we can move like we can keep a counter of the player . And then now now we can predefine the snakes for example, if at if we reach five then the the counter should like increased by 10 blocks . That is the ladder and this way we can like pre define the next .'}], 'Okay sir ah so ah firstly a we will the will like a this for example of how how many columns are there for example, I take disk of fifty the maximum we take a fifty and then now we take dice.', 'so a variable in which we will take a random function with the help of random function, we can derive a number between one to six and for the first for the first move, if the numbers random number is six, then we can move like we can keep a counter of the player.', 'so we can increase the counter with the numbers that comes in the dice.', 'And then now we can predefine the snakes for example, if at if we reach five then the the counter should like increased by 10 blocks.', 'so the counter will increase by ten block That is the ladder and this way we can like pre define the next.']\n"
          ]
        },
        {
          "output_type": "stream",
          "name": "stderr",
          "text": [
            "Your max_length is set to 142, but you input_length is only 61. You might consider decreasing max_length manually, e.g. summarizer('...', max_length=30)\n"
          ]
        },
        {
          "output_type": "stream",
          "name": "stdout",
          "text": [
            "[[0.6511488  0.79720193 0.5370616  0.8598745  0.6149383 ]]\n",
            "140\n",
            "[[{'summary_text': \" How you will determine whether to you have to increment its dice value means you you own to use it's increasing the counter value in form of ladder or decreasing the number of snake . How will you decide whether to increase the number you own is a ladder or snake? How do you determine it?\"}], \"My next is the how you will how you will determine whether to you have to increment its dice value means you you own to use it's increasing the counter value in form of ladder yes sir or you have to decrement the counter value in form of snake.\", 'so how you will determine it.']\n"
          ]
        },
        {
          "output_type": "stream",
          "name": "stderr",
          "text": [
            "Your max_length is set to 142, but you input_length is only 90. You might consider decreasing max_length manually, e.g. summarizer('...', max_length=45)\n"
          ]
        },
        {
          "output_type": "stream",
          "name": "stdout",
          "text": [
            "[[0.9460718  0.27492815]]\n",
            "142\n",
            "[[{'summary_text': \" Sir with the help of functions. For example, if the dice value for if if if the . dice value or the that block value in which the counter is right now is . is five so I have assigned five already that five is a ladder, so then it will increase and for example if 12 is a snake then I've already defined that at 12 you need to decrement the value by for example FIFO or whatever .\"}], 'Sir with the help of functions.', \"For example, if the dice value for if if the dice value or the that block value in which the counter is right now is five so I have assigned five already that five is a ladder, so then it will increase and for example if 12 is a snake then I've already defined that at 12 you need to decrement the value by for example FIFO or whatever.\", 'So I will predefined']\n"
          ]
        },
        {
          "output_type": "stream",
          "name": "stderr",
          "text": [
            "Your max_length is set to 142, but you input_length is only 10. You might consider decreasing max_length manually, e.g. summarizer('...', max_length=5)\n"
          ]
        },
        {
          "output_type": "stream",
          "name": "stdout",
          "text": [
            "[[0.17979243 0.9754579  0.21514094]]\n",
            "144\n",
            "[[{'summary_text': ' Where you will predefined these values? Where do you have a place where you can define your values? We need to find a place to define our values? What do you do? Find a place in the world where these values can be defined by your own values? Visit CNN.com/Heroes for more information .'}], 'where you will predefined these values?']\n"
          ]
        },
        {
          "output_type": "stream",
          "name": "stderr",
          "text": [
            "Your max_length is set to 142, but you input_length is only 25. You might consider decreasing max_length manually, e.g. summarizer('...', max_length=12)\n"
          ]
        },
        {
          "output_type": "stream",
          "name": "stdout",
          "text": [
            "[[0.61376333]]\n",
            "146\n",
            "[[{'summary_text': \" Python can use a dictionary to like if I'm doing in Python then I can use it dictonary . So I can . use a . dictionary to help me understand what I am doing and what I want to do in Python . Python is a language that can be written in Python and can be used in a dictionary .\"}], \"So I can use a dictionary to like if I'm doing in Python then I can use it dictonary.\"]\n"
          ]
        },
        {
          "output_type": "stream",
          "name": "stderr",
          "text": [
            "Your max_length is set to 142, but you input_length is only 20. You might consider decreasing max_length manually, e.g. summarizer('...', max_length=10)\n"
          ]
        },
        {
          "output_type": "stream",
          "name": "stdout",
          "text": [
            "[[0.94767666]]\n",
            "148\n",
            "[[{'summary_text': \" If we are using C then and C++, Java there we doesn't have any dictionary . Java there is no dictionary for C then then and Java . Java is Java, C then, C++ and C then is Java . We don't have a dictionary for Java .\"}], \"If we are using C then and C++, Java there we doesn't have any dictionary\"]\n"
          ]
        },
        {
          "output_type": "stream",
          "name": "stderr",
          "text": [
            "Your max_length is set to 142, but you input_length is only 23. You might consider decreasing max_length manually, e.g. summarizer('...', max_length=11)\n"
          ]
        },
        {
          "output_type": "stream",
          "name": "stdout",
          "text": [
            "[[0.9523052]]\n",
            "150\n",
            "[[{'summary_text': ' We can use array of arrays and then like make dictionary with the help of arrays, we can make dictionary . Then sir we can ah we can ... use array arrays to make dictionary, then use array array of array arrays . We can also use arrays of arrays to create dictionary, make dictionary and create dictionary .'}], 'Then sir we can ah we can use array of arrays and then like make dictionary with the help of arrays']\n"
          ]
        },
        {
          "output_type": "stream",
          "name": "stderr",
          "text": [
            "Your max_length is set to 142, but you input_length is only 11. You might consider decreasing max_length manually, e.g. summarizer('...', max_length=5)\n"
          ]
        },
        {
          "output_type": "stream",
          "name": "stdout",
          "text": [
            "[[0.94677305]]\n",
            "152\n",
            "[[{'summary_text': ' Okay yes can we switch or not there? Okay yes yes . Okay yes . Can we switch? \"Yes yes,\" she says. Okay yes, not there,\" she asks. \"Can we switch?\" She says. \"Yes, yes, we switch\" She says she wants to switch .'}], 'Okay yes can we switch or not there?']\n"
          ]
        },
        {
          "output_type": "stream",
          "name": "stderr",
          "text": [
            "Your max_length is set to 142, but you input_length is only 28. You might consider decreasing max_length manually, e.g. summarizer('...', max_length=14)\n"
          ]
        },
        {
          "output_type": "stream",
          "name": "stdout",
          "text": [
            "[[0.7456305]]\n",
            "154\n",
            "[[{'summary_text': ' switch yes hnn but so we can use but it is too long like we will have to write the code many times in switch . switch yes, hnn. switch yes . switch is too short and too long for us to write code in switch code . switch code is so long that it can be used in switch function .'}], 'switch yes hnn but so we can use but it is too long like we will have to write the code many times in switch']\n"
          ]
        },
        {
          "output_type": "stream",
          "name": "stderr",
          "text": [
            "Your max_length is set to 142, but you input_length is only 19. You might consider decreasing max_length manually, e.g. summarizer('...', max_length=9)\n"
          ]
        },
        {
          "output_type": "stream",
          "name": "stdout",
          "text": [
            "[[0.9050051]]\n",
            "156\n",
            "[[{'summary_text': ' Why many times times we can define a in switch global or anywhere then we can use it? We can define an in switch globally or anywhere we want to use it. We need to be able to define a global or global switch global . We can then use a global switch globally to use the global switch switch globally .'}], 'why many times we can define a in switch global or anywhere then we can use it']\n"
          ]
        },
        {
          "output_type": "stream",
          "name": "stderr",
          "text": [
            "Your max_length is set to 142, but you input_length is only 22. You might consider decreasing max_length manually, e.g. summarizer('...', max_length=11)\n"
          ]
        },
        {
          "output_type": "stream",
          "name": "stdout",
          "text": [
            "[[0.8676609]]\n",
            "158\n",
            "[[{'summary_text': ' Cause switch for snake and switch for ladder two separate switches we can use yes sir that we can . cause switch for . snake is switch for a ladder and cause for a snake . switch for the ladder is a ladder switch for two separate switch switches . Cause switch is for snake, switch for  ladder switch is a snake switch switch for an ladder switch .'}], 'cause switch for snake and switch for a ladder two separate switches we can use yes sir that we can']\n"
          ]
        },
        {
          "output_type": "stream",
          "name": "stderr",
          "text": [
            "Your max_length is set to 142, but you input_length is only 22. You might consider decreasing max_length manually, e.g. summarizer('...', max_length=11)\n"
          ]
        },
        {
          "output_type": "stream",
          "name": "stdout",
          "text": [
            "[[0.90379083]]\n",
            "160\n",
            "[[{'summary_text': \" Divyansh answer is correct. ahh . ahh so what do you mean by the encapsulation? ahh So what do I mean? Diviansh answers is correct, ahh ahh I'm not sure what I mean by that . Divi's answer is right .\"}], 'ahh so what do you mean by the encapsulation is Divyansh answer is correct.']\n"
          ]
        },
        {
          "output_type": "stream",
          "name": "stderr",
          "text": [
            "Your max_length is set to 142, but you input_length is only 99. You might consider decreasing max_length manually, e.g. summarizer('...', max_length=49)\n"
          ]
        },
        {
          "output_type": "stream",
          "name": "stdout",
          "text": [
            "[[0.9289515]]\n",
            "162\n",
            "[[{'summary_text': ' In our class it is implemented using access modifiers like public protected private and there is a default access specifier as well . Using these we can a define the scope of the variables or functions . If it is public then it can be used all through and if it is protected then only the subclasses can use it .'}], 'Sir partially it is correct it is used for data hiding but more data security.', 'So aa in our class it is implemented using access modifiers like public protected private and there is a default access specifier as well.', 'So ahh using these we can a define the scope of the variables or the functions like if it is public then it can be used all through and if it is protected then only the subclasses can use it and if private then only the current class can use it.']\n"
          ]
        },
        {
          "output_type": "stream",
          "name": "stderr",
          "text": [
            "Your max_length is set to 142, but you input_length is only 10. You might consider decreasing max_length manually, e.g. summarizer('...', max_length=5)\n"
          ]
        },
        {
          "output_type": "stream",
          "name": "stdout",
          "text": [
            "[[0.55531526 0.8778747  0.9437524 ]]\n",
            "164\n",
            "[[{'summary_text': ' What do you mean by storage classes ? What do they mean by storing classes ? Ask about storage classes? Share your own storage classes . Share your knowledge of storage classes with iReport.com: Share your photos, videos, photos and videos of your favorite storage classes. Visit CNN.com/Stories .'}], 'What do you mean by storage classes ?']\n"
          ]
        },
        {
          "output_type": "stream",
          "name": "stderr",
          "text": [
            "Your max_length is set to 142, but you input_length is only 14. You might consider decreasing max_length manually, e.g. summarizer('...', max_length=7)\n"
          ]
        },
        {
          "output_type": "stream",
          "name": "stdout",
          "text": [
            "[[0.43772286]]\n",
            "166\n",
            "[[{'summary_text': \" A storage classes sir im no able to recall ive ive a storage class . A storage class is a storage storage class. I'm not sure if I can recall  ive any of these classes. I can't recall any of the classes I've been in storage classes .\"}], 'A storage classes sir im no able to recall ive a']\n"
          ]
        },
        {
          "output_type": "stream",
          "name": "stderr",
          "text": [
            "Your max_length is set to 142, but you input_length is only 8. You might consider decreasing max_length manually, e.g. summarizer('...', max_length=4)\n"
          ]
        },
        {
          "output_type": "stream",
          "name": "stdout",
          "text": [
            "[[0.8490202]]\n",
            "168\n",
            "[[{'summary_text': ' Gauri all the best. Okay gauri . Gauri: \"I love you. I love you\" Gauri says she is in love with Gauri again. Gauri is in a relationship with the world\\'s best friend, Ravi Agrawalu, who lives in India .'}], 'Okay gauri all the best']\n"
          ]
        },
        {
          "output_type": "stream",
          "name": "stderr",
          "text": [
            "Your max_length is set to 142, but you input_length is only 6. You might consider decreasing max_length manually, e.g. summarizer('...', max_length=3)\n"
          ]
        },
        {
          "output_type": "stream",
          "name": "stdout",
          "text": [
            "[[0.5236945]]\n",
            "170\n",
            "[[{'summary_text': ' Thankyou so much for all the support you can give . Please email us at www.mailonline.com/thankyou-so-much-worth.com . Back to the page you came from.com. Please submit your photos and videos of your favourite moments of the day .'}], 'Thankyou so much']\n"
          ]
        },
        {
          "output_type": "stream",
          "name": "stderr",
          "text": [
            "Your max_length is set to 142, but you input_length is only 25. You might consider decreasing max_length manually, e.g. summarizer('...', max_length=12)\n"
          ]
        },
        {
          "output_type": "stream",
          "name": "stdout",
          "text": [
            "[[0.5308629]]\n",
            "172\n",
            "[[{'summary_text': ' Tcs technical interview questions are basically mainly from C and C++ . They are asked about their knowledge of programming languages and programming languages . Tcs is based on C, C, and C, while C is C is written in C . C is a C-based language and C is an open-source language .'}], 'Explore more and more Tcs technical interview questions right?', 'Ok sir They are basically mainly from C and C++.']\n"
          ]
        },
        {
          "output_type": "stream",
          "name": "stderr",
          "text": [
            "Your max_length is set to 142, but you input_length is only 20. You might consider decreasing max_length manually, e.g. summarizer('...', max_length=10)\n"
          ]
        },
        {
          "output_type": "stream",
          "name": "stdout",
          "text": [
            "[[0.49526572 0.76233864]]\n",
            "174\n",
            "[[{'summary_text': ' \"I will keep that in mind thankyou so much sir all the best thank you,\" she said . \"I\\'ll keep it in mind,\" she replied . \"Thank you sir. Okay sir ill keep that   \\xa0- \\xa0thankyou . Thank you sir . All the best I say .'}], 'Okay sir ill keep that in mind thankyou so much sir all the best thank you']\n"
          ]
        },
        {
          "output_type": "stream",
          "name": "stderr",
          "text": [
            "Your max_length is set to 142, but you input_length is only 57. You might consider decreasing max_length manually, e.g. summarizer('...', max_length=28)\n"
          ]
        },
        {
          "output_type": "stream",
          "name": "stdout",
          "text": [
            "[[0.87033653]]\n",
            "176\n",
            "[[{'summary_text': ' A from my side and rathor sir interview my remark for you definitely you are the good candidate that we have already observed many time ahh technical knowledge I have not checked out your head of department CAC will check it out but a you can easily correct the process .'}], 'A from my side and rathor sir interview my remark for you definitely you are the good candidate that we have already observed many time ahh technical knowledge I have not checked out your head of department CAC will check it out but a you can easily correct the process.']\n"
          ]
        },
        {
          "output_type": "stream",
          "name": "stderr",
          "text": [
            "Your max_length is set to 142, but you input_length is only 8. You might consider decreasing max_length manually, e.g. summarizer('...', max_length=4)\n"
          ]
        },
        {
          "output_type": "stream",
          "name": "stdout",
          "text": [
            "[[0.9790683]]\n",
            "178\n",
            "[[{'summary_text': \" Okay thank you so much sir. Okay, thank you for your kind of kind of words . We'll be happy to hear you back in the comments again. Please send your best wishes to see if you can help us in the next episode of this week's iReporter coverage .\"}], 'Okay thank you so much sir']\n",
            "[[0.49070674]]\n",
            "180\n",
            "[[{'summary_text': ' If they feel that you want to come but you can not come then then then there is a chances they can drop you . Either you are a good candidate or the best for example Google want to hire somebody or they find the candidate which is having the capabilities to get a caror package in a anom . Or a when you are clear about your thought process then at least it should be justified .'}], 'Or a when you are clear about your thought process then at least it should be justified when you are giving the interviews Yes sir sure it is very important ok sir if they feel that you want to come but you can not come then then there is a chances they can drop you.', 'Either you are a good candidate or the best for example Google want to hire somebody or they find the candidate which is having the capabilities to get a caror package in a anom.', \"But they have the doubt that no doubt is the best but they have the doubt that either he'll join or not.\", 'then might be they can drop so yes that kind of condition in the interview at least shoud not be so case.']\n"
          ]
        },
        {
          "output_type": "stream",
          "name": "stderr",
          "text": [
            "Your max_length is set to 142, but you input_length is only 12. You might consider decreasing max_length manually, e.g. summarizer('...', max_length=6)\n"
          ]
        },
        {
          "output_type": "stream",
          "name": "stdout",
          "text": [
            "[[0.8245895  0.84675205 0.68199784 0.65760195]]\n",
            "182\n",
            "[[{'summary_text': ' \"I\\'ll keep that in mind sir thank you,\" she said . \"I\\'m going to keep that a little bit in mind,\" she replied . \"Thank you sir, thank you. Okay I\\'ll keep it in mind. Okay, I\\'m fine. Thank you sir . Thank you.\"'}], \"Okay I'll keep that in mind sir thank you\"]\n"
          ]
        },
        {
          "output_type": "stream",
          "name": "stderr",
          "text": [
            "Your max_length is set to 142, but you input_length is only 8. You might consider decreasing max_length manually, e.g. summarizer('...', max_length=4)\n"
          ]
        },
        {
          "output_type": "stream",
          "name": "stdout",
          "text": [
            "[[0.82033193]]\n",
            "184\n",
            "[[{'summary_text': \" Otherwise all set all right ok ok . Otherwise all right, ok. Otherwise, ok, I'll be fine. I'm fine. Otherwise I'm not fine. OK, I'm just fine. Ok, I just want to see if you're OK. I'll see if I'm OK. OK. Ok. Ok . Ok.\"}], 'Otherwise all set all right ok']\n"
          ]
        },
        {
          "output_type": "stream",
          "name": "stderr",
          "text": [
            "Your max_length is set to 142, but you input_length is only 4. You might consider decreasing max_length manually, e.g. summarizer('...', max_length=2)\n"
          ]
        },
        {
          "output_type": "stream",
          "name": "stdout",
          "text": [
            "[[0.63318264]]\n",
            "186\n",
            "[[{'summary_text': \" CNN.com will feature iReporter photos in a weekly Travel Snapshots gallery . Please submit your best shots for next week's gallery of snapshots of your favorite destinations . Visit CNN iReport.com/Travel next Wednesday for a new gallery of shots of the world's most beautiful beaches .\"}], 'Thank you']\n"
          ]
        },
        {
          "output_type": "stream",
          "name": "stderr",
          "text": [
            "Your max_length is set to 142, but you input_length is only 5. You might consider decreasing max_length manually, e.g. summarizer('...', max_length=2)\n"
          ]
        },
        {
          "output_type": "stream",
          "name": "stdout",
          "text": [
            "[[-0.03042457]]\n",
            "188\n",
            "[[{'summary_text': \" Thank you sir. Thank you for your service . Please email your photos to us at iReport@dailymailonline.co.uk . Visit CNN.com/Travel next Wednesday for a new look at the latest iReporter's weekly Travel Snapshots of the World .\"}], 'Thank you sir']\n",
            "[[0.10905378]]\n"
          ]
        }
      ]
    },
    {
      "cell_type": "code",
      "source": [
        "model.encode(sentences[2]).reshape(-1, 768).shape"
      ],
      "metadata": {
        "colab": {
          "base_uri": "https://localhost:8080/"
        },
        "id": "N1SpsMwhcBHy",
        "outputId": "3883ed6f-d4e1-400a-edd1-01b58b9b9346"
      },
      "execution_count": 24,
      "outputs": [
        {
          "output_type": "execute_result",
          "data": {
            "text/plain": [
              "(1, 768)"
            ]
          },
          "metadata": {},
          "execution_count": 24
        }
      ]
    },
    {
      "cell_type": "code",
      "source": [
        "nltk.tokenize.sent_tokenize(sentences[2])"
      ],
      "metadata": {
        "colab": {
          "base_uri": "https://localhost:8080/"
        },
        "id": "KB3uN1Kdc9r6",
        "outputId": "c5af243e-0cf7-4480-ebe0-a175c324105d"
      },
      "execution_count": 25,
      "outputs": [
        {
          "output_type": "execute_result",
          "data": {
            "text/plain": [
              "['Okay ahh thank you for allowing me to introduce myself.',\n",
              " 'My name is Gauri shirmali.',\n",
              " 'I am from Udaipur Rajasthan.',\n",
              " \"I'm doing computer science engineering from Geetanjali Institute of technical studies.\",\n",
              " 'I secured 9.2 c GPA in 10, standard 73.4 Cgp ahh percentage in 12 standard.',\n",
              " 'And currently an engineering my aggregate score is 77 percentage.',\n",
              " 'computer sciences is omnipresent that is it is present in every field and hence I have invested these last 3.5 almost years and a developing my software skills My technical skills include programming in Python, Java, C, c++, databases I am also familiar with web development, Kubernetes, Docker, Ansible, et cetera.',\n",
              " 'So these all are my technical skills.',\n",
              " 'And I’ve  also used this skills to build several projects, which include user management project and attendance management project.',\n",
              " \"I've also participated in smart India hackathons of which ahh in one we also got to the finals.\",\n",
              " 'Ahh these are my technical skills, coming to my extracurricular activities I love to dance umm particularly semi classical dance.',\n",
              " 'I also like to read write and paint have been the student editor of our colleges newsletter bits and bytes.',\n",
              " \"And currently I am one of the cultural heads of our students club, So I've I have also participated in several donation camps several donation camps as I am a  a member of the Rotary Club Udaipur, I consider myself as a very focused person, I’ve  and I always work towards my goals and in a very efficient manner.\",\n",
              " 'I am a team player and very optimistic in tough times And lastly I would like to say that why not start the journey of my success by the success of joining TCS Thank you so much.']"
            ]
          },
          "metadata": {},
          "execution_count": 25
        }
      ]
    },
    {
      "cell_type": "code",
      "source": [
        "a_list"
      ],
      "metadata": {
        "colab": {
          "base_uri": "https://localhost:8080/"
        },
        "id": "G17has1afGPR",
        "outputId": "778d9a32-be70-472f-9840-063a8d68e9a1"
      },
      "execution_count": 26,
      "outputs": [
        {
          "output_type": "execute_result",
          "data": {
            "text/plain": [
              "['Thank you sir']"
            ]
          },
          "metadata": {},
          "execution_count": 26
        }
      ]
    },
    {
      "cell_type": "code",
      "source": [
        ""
      ],
      "metadata": {
        "id": "ECKzRtMafLdY"
      },
      "execution_count": 26,
      "outputs": []
    }
  ]
}